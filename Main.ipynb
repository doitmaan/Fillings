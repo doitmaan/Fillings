{
 "cells": [
  {
   "cell_type": "code",
   "execution_count": 82,
   "metadata": {},
   "outputs": [
    {
     "name": "stdout",
     "output_type": "stream",
     "text": [
      "\u001b[33mDEPRECATION: Python 2.7 will reach the end of its life on January 1st, 2020. Please upgrade your Python as Python 2.7 won't be maintained after that date. A future version of pip will drop support for Python 2.7. More details about Python 2 support in pip, can be found at https://pip.pypa.io/en/latest/development/release-process/#python-2-support\u001b[0m\n",
      "Requirement already satisfied: requests in /usr/local/lib/python2.7/site-packages (from -r requirements.txt (line 1)) (2.24.0)\n",
      "Requirement already satisfied: ratelimit in /usr/local/lib/python2.7/site-packages (from -r requirements.txt (line 4)) (2.2.1)\n",
      "Requirement already satisfied: bs4 in /usr/local/lib/python2.7/site-packages (from -r requirements.txt (line 6)) (0.0.1)\n",
      "Requirement already satisfied: pandas in /usr/local/lib/python2.7/site-packages (from -r requirements.txt (line 8)) (0.24.2)\n",
      "Requirement already satisfied: tqdm in /usr/local/lib/python2.7/site-packages (from -r requirements.txt (line 11)) (4.48.2)\n",
      "Requirement already satisfied: lxml in /usr/local/lib/python2.7/site-packages (from -r requirements.txt (line 13)) (4.5.2)\n",
      "Requirement already satisfied: pymongo==3.4.0 in /usr/local/lib/python2.7/site-packages (from -r requirements.txt (line 16)) (3.4.0)\n",
      "Requirement already satisfied: mongoengine==0.10.7 in /usr/local/lib/python2.7/site-packages (from -r requirements.txt (line 18)) (0.10.7)\n",
      "Collecting ftfy==4.4.3\n",
      "\u001b[?25l  Downloading https://files.pythonhosted.org/packages/21/5d/9385540977b00df1f3a0c0f07b7e6c15b5e7a3109d7f6ae78a0a764dab22/ftfy-4.4.3.tar.gz (50kB)\n",
      "\u001b[K     |████████████████████████████████| 51kB 767kB/s eta 0:00:01\n",
      "\u001b[?25hCollecting clean-text\n",
      "  Using cached https://files.pythonhosted.org/packages/be/49/ae6a7ee2e840017653beff7ed0548d44cac799ccf8e970727ab56f6a6095/clean-text-0.1.1.tar.gz\n",
      "Requirement already satisfied: urllib3!=1.25.0,!=1.25.1,<1.26,>=1.21.1 in /usr/local/lib/python2.7/site-packages (from requests->-r requirements.txt (line 1)) (1.25.10)\n",
      "Requirement already satisfied: chardet<4,>=3.0.2 in /usr/local/lib/python2.7/site-packages (from requests->-r requirements.txt (line 1)) (3.0.4)\n",
      "Requirement already satisfied: certifi>=2017.4.17 in /usr/local/lib/python2.7/site-packages (from requests->-r requirements.txt (line 1)) (2020.6.20)\n",
      "Requirement already satisfied: idna<3,>=2.5 in /usr/local/lib/python2.7/site-packages (from requests->-r requirements.txt (line 1)) (2.10)\n",
      "Requirement already satisfied: beautifulsoup4 in /usr/local/lib/python2.7/site-packages (from bs4->-r requirements.txt (line 6)) (4.9.1)\n",
      "Requirement already satisfied: numpy>=1.12.0 in /usr/local/lib/python2.7/site-packages (from pandas->-r requirements.txt (line 8)) (1.16.6)\n",
      "Requirement already satisfied: pytz>=2011k in /usr/local/lib/python2.7/site-packages (from pandas->-r requirements.txt (line 8)) (2019.3)\n",
      "Requirement already satisfied: python-dateutil>=2.5.0 in /usr/local/lib/python2.7/site-packages (from pandas->-r requirements.txt (line 8)) (2.8.1)\n",
      "Requirement already satisfied: six in /usr/local/lib/python2.7/site-packages (from mongoengine==0.10.7->-r requirements.txt (line 18)) (1.14.0)\n",
      "Collecting html5lib\n",
      "\u001b[?25l  Downloading https://files.pythonhosted.org/packages/6c/dd/a834df6482147d48e225a49515aabc28974ad5a4ca3215c18a882565b028/html5lib-1.1-py2.py3-none-any.whl (112kB)\n",
      "\u001b[K     |████████████████████████████████| 112kB 465kB/s eta 0:00:01\n",
      "\u001b[?25hRequirement already satisfied: wcwidth in /usr/local/lib/python2.7/site-packages (from ftfy==4.4.3->-r requirements.txt (line 20)) (0.1.9)\n",
      "Requirement already satisfied: soupsieve<2.0 in /usr/local/lib/python2.7/site-packages (from beautifulsoup4->bs4->-r requirements.txt (line 6)) (1.9.6)\n",
      "Requirement already satisfied: webencodings in /usr/local/lib/python2.7/site-packages (from html5lib->ftfy==4.4.3->-r requirements.txt (line 20)) (0.5.1)\n",
      "Requirement already satisfied: backports.functools-lru-cache; python_version < \"3\" in /usr/local/lib/python2.7/site-packages (from soupsieve<2.0->beautifulsoup4->bs4->-r requirements.txt (line 6)) (1.6.1)\n",
      "Building wheels for collected packages: ftfy, clean-text\n",
      "  Building wheel for ftfy (setup.py) ... \u001b[?25ldone\n",
      "\u001b[?25h  Created wheel for ftfy: filename=ftfy-4.4.3-cp27-none-any.whl size=41071 sha256=c3228375f96d39219fd3a7b23c79dbfed1a92a6e7b101dcc6c8c714609577f1a\n",
      "  Stored in directory: /Users/mac/Library/Caches/pip/wheels/37/54/00/d320239bfc8aad1455314f302dd82a75253fc585e17b81704e\n",
      "  Building wheel for clean-text (setup.py) ... \u001b[?25ldone\n",
      "\u001b[?25h  Created wheel for clean-text: filename=clean_text-0.1.1-cp27-none-any.whl size=8312 sha256=8605603fb934caf2c23363e876e769f7dff20df6dc8606d500c85e81e7f12902\n",
      "  Stored in directory: /Users/mac/Library/Caches/pip/wheels/86/38/43/ec635fbf558c8f8956fcea24e23d2ac1bd9dd7b9493943d28d\n",
      "Successfully built ftfy clean-text\n",
      "Installing collected packages: html5lib, ftfy, clean-text\n",
      "Successfully installed clean-text-0.1.1 ftfy-4.4.3 html5lib-1.1\n"
     ]
    }
   ],
   "source": [
    "\n",
    "import sys\n",
    "!{sys.executable} -m pip install -r requirements.txt"
   ]
  },
  {
   "cell_type": "code",
   "execution_count": 83,
   "metadata": {},
   "outputs": [],
   "source": [
    "from tqdm import tqdm\n",
    "import pandas as pd\n",
    "import pprint\n",
    "import project_helper\n",
    "\n",
    "import lxml\n",
    "\n",
    "from pymongo import MongoClient\n",
    "\n"
   ]
  },
  {
   "cell_type": "code",
   "execution_count": 141,
   "metadata": {},
   "outputs": [],
   "source": [
    "cik_lookup = {\n",
    "    'AMZN': '0001018724',\n",
    "'BMY': '0000014272',   \n",
    "    'CNP': '0001130310',\n",
    "    'CVX': '0000093410',\n",
    "    'FL': '0000850209',\n",
    "    'FRT': '0000034903',\n",
    "    'HON': '0000773840'}"
   ]
  },
  {
   "cell_type": "code",
   "execution_count": 142,
   "metadata": {},
   "outputs": [],
   "source": [
    "client = MongoClient('localhost', 27017)\n",
    "client = MongoClient('mongodb://localhost:27017')\n",
    "db = client.pymongo_test\n",
    "db = client['pymongo_test']\n"
   ]
  },
  {
   "cell_type": "code",
   "execution_count": 143,
   "metadata": {},
   "outputs": [],
   "source": [
    "sec_api = project_helper.SecAPI()\n"
   ]
  },
  {
   "cell_type": "code",
   "execution_count": 144,
   "metadata": {},
   "outputs": [],
   "source": [
    "%psource project_helper\n"
   ]
  },
  {
   "cell_type": "code",
   "execution_count": 145,
   "metadata": {},
   "outputs": [],
   "source": [
    "from bs4 import BeautifulSoup\n",
    "import re\n",
    "import datetime\n",
    "\n",
    "def get_sec_data(cik, doc_type='',dateb='', owner='include', start=0, count=100,search_text=''):\n",
    "    newest_pricing_data = pd.to_datetime('2018-01-01')\n",
    "\n",
    "    \n",
    "    \n",
    "    rss_url = 'https://www.sec.gov/cgi-bin/browse-edgar?action=getcompany' \\\n",
    "        '&CIK={}&type={}&dateb={}&owner={}&count={}&search_text={}&output=atom' \\\n",
    "        .format(cik, doc_type, dateb, owner , start ,count , search_text)\n",
    "    \n",
    "    print(rss_url)\n",
    "    \n",
    "    \n",
    "    sec_data = sec_api.get(rss_url)\n",
    "    feed = BeautifulSoup(sec_data.encode('ascii'), 'html').feed\n",
    "    entries = [\n",
    "        (\n",
    "            \n",
    "            entry.content.find('filing-date').getText())\n",
    "        for entry in feed.find_all('entry', recursive=False)\n",
    "        \n",
    "        if pd.to_datetime(entry.content.find('filing-date').getText()) >= newest_pricing_data]\n",
    "    print entries\n",
    "\n",
    "    return entries\n",
    "    \n"
   ]
  },
  {
   "cell_type": "code",
   "execution_count": 146,
   "metadata": {},
   "outputs": [
    {
     "name": "stdout",
     "output_type": "stream",
     "text": [
      "https://www.sec.gov/cgi-bin/browse-edgar?action=getcompany&CIK=0001130310&type=&dateb=&owner=include&count=0&search_text=100&output=atom\n",
      "[u'2020-08-03', u'2020-07-31', u'2020-07-31', u'2020-07-30', u'2020-07-30', u'2020-07-30', u'2020-07-20', u'2020-07-06', u'2020-07-06', u'2020-07-06']\n",
      "https://www.sec.gov/cgi-bin/browse-edgar?action=getcompany&CIK=0000093410&type=&dateb=&owner=include&count=0&search_text=100&output=atom\n",
      "[u'2020-08-05', u'2020-07-31', u'2020-07-31', u'2020-07-31', u'2020-07-22', u'2020-07-20', u'2020-07-20', u'2020-07-20', u'2020-07-20', u'2020-07-20']\n",
      "https://www.sec.gov/cgi-bin/browse-edgar?action=getcompany&CIK=0000773840&type=&dateb=&owner=include&count=0&search_text=100&output=atom\n",
      "[u'2020-08-05', u'2020-08-04', u'2020-08-03', u'2020-08-03', u'2020-08-03', u'2020-07-30', u'2020-07-29', u'2020-07-28', u'2020-07-28', u'2020-07-24']\n",
      "https://www.sec.gov/cgi-bin/browse-edgar?action=getcompany&CIK=0000034903&type=&dateb=&owner=include&count=0&search_text=100&output=atom\n",
      "[u'2020-08-05', u'2020-08-05', u'2020-06-22', u'2020-05-12', u'2020-05-11', u'2020-05-11', u'2020-05-08', u'2020-05-07', u'2020-05-07', u'2020-05-07']\n",
      "https://www.sec.gov/cgi-bin/browse-edgar?action=getcompany&CIK=0001018724&type=&dateb=&owner=include&count=0&search_text=100&output=atom\n",
      "[u'2020-08-05', u'2020-08-05', u'2020-08-05', u'2020-08-05', u'2020-08-05', u'2020-07-31', u'2020-07-31', u'2020-07-30', u'2020-07-02', u'2020-07-02']\n",
      "https://www.sec.gov/cgi-bin/browse-edgar?action=getcompany&CIK=0000014272&type=&dateb=&owner=include&count=0&search_text=100&output=atom\n",
      "[u'2020-08-04', u'2020-07-30', u'2020-07-16', u'2020-07-16', u'2020-07-13', u'2020-07-06', u'2020-07-06', u'2020-07-02', u'2020-07-02', u'2020-07-02']\n",
      "https://www.sec.gov/cgi-bin/browse-edgar?action=getcompany&CIK=0000850209&type=&dateb=&owner=include&count=0&search_text=100&output=atom\n",
      "[u'2020-08-03', u'2020-08-03', u'2020-07-23', u'2020-07-16', u'2020-07-06', u'2020-07-06', u'2020-07-06', u'2020-07-06', u'2020-07-06', u'2020-07-06']\n",
      "[u'2020-08-05', u'2020-08-05', u'2020-08-05', u'2020-08-05', u'2020-08-05']\n"
     ]
    }
   ],
   "source": [
    "example_ticker = 'AMZN'\n",
    "sec_data = {}\n",
    "\n",
    "\n",
    "for ticker, cik in cik_lookup.items():\n",
    "    sec_data[ticker] = get_sec_data(cik)\n",
    "\n",
    "pprint.pprint(sec_data[example_ticker][:5])"
   ]
  },
  {
   "cell_type": "code",
   "execution_count": 147,
   "metadata": {},
   "outputs": [
    {
     "data": {
      "text/plain": [
       "{'AMZN': [u'2020-08-05',\n",
       "  u'2020-08-05',\n",
       "  u'2020-08-05',\n",
       "  u'2020-08-05',\n",
       "  u'2020-08-05',\n",
       "  u'2020-07-31',\n",
       "  u'2020-07-31',\n",
       "  u'2020-07-30',\n",
       "  u'2020-07-02',\n",
       "  u'2020-07-02'],\n",
       " 'BMY': [u'2020-08-04',\n",
       "  u'2020-07-30',\n",
       "  u'2020-07-16',\n",
       "  u'2020-07-16',\n",
       "  u'2020-07-13',\n",
       "  u'2020-07-06',\n",
       "  u'2020-07-06',\n",
       "  u'2020-07-02',\n",
       "  u'2020-07-02',\n",
       "  u'2020-07-02'],\n",
       " 'CNP': [u'2020-08-03',\n",
       "  u'2020-07-31',\n",
       "  u'2020-07-31',\n",
       "  u'2020-07-30',\n",
       "  u'2020-07-30',\n",
       "  u'2020-07-30',\n",
       "  u'2020-07-20',\n",
       "  u'2020-07-06',\n",
       "  u'2020-07-06',\n",
       "  u'2020-07-06'],\n",
       " 'CVX': [u'2020-08-05',\n",
       "  u'2020-07-31',\n",
       "  u'2020-07-31',\n",
       "  u'2020-07-31',\n",
       "  u'2020-07-22',\n",
       "  u'2020-07-20',\n",
       "  u'2020-07-20',\n",
       "  u'2020-07-20',\n",
       "  u'2020-07-20',\n",
       "  u'2020-07-20'],\n",
       " 'FL': [u'2020-08-03',\n",
       "  u'2020-08-03',\n",
       "  u'2020-07-23',\n",
       "  u'2020-07-16',\n",
       "  u'2020-07-06',\n",
       "  u'2020-07-06',\n",
       "  u'2020-07-06',\n",
       "  u'2020-07-06',\n",
       "  u'2020-07-06',\n",
       "  u'2020-07-06'],\n",
       " 'FRT': [u'2020-08-05',\n",
       "  u'2020-08-05',\n",
       "  u'2020-06-22',\n",
       "  u'2020-05-12',\n",
       "  u'2020-05-11',\n",
       "  u'2020-05-11',\n",
       "  u'2020-05-08',\n",
       "  u'2020-05-07',\n",
       "  u'2020-05-07',\n",
       "  u'2020-05-07'],\n",
       " 'HON': [u'2020-08-05',\n",
       "  u'2020-08-04',\n",
       "  u'2020-08-03',\n",
       "  u'2020-08-03',\n",
       "  u'2020-08-03',\n",
       "  u'2020-07-30',\n",
       "  u'2020-07-29',\n",
       "  u'2020-07-28',\n",
       "  u'2020-07-28',\n",
       "  u'2020-07-24']}"
      ]
     },
     "execution_count": 147,
     "metadata": {},
     "output_type": "execute_result"
    }
   ],
   "source": [
    "sec_data"
   ]
  },
  {
   "cell_type": "code",
   "execution_count": 47,
   "metadata": {},
   "outputs": [
    {
     "name": "stderr",
     "output_type": "stream",
     "text": [
      "Downloading CNP Fillings: 100%|██████████| 19/19 [00:22<00:00,  1.21s/filling]\n",
      "Downloading CVX Fillings: 100%|██████████| 25/25 [00:49<00:00,  1.98s/filling]\n",
      "Downloading HON Fillings: 100%|██████████| 25/25 [00:28<00:00,  1.14s/filling]\n",
      "Downloading FRT Fillings: 100%|██████████| 29/29 [00:20<00:00,  1.39filling/s]\n",
      "Downloading AMZN Fillings: 100%|██████████| 22/22 [00:16<00:00,  1.30filling/s]\n",
      "Downloading BMY Fillings: 100%|██████████| 27/27 [00:32<00:00,  1.21s/filling]\n",
      "Downloading FL Fillings: 100%|██████████| 22/22 [00:17<00:00,  1.27filling/s]"
     ]
    },
    {
     "name": "stdout",
     "output_type": "stream",
     "text": [
      "Example Document:\n",
      "\n",
      "-----BEGIN PRIVACY-ENHANCED MESSAGE-----\n",
      "Proc-Type: 2001,MIC-CLEAR\n",
      "Originator-Name: webmaster@www.sec.gov\n",
      "Originator-Key-Asymmetric:\n",
      " MFgwCgYEVQgBAQICAf8DSgAwRwJAW2sNKK9AVtBzYZmr6aGjlWyK3XmZv3dTINen\n",
      " TWSM7vrzLADbmYQaionwg5sDW3P6oaM5D3tdezXMm7z1T+B+twIDAQAB\n",
      "MIC-Info: RSA-MD5,RSA,\n",
      " JheN9rrH0LADcPLNpdgic2Y+wa34llXqe750TowVzUFLd6IuuNQne2H0axAosYFz\n",
      " 1Lmg9dJfEMxBnv2E6NCBrw==\n",
      "\n",
      "<SEC-DOCUMENT>0001193125-05-047032.txt : 20050311\n",
      "<SEC-HEADER>0001193125-05-047032.hdr.sgml : 20050311\n",
      "<ACCEPTANCE-DATETIME>20050311062027\n",
      "ACCESSION NUMBER:\t\t0001193125-05-047032\n",
      "CONFORMED SUBMISSION TYPE:\t10-K\n",
      "PUBLIC DOCUMENT COUNT:\t\t9\n",
      "CONFORMED PERIOD OF REPORT:\t20041231\n",
      "FILED AS OF DATE:\t\t20050311\n",
      "DATE AS OF CHANGE:\t\t20050311\n",
      "\n",
      "FILER:\n",
      "\n",
      "\tCOMPANY DATA:\t\n",
      "\t\tCOMPANY CONFORMED NAME:\t\t\tAMAZON COM INC\n",
      "\t\tCENTRAL INDEX KEY:\t\t\t0001018724\n",
      "\t\tSTANDARD INDUSTRIAL CLASSIFICATION:\tRETAIL-CATALOG & MAIL-ORDER HOUSES [5961]\n",
      "\t\tIRS NUMBER:\t\t\t\t911646860\n",
      "\t\tSTATE OF INCORPORATION:\t\t\tDE\n",
      "\t\tFISCAL YEAR END:\t\t\t1231\n",
      "\n",
      "\tFILING VALUES:\n",
      "\t\tFORM TYPE:\t...\n"
     ]
    },
    {
     "name": "stderr",
     "output_type": "stream",
     "text": [
      "\n"
     ]
    }
   ],
   "source": [
    "raw_fillings_by_ticker = {}\n",
    "\n",
    "for ticker, data in sec_data.items():\n",
    "    raw_fillings_by_ticker[ticker] = {}\n",
    "    for index_url, file_type, file_date in tqdm(data, desc='Downloading {} Fillings'.format(ticker), unit='filling'):\n",
    "        if (file_type == '10-K'):\n",
    "            file_url = index_url.replace('-index.htm', '.txt').replace('.txtl', '.txt')            \n",
    "            \n",
    "            raw_fillings_by_ticker[ticker][file_date] = sec_api.get(file_url)\n",
    "\n",
    "\n",
    "print('Example Document:\\n\\n{}...'.format(next(iter(raw_fillings_by_ticker[example_ticker].values()))[:1000]))"
   ]
  },
  {
   "cell_type": "code",
   "execution_count": null,
   "metadata": {},
   "outputs": [],
   "source": []
  },
  {
   "cell_type": "code",
   "execution_count": null,
   "metadata": {},
   "outputs": [],
   "source": []
  },
  {
   "cell_type": "code",
   "execution_count": null,
   "metadata": {},
   "outputs": [],
   "source": []
  }
 ],
 "metadata": {
  "kernelspec": {
   "display_name": "venv",
   "language": "python",
   "name": "venv"
  },
  "language_info": {
   "codemirror_mode": {
    "name": "ipython",
    "version": 2
   },
   "file_extension": ".py",
   "mimetype": "text/x-python",
   "name": "python",
   "nbconvert_exporter": "python",
   "pygments_lexer": "ipython2",
   "version": "2.7.17"
  }
 },
 "nbformat": 4,
 "nbformat_minor": 4
}
