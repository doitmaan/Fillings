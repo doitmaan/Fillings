{
 "cells": [
  {
   "cell_type": "code",
   "execution_count": 1,
   "metadata": {},
   "outputs": [
    {
     "name": "stdout",
     "output_type": "stream",
     "text": [
      "\u001b[33mDEPRECATION: Python 2.7 will reach the end of its life on January 1st, 2020. Please upgrade your Python as Python 2.7 won't be maintained after that date. A future version of pip will drop support for Python 2.7. More details about Python 2 support in pip, can be found at https://pip.pypa.io/en/latest/development/release-process/#python-2-support\u001b[0m\n",
      "Requirement already satisfied: requests in /usr/local/lib/python2.7/site-packages (from -r requirements.txt (line 1)) (2.24.0)\n",
      "Requirement already satisfied: ratelimit in /usr/local/lib/python2.7/site-packages (from -r requirements.txt (line 4)) (2.2.1)\n",
      "Requirement already satisfied: bs4 in /usr/local/lib/python2.7/site-packages (from -r requirements.txt (line 6)) (0.0.1)\n",
      "Requirement already satisfied: pandas in /usr/local/lib/python2.7/site-packages (from -r requirements.txt (line 8)) (0.24.2)\n",
      "Requirement already satisfied: tqdm in /usr/local/lib/python2.7/site-packages (from -r requirements.txt (line 11)) (4.48.2)\n",
      "Requirement already satisfied: lxml in /usr/local/lib/python2.7/site-packages (from -r requirements.txt (line 13)) (4.5.2)\n",
      "Collecting pymongo==3.4.0\n",
      "\u001b[?25l  Downloading https://files.pythonhosted.org/packages/70/6c/90019178079a58bfaafc46776db7258a83ad22aeb76c7b1cf72c4521c75e/pymongo-3.4.0-cp27-cp27m-macosx_10_12_intel.whl (288kB)\n",
      "\u001b[K     |████████████████████████████████| 296kB 886kB/s eta 0:00:01\n",
      "\u001b[?25hCollecting mongoengine==0.10.7\n",
      "  Using cached https://files.pythonhosted.org/packages/b7/17/a83f31f973d0fa8724db4106a187c38715727e5edfe947174abff482d7ff/mongoengine-0.10.7.tar.gz\n",
      "Requirement already satisfied: urllib3!=1.25.0,!=1.25.1,<1.26,>=1.21.1 in /usr/local/lib/python2.7/site-packages (from requests->-r requirements.txt (line 1)) (1.25.10)\n",
      "Requirement already satisfied: chardet<4,>=3.0.2 in /usr/local/lib/python2.7/site-packages (from requests->-r requirements.txt (line 1)) (3.0.4)\n",
      "Requirement already satisfied: certifi>=2017.4.17 in /usr/local/lib/python2.7/site-packages (from requests->-r requirements.txt (line 1)) (2020.6.20)\n",
      "Requirement already satisfied: idna<3,>=2.5 in /usr/local/lib/python2.7/site-packages (from requests->-r requirements.txt (line 1)) (2.10)\n",
      "Requirement already satisfied: beautifulsoup4 in /usr/local/lib/python2.7/site-packages (from bs4->-r requirements.txt (line 6)) (4.9.1)\n",
      "Requirement already satisfied: numpy>=1.12.0 in /usr/local/lib/python2.7/site-packages (from pandas->-r requirements.txt (line 8)) (1.16.6)\n",
      "Requirement already satisfied: pytz>=2011k in /usr/local/lib/python2.7/site-packages (from pandas->-r requirements.txt (line 8)) (2019.3)\n",
      "Requirement already satisfied: python-dateutil>=2.5.0 in /usr/local/lib/python2.7/site-packages (from pandas->-r requirements.txt (line 8)) (2.8.1)\n",
      "Requirement already satisfied: six in /usr/local/lib/python2.7/site-packages (from mongoengine==0.10.7->-r requirements.txt (line 18)) (1.14.0)\n",
      "Requirement already satisfied: soupsieve<2.0 in /usr/local/lib/python2.7/site-packages (from beautifulsoup4->bs4->-r requirements.txt (line 6)) (1.9.6)\n",
      "Requirement already satisfied: backports.functools-lru-cache; python_version < \"3\" in /usr/local/lib/python2.7/site-packages (from soupsieve<2.0->beautifulsoup4->bs4->-r requirements.txt (line 6)) (1.6.1)\n",
      "Building wheels for collected packages: mongoengine\n",
      "  Building wheel for mongoengine (setup.py) ... \u001b[?25ldone\n",
      "\u001b[?25h  Created wheel for mongoengine: filename=mongoengine-0.10.7-cp27-none-any.whl size=92374 sha256=83ab651600efe75a11ffe46afd2af725041f41aef66319791dca526152d0ad93\n",
      "  Stored in directory: /Users/mac/Library/Caches/pip/wheels/0d/6f/fc/d9b4b4b23c5324145dfc4b3e8e464114876aafc427a7bcfb71\n",
      "Successfully built mongoengine\n",
      "Installing collected packages: pymongo, mongoengine\n",
      "Successfully installed mongoengine-0.10.7 pymongo-3.4.0\n"
     ]
    }
   ],
   "source": [
    "\n",
    "import sys\n",
    "!{sys.executable} -m pip install -r requirements.txt"
   ]
  },
  {
   "cell_type": "code",
   "execution_count": 3,
   "metadata": {},
   "outputs": [],
   "source": [
    "from tqdm import tqdm\n",
    "import pandas as pd\n",
    "import pprint\n",
    "import project_helper\n",
    "\n",
    "import lxml\n",
    "\n",
    "from pymongo import MongoClient\n",
    "\n"
   ]
  },
  {
   "cell_type": "code",
   "execution_count": 4,
   "metadata": {},
   "outputs": [],
   "source": [
    "cik_lookup = {\n",
    "    'AMZN': '0001018724'}\n",
    "#     'BMY': '0000014272',   \n",
    "#     'CNP': '0001130310',\n",
    "#     'CVX': '0000093410',\n",
    "#     'FL': '0000850209',\n",
    "#     'FRT': '0000034903',\n",
    "#     'HON': '0000773840'}"
   ]
  },
  {
   "cell_type": "code",
   "execution_count": 6,
   "metadata": {},
   "outputs": [],
   "source": [
    "client = MongoClient('localhost', 27017)\n",
    "client = MongoClient('mongodb://localhost:27017')\n",
    "db = client.pymongo_test\n",
    "db = client['pymongo_test']\n"
   ]
  },
  {
   "cell_type": "code",
   "execution_count": 7,
   "metadata": {},
   "outputs": [],
   "source": [
    "sec_api = project_helper.SecAPI()\n"
   ]
  },
  {
   "cell_type": "code",
   "execution_count": 8,
   "metadata": {},
   "outputs": [],
   "source": [
    "%psource project_helper\n"
   ]
  },
  {
   "cell_type": "code",
   "execution_count": 77,
   "metadata": {},
   "outputs": [],
   "source": [
    "from bs4 import BeautifulSoup\n",
    "import re\n",
    "\n",
    "def get_sec_data(cik, doc_type='',dateb='', owner='include', start=0, count=100,search_text=''):\n",
    "    newest_pricing_data = pd.to_datetime('2018-01-01')\n",
    "\n",
    "    \n",
    "    \n",
    "    rss_url = 'https://www.sec.gov/cgi-bin/browse-edgar?action=getcompany' \\\n",
    "        '&CIK={}&type={}&dateb={}&owner={}&count={}&search_text={}' \\\n",
    "        .format(cik, doc_type, dateb, owner , start ,count , search_text)\n",
    "    \n",
    "#     print ( rss_url)\n",
    "    \n",
    "    \n",
    "    sec_data = sec_api.get(rss_url)\n",
    "    \n",
    "    \n",
    "#     print (sec_data)\n",
    "    \n",
    "    soup = BeautifulSoup(sec_data, 'html.parser')\n",
    "    \n",
    "    print(soup.find_all(text=re.compile(\"(.*?)\")))\n",
    "    \n",
    "\n",
    "    \n",
    "#     for strong_tag in soup.find_all('td'):\n",
    "#         print(strong_tag.text)\n",
    "    \n",
    "    \n",
    "#     x = soup.find_all('td')\n",
    "    \n",
    "#     y = soup.getText()\n",
    "#     print(type(y))\n",
    "    \n",
    "#     z = re.match(\"/(\\d{4}-\\d{2}-\\d{1,2}).*/\", y)\n",
    "    \n",
    "#     print(z)\n",
    "\n",
    "\n",
    "\n",
    "    \n",
    "    \n",
    "#     print (soup.find_all(re.compile('/(\\d{4}-\\d{2}-\\d{1,2}).*/')))\n",
    "\n",
    "\n",
    "    \n",
    "    \n",
    "#     feed = BeautifulSoup(sec_data.encode('ascii'), 'xml').feed\n",
    "    \n",
    "#     print(feed)\n",
    "    \n",
    "    \n",
    "#     entries = [\n",
    "#         (\n",
    "#             entry.content.find('filing-href').getText(),\n",
    "#             entry.content.find('filing-type').getText(),\n",
    "#             entry.content.find('filing-date').getText())\n",
    "#         for entry in feed.find_all('entry', recursive=False)\n",
    "#         if pd.to_datetime(entry.content.find('filing-date').getText()) <= newest_pricing_data]\n",
    "\n",
    "#     return entries\n",
    "    \n",
    "# #     print(feed.find_all('filing-date'))\n",
    "    \n",
    "\n",
    "    \n",
    "#     entries = [\n",
    "#         (\n",
    "# #             entry.content.find('filing-href').getText(),entry.content.find('filing-type').getText(),\n",
    "#             entry.content.find('filing-date').getText())\n",
    "        \n",
    "#         for entry in feed.find_all('entry', recursive=False)\n",
    "        \n",
    "#         if pd.to_datetime(entry.content.find('filing-date').getText()) <= newest_pricing_data]\n",
    "   \n",
    "\n",
    "#     return entries"
   ]
  },
  {
   "cell_type": "code",
   "execution_count": 78,
   "metadata": {},
   "outputs": [
    {
     "name": "stdout",
     "output_type": "stream",
     "text": [
      "[u'HTML PUBLIC \"-//W3C//DTD HTML 4.01 Transitional//EN\" \"http://www.w3.org/TR/html4/loose.dtd\"', u'\\n', u'\\n', u'\\n', u'EDGAR Search Results', u'\\n', u'\\n', u'\\n', u'\\n', u'\\n', u'\\n', u'\\n', u' SEC Web Analytics - For information please visit: https://www.sec.gov/privacy.htm#collectedinfo ', u'\\n', u'\\n', u\"(function(w,d,s,l,i){w[l]=w[l]||[];w[l].push({'gtm.start':\\nnew Date().getTime(),event:'gtm.js'});var f=d.getElementsByTagName(s)[0],\\nj=d.createElement(s),dl=l!='dataLayer'?'&l='+l:'';j.async=true;j.src=\\n'//www.googletagmanager.com/gtm.js?id='+i+dl;f.parentNode.insertBefore(j,f);\\n})(window,document,'script','dataLayer','GTM-TD3BKV');\", u'\\n', u' End SEC Web Analytics ', u'\\n', u' BEGIN BANNER ', u'\\n', u'\\n', u'Home', u' | ', u'Latest Filings', u' | ', u'Previous Page', u'\\n', u'\\n', u'\\n', u'\\n', u'\\n', u' ', u'EDGAR Search Results', u'\\n', u'\\n', u' END BANNER ', u'\\n', u' BEGIN BREADCRUMBS ', u'\\n', u'\\n', u'\\n', u'SEC Home', u' \\xbb', u'\\n', u'Search the Next-Generation EDGAR System', u' \\xbb', u'\\n', u'Company Search', u' \\xbb', u'\\n', u'Current Page', u'\\n', u'\\n', u'\\n', u' END BREADCRUMBS ', u'\\n', u'\\n', u' START FILER DIV ', u'\\n', u'\\n', u'Mailing Address\\n         ', u'410 TERRY AVENUE NORTH', u'\\n', u'\\nSEATTLE WA 98109         ', u'\\n', u'\\n', u'Business Address\\n         ', u'410 TERRY AVENUE NORTH', u'\\n', u'\\nSEATTLE WA 98109         ', u'\\n', u'2062661000', u'\\n', u'\\n', u'\\n', u'AMAZON COM INC ', u'CIK', u'#: ', u'0001018724 (see all company filings)', u'\\n', u'SIC', u': ', u'5961', u' - RETAIL-CATALOG & MAIL-ORDER HOUSES', u'State location: ', u'WA', u' | State of Inc.: ', u'DE', u' | Fiscal Year End: 1231', u'(Office of Trade & Services)', u'Get ', u'insider transactions', u' for this ', u'issuer', u'.\\n', u'Get ', u'insider transactions', u' for this ', u'reporting owner', u'.\\n', u'\\n', u'\\n', u'\\n', u'\\n', u'\\n', u'\\n', u'\\n', u'\\n', u'\\n', u'\\n', u'Filter Results', u'\\n', u'\\n', u'Search Within Files', u' ', u'\\n', u'\\n', u'\\n', u'Filing Type:', u'\\n', u'Prior to:', u' (YYYYMMDD)', u'\\n', u'Ownership?', u'include', u'exclude', u'only', u'\\n', u'Limit Results Per Page', u'\\n', u'\\n', u'10 Entries\\n                     ', u'20 Entries\\n                     ', u'40 Entries\\n                     ', u'80 Entries\\n                     ', u'100 Entries\\n                  ', u'\\n', u'\\n', u'\\n', u'Enter keywords', u'Search', u'\\n', u'\\n', u'\\n', u'\\n', u'\\n', u' END FILER DIV ', u'\\n', u'\\n', u'\\n', u'\\n', u'\\n', u'Items 1 - 10\\xa0\\xa0', u' RSS Feed', u'\\n', u' ', u'\\n', u'\\n', u'\\n', u'\\n', u'\\n', u'\\n', u'\\n', u'\\n', u'Filings', u'\\n', u'Format', u'\\n', u'Description', u'\\n', u'Filing Date', u'\\n', u'File/Film Number', u'\\n', u'\\n', u'\\n', u'IRANNOTICE', u'\\n', u'\\xa0Documents', u'\\n', u'Notice of disclosure filed pursuant to Section 219 of the Iran Threat Reduction and Syria Human Rights Act of 2012 (Exchange Act Section 13(r)).', u'Acc-no: 0001018724-20-000024\\xa0(34 Act)\\xa0 Size: 124 KB            ', u'\\n', u'2020-07-31', u'\\n', u'000-22513', u'201063356         ', u'\\n', u'\\n', u'\\n', u'10-Q', u'\\n', u'\\xa0Documents', u'\\xa0 ', u'\\xa0Interactive Data', u'\\n', u'Quarterly report [Sections 13 or 15(d)]', u'Acc-no: 0001018724-20-000021\\xa0(34 Act)\\xa0 Size: 8 MB            ', u'\\n', u'2020-07-31', u'\\n', u'000-22513', u'201062612         ', u'\\n', u'\\n', u'\\n', u'8-K', u'\\n', u'\\xa0Documents', u'\\xa0 ', u'\\xa0Interactive Data', u'\\n', u'Current report, items 2.02 and 9.01\\n', u'Acc-no: 0001018724-20-000019\\xa0(34 Act)\\xa0 Size: 1 MB            ', u'\\n', u'2020-07-30', u'\\n', u'000-22513', u'201061805         ', u'\\n', u'\\n', u'\\n', u'4', u'\\n', u'\\xa0Documents', u'\\n', u'Statement of changes in beneficial ownership of securities', u'Acc-no: 0000899243-20-018375 Size: 31 KB            ', u'\\n', u'2020-07-02', u'\\n', u'\\n', u'\\n', u'\\n', u'4', u'\\n', u'\\xa0Documents', u'\\n', u'Statement of changes in beneficial ownership of securities', u'Acc-no: 0000899243-20-018371 Size: 54 KB            ', u'\\n', u'2020-07-02', u'\\n', u'\\n', u'\\n', u'\\n', u'4', u'\\n', u'\\xa0Documents', u'\\n', u'Statement of changes in beneficial ownership of securities', u'Acc-no: 0000899243-20-018367 Size: 4 KB            ', u'\\n', u'2020-07-02', u'\\n', u'\\n', u'\\n', u'\\n', u'8-K', u'\\n', u'\\xa0Documents', u'\\xa0 ', u'\\xa0Interactive Data', u'\\n', u'Current report, items 1.01, 2.03, and 9.01\\n', u'Acc-no: 0001193125-20-176528\\xa0(34 Act)\\xa0 Size: 846 KB            ', u'\\n', u'2020-06-23', u'\\n', u'000-22513', u'20982046         ', u'\\n', u'\\n', u'\\n', u'8-K', u'\\n', u'\\xa0Documents', u'\\xa0 ', u'\\xa0Interactive Data', u'\\n', u'Current report, items 8.01 and 9.01\\n', u'Acc-no: 0001193125-20-159531\\xa0(34 Act)\\xa0 Size: 690 KB            ', u'\\n', u'2020-06-03', u'\\n', u'000-22513', u'20940264         ', u'\\n', u'\\n', u'\\n', u'424B2', u'\\n', u'\\xa0Documents', u'\\n', u'Prospectus [Rule 424(b)(2)]', u'Acc-no: 0001193125-20-158910\\xa0(33 Act)\\xa0 Size: 474 KB            ', u'\\n', u'2020-06-03', u'\\n', u'333-238831', u'20938758         ', u'\\n', u'\\n', u'\\n', u'FWP', u'\\n', u'\\xa0Documents', u'\\n', u'Filing under Securities Act Rules 163/433 of free writing prospectuses', u'Acc-no: 0001193125-20-157446\\xa0(34 Act)\\xa0 Size: 27 KB            ', u'\\n', u'2020-06-01', u'\\n', u'333-238831', u'20934833         ', u'\\n', u'\\n', u'\\n', u'\\n', u'\\n', u'\\n', u'\\n', u'\\n', u' ', u'\\n', u'\\n', u'\\n', u'\\n', u'\\n', u'\\n', u' BEGIN FOOTER ', u'\\n', u'\\n', u'https://www.sec.gov/cgi-bin/browse-edgar', u'\\n', u'Home', u' | ', u'Search the Next-Generation EDGAR System', u' | ', u'Previous Page', u'\\n', u'Modified 07/18/2014', u'\\n', u'\\n', u' END FOOTER ', u'\\n', u'\\n', u'\\n']\n"
     ]
    },
    {
     "ename": "TypeError",
     "evalue": "'NoneType' object has no attribute '__getitem__'",
     "output_type": "error",
     "traceback": [
      "\u001b[0;31m---------------------------------------------------------------------------\u001b[0m",
      "\u001b[0;31mTypeError\u001b[0m                                 Traceback (most recent call last)",
      "\u001b[0;32m<ipython-input-78-5c957e1f20c0>\u001b[0m in \u001b[0;36m<module>\u001b[0;34m()\u001b[0m\n\u001b[1;32m      6\u001b[0m     \u001b[0msec_data\u001b[0m\u001b[0;34m[\u001b[0m\u001b[0mticker\u001b[0m\u001b[0;34m]\u001b[0m \u001b[0;34m=\u001b[0m \u001b[0mget_sec_data\u001b[0m\u001b[0;34m(\u001b[0m\u001b[0mcik\u001b[0m\u001b[0;34m)\u001b[0m\u001b[0;34m\u001b[0m\u001b[0m\n\u001b[1;32m      7\u001b[0m \u001b[0;34m\u001b[0m\u001b[0m\n\u001b[0;32m----> 8\u001b[0;31m \u001b[0mpprint\u001b[0m\u001b[0;34m.\u001b[0m\u001b[0mpprint\u001b[0m\u001b[0;34m(\u001b[0m\u001b[0msec_data\u001b[0m\u001b[0;34m[\u001b[0m\u001b[0mexample_ticker\u001b[0m\u001b[0;34m]\u001b[0m\u001b[0;34m[\u001b[0m\u001b[0;34m:\u001b[0m\u001b[0;36m5\u001b[0m\u001b[0;34m]\u001b[0m\u001b[0;34m)\u001b[0m\u001b[0;34m\u001b[0m\u001b[0m\n\u001b[0m",
      "\u001b[0;31mTypeError\u001b[0m: 'NoneType' object has no attribute '__getitem__'"
     ]
    }
   ],
   "source": [
    "example_ticker = 'AMZN'\n",
    "sec_data = {}\n",
    "\n",
    "\n",
    "for ticker, cik in cik_lookup.items():\n",
    "    sec_data[ticker] = get_sec_data(cik)\n",
    "\n",
    "pprint.pprint(sec_data[example_ticker][:5])"
   ]
  },
  {
   "cell_type": "code",
   "execution_count": 36,
   "metadata": {},
   "outputs": [
    {
     "data": {
      "text/plain": [
       "{'AMZN': None}"
      ]
     },
     "execution_count": 36,
     "metadata": {},
     "output_type": "execute_result"
    }
   ],
   "source": [
    "sec_data"
   ]
  },
  {
   "cell_type": "code",
   "execution_count": 47,
   "metadata": {},
   "outputs": [
    {
     "name": "stderr",
     "output_type": "stream",
     "text": [
      "Downloading CNP Fillings: 100%|██████████| 19/19 [00:22<00:00,  1.21s/filling]\n",
      "Downloading CVX Fillings: 100%|██████████| 25/25 [00:49<00:00,  1.98s/filling]\n",
      "Downloading HON Fillings: 100%|██████████| 25/25 [00:28<00:00,  1.14s/filling]\n",
      "Downloading FRT Fillings: 100%|██████████| 29/29 [00:20<00:00,  1.39filling/s]\n",
      "Downloading AMZN Fillings: 100%|██████████| 22/22 [00:16<00:00,  1.30filling/s]\n",
      "Downloading BMY Fillings: 100%|██████████| 27/27 [00:32<00:00,  1.21s/filling]\n",
      "Downloading FL Fillings: 100%|██████████| 22/22 [00:17<00:00,  1.27filling/s]"
     ]
    },
    {
     "name": "stdout",
     "output_type": "stream",
     "text": [
      "Example Document:\n",
      "\n",
      "-----BEGIN PRIVACY-ENHANCED MESSAGE-----\n",
      "Proc-Type: 2001,MIC-CLEAR\n",
      "Originator-Name: webmaster@www.sec.gov\n",
      "Originator-Key-Asymmetric:\n",
      " MFgwCgYEVQgBAQICAf8DSgAwRwJAW2sNKK9AVtBzYZmr6aGjlWyK3XmZv3dTINen\n",
      " TWSM7vrzLADbmYQaionwg5sDW3P6oaM5D3tdezXMm7z1T+B+twIDAQAB\n",
      "MIC-Info: RSA-MD5,RSA,\n",
      " JheN9rrH0LADcPLNpdgic2Y+wa34llXqe750TowVzUFLd6IuuNQne2H0axAosYFz\n",
      " 1Lmg9dJfEMxBnv2E6NCBrw==\n",
      "\n",
      "<SEC-DOCUMENT>0001193125-05-047032.txt : 20050311\n",
      "<SEC-HEADER>0001193125-05-047032.hdr.sgml : 20050311\n",
      "<ACCEPTANCE-DATETIME>20050311062027\n",
      "ACCESSION NUMBER:\t\t0001193125-05-047032\n",
      "CONFORMED SUBMISSION TYPE:\t10-K\n",
      "PUBLIC DOCUMENT COUNT:\t\t9\n",
      "CONFORMED PERIOD OF REPORT:\t20041231\n",
      "FILED AS OF DATE:\t\t20050311\n",
      "DATE AS OF CHANGE:\t\t20050311\n",
      "\n",
      "FILER:\n",
      "\n",
      "\tCOMPANY DATA:\t\n",
      "\t\tCOMPANY CONFORMED NAME:\t\t\tAMAZON COM INC\n",
      "\t\tCENTRAL INDEX KEY:\t\t\t0001018724\n",
      "\t\tSTANDARD INDUSTRIAL CLASSIFICATION:\tRETAIL-CATALOG & MAIL-ORDER HOUSES [5961]\n",
      "\t\tIRS NUMBER:\t\t\t\t911646860\n",
      "\t\tSTATE OF INCORPORATION:\t\t\tDE\n",
      "\t\tFISCAL YEAR END:\t\t\t1231\n",
      "\n",
      "\tFILING VALUES:\n",
      "\t\tFORM TYPE:\t...\n"
     ]
    },
    {
     "name": "stderr",
     "output_type": "stream",
     "text": [
      "\n"
     ]
    }
   ],
   "source": [
    "raw_fillings_by_ticker = {}\n",
    "\n",
    "for ticker, data in sec_data.items():\n",
    "    raw_fillings_by_ticker[ticker] = {}\n",
    "    for index_url, file_type, file_date in tqdm(data, desc='Downloading {} Fillings'.format(ticker), unit='filling'):\n",
    "        if (file_type == '10-K'):\n",
    "            file_url = index_url.replace('-index.htm', '.txt').replace('.txtl', '.txt')            \n",
    "            \n",
    "            raw_fillings_by_ticker[ticker][file_date] = sec_api.get(file_url)\n",
    "\n",
    "\n",
    "print('Example Document:\\n\\n{}...'.format(next(iter(raw_fillings_by_ticker[example_ticker].values()))[:1000]))"
   ]
  },
  {
   "cell_type": "code",
   "execution_count": null,
   "metadata": {},
   "outputs": [],
   "source": []
  },
  {
   "cell_type": "code",
   "execution_count": null,
   "metadata": {},
   "outputs": [],
   "source": []
  },
  {
   "cell_type": "code",
   "execution_count": null,
   "metadata": {},
   "outputs": [],
   "source": []
  }
 ],
 "metadata": {
  "kernelspec": {
   "display_name": "venv",
   "language": "python",
   "name": "venv"
  },
  "language_info": {
   "codemirror_mode": {
    "name": "ipython",
    "version": 2
   },
   "file_extension": ".py",
   "mimetype": "text/x-python",
   "name": "python",
   "nbconvert_exporter": "python",
   "pygments_lexer": "ipython2",
   "version": "2.7.17"
  }
 },
 "nbformat": 4,
 "nbformat_minor": 4
}
