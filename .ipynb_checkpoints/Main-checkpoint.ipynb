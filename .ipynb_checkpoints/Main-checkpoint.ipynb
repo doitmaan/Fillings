{
 "cells": [
  {
   "cell_type": "code",
   "execution_count": 1,
   "metadata": {},
   "outputs": [
    {
     "name": "stdout",
     "output_type": "stream",
     "text": [
      "\u001b[33mDEPRECATION: Python 2.7 will reach the end of its life on January 1st, 2020. Please upgrade your Python as Python 2.7 won't be maintained after that date. A future version of pip will drop support for Python 2.7. More details about Python 2 support in pip, can be found at https://pip.pypa.io/en/latest/development/release-process/#python-2-support\u001b[0m\n",
      "Requirement already satisfied: requests in /usr/local/lib/python2.7/site-packages (from -r requirements.txt (line 1)) (2.24.0)\n",
      "Requirement already satisfied: ratelimit in /usr/local/lib/python2.7/site-packages (from -r requirements.txt (line 4)) (2.2.1)\n",
      "Requirement already satisfied: bs4 in /usr/local/lib/python2.7/site-packages (from -r requirements.txt (line 6)) (0.0.1)\n",
      "Requirement already satisfied: pandas in /usr/local/lib/python2.7/site-packages (from -r requirements.txt (line 8)) (0.24.2)\n",
      "Requirement already satisfied: tqdm in /usr/local/lib/python2.7/site-packages (from -r requirements.txt (line 11)) (4.48.2)\n",
      "Requirement already satisfied: lxml in /usr/local/lib/python2.7/site-packages (from -r requirements.txt (line 13)) (4.5.2)\n",
      "Requirement already satisfied: pymongo==3.4.0 in /usr/local/lib/python2.7/site-packages (from -r requirements.txt (line 16)) (3.4.0)\n",
      "Requirement already satisfied: mongoengine==0.10.7 in /usr/local/lib/python2.7/site-packages (from -r requirements.txt (line 18)) (0.10.7)\n",
      "Requirement already satisfied: ftfy==4.4.3 in /usr/local/lib/python2.7/site-packages (from -r requirements.txt (line 20)) (4.4.3)\n",
      "Requirement already satisfied: clean-text in /usr/local/lib/python2.7/site-packages (from -r requirements.txt (line 23)) (0.1.1)\n",
      "Requirement already satisfied: urllib3!=1.25.0,!=1.25.1,<1.26,>=1.21.1 in /usr/local/lib/python2.7/site-packages (from requests->-r requirements.txt (line 1)) (1.24.3)\n",
      "Requirement already satisfied: chardet<4,>=3.0.2 in /usr/local/lib/python2.7/site-packages (from requests->-r requirements.txt (line 1)) (3.0.4)\n",
      "Requirement already satisfied: certifi>=2017.4.17 in /usr/local/lib/python2.7/site-packages (from requests->-r requirements.txt (line 1)) (2020.6.20)\n",
      "Requirement already satisfied: idna<3,>=2.5 in /usr/local/lib/python2.7/site-packages (from requests->-r requirements.txt (line 1)) (2.10)\n",
      "Requirement already satisfied: beautifulsoup4 in /usr/local/lib/python2.7/site-packages (from bs4->-r requirements.txt (line 6)) (4.9.1)\n",
      "Requirement already satisfied: numpy>=1.12.0 in /usr/local/lib/python2.7/site-packages (from pandas->-r requirements.txt (line 8)) (1.16.6)\n",
      "Requirement already satisfied: pytz>=2011k in /usr/local/lib/python2.7/site-packages (from pandas->-r requirements.txt (line 8)) (2019.3)\n",
      "Requirement already satisfied: python-dateutil>=2.5.0 in /usr/local/lib/python2.7/site-packages (from pandas->-r requirements.txt (line 8)) (2.8.1)\n",
      "Requirement already satisfied: six in /usr/local/lib/python2.7/site-packages (from mongoengine==0.10.7->-r requirements.txt (line 18)) (1.14.0)\n",
      "Requirement already satisfied: wcwidth in /usr/local/lib/python2.7/site-packages (from ftfy==4.4.3->-r requirements.txt (line 20)) (0.1.9)\n",
      "Requirement already satisfied: html5lib in /usr/local/lib/python2.7/site-packages (from ftfy==4.4.3->-r requirements.txt (line 20)) (1.1)\n",
      "Requirement already satisfied: soupsieve<2.0 in /usr/local/lib/python2.7/site-packages (from beautifulsoup4->bs4->-r requirements.txt (line 6)) (1.9.6)\n",
      "Requirement already satisfied: webencodings in /usr/local/lib/python2.7/site-packages (from html5lib->ftfy==4.4.3->-r requirements.txt (line 20)) (0.5.1)\n",
      "Requirement already satisfied: backports.functools-lru-cache; python_version < \"3\" in /usr/local/lib/python2.7/site-packages (from soupsieve<2.0->beautifulsoup4->bs4->-r requirements.txt (line 6)) (1.6.1)\n"
     ]
    }
   ],
   "source": [
    "\n",
    "import sys\n",
    "!{sys.executable} -m pip install -r requirements.txt"
   ]
  },
  {
   "cell_type": "code",
   "execution_count": 2,
   "metadata": {},
   "outputs": [],
   "source": [
    "from tqdm import tqdm\n",
    "import pandas as pd\n",
    "import pprint\n",
    "import project_helper\n",
    "\n",
    "import lxml\n",
    "\n",
    "from pymongo import MongoClient\n",
    "\n",
    "\n",
    "import pymongo  # package for working with MongoDB\n",
    "\n",
    "\n",
    "\n",
    "from bs4 import BeautifulSoup\n",
    "import re\n",
    "import datetime\n",
    "\n",
    "# import pyspark\n",
    "\n",
    "\n",
    "\n",
    "import Stocklist\n",
    "\n",
    "\n",
    "\n",
    "import re\n",
    "from cPickle import dump\n",
    "from requests import get\n",
    "\n",
    "\n",
    "from collections import Counter \n",
    "\n",
    "\n",
    "import re, requests\n",
    "\n",
    "\n",
    "\n",
    "\n",
    "\n",
    "\n",
    "\n"
   ]
  },
  {
   "cell_type": "code",
   "execution_count": 3,
   "metadata": {},
   "outputs": [],
   "source": [
    "cik_lookup = {\n",
    "    'AMZN': '1018724',\n",
    "'BMY': '0000014272',   \n",
    "    'CNP': '0001130310',\n",
    "    'CVX': '0000093410',\n",
    "    'FL': '0000850209',\n",
    "    'FRT': '0000034903',\n",
    "    'HON': '0000773840'}"
   ]
  },
  {
   "cell_type": "code",
   "execution_count": null,
   "metadata": {},
   "outputs": [],
   "source": [
    "\n"
   ]
  },
  {
   "cell_type": "code",
   "execution_count": 4,
   "metadata": {},
   "outputs": [],
   "source": [
    "sec_api = project_helper.SecAPI()\n"
   ]
  },
  {
   "cell_type": "code",
   "execution_count": 42,
   "metadata": {},
   "outputs": [],
   "source": [
    "%psource project_helper\n"
   ]
  },
  {
   "cell_type": "code",
   "execution_count": 6,
   "metadata": {},
   "outputs": [],
   "source": [
    "\n",
    "\n",
    "def get_sec_data(cik, doc_type='',dateb='', owner='include', start=0, count=100,search_text=''):\n",
    "    newest_pricing_data = pd.to_datetime('2020-07-01')\n",
    "\n",
    "    \n",
    "    \n",
    "    rss_url = 'https://www.sec.gov/cgi-bin/browse-edgar?action=getcompany' \\\n",
    "        '&CIK={}&type={}&dateb={}&owner={}&count={}&search_text={}&output=atom' \\\n",
    "        .format(cik, doc_type, dateb, owner , start ,count , search_text)\n",
    "    \n",
    "    print(rss_url)\n",
    "    \n",
    "    \n",
    "    sec_data = sec_api.get(rss_url)\n",
    "    feed = BeautifulSoup(sec_data.encode('ascii'), 'html').feed\n",
    "    entries = [\n",
    "        (\n",
    "            \n",
    "            entry.content.find('filing-date').getText())\n",
    "        for entry in feed.find_all('entry', recursive=False)\n",
    "        \n",
    "        if pd.to_datetime(entry.content.find('filing-date').getText()) >= newest_pricing_data]\n",
    "    print entries\n",
    "\n",
    "    return entries\n",
    "    \n"
   ]
  },
  {
   "cell_type": "code",
   "execution_count": 73,
   "metadata": {},
   "outputs": [],
   "source": [
    "def get_sec_CIK_From_Ticker(tickers):\n",
    "    \n",
    "    cik_dict = {}\n",
    "    \n",
    "    for ticker in tickers:\n",
    "        URL = 'http://www.sec.gov/cgi-bin/browse-edgar?CIK={}&Find=Search&owner=exclude&action=getcompany&output=atom'.format(ticker)\n",
    "\n",
    "#         print(URL)\n",
    "\n",
    "\n",
    "        sec_data = sec_api.get(URL)\n",
    "        feed = BeautifulSoup(sec_data.encode('ascii'), 'html').feed\n",
    "        \n",
    "        print(type(feed))\n",
    "        \n",
    "        if feed is None:\n",
    "            result = feed.find('cik')\n",
    "\n",
    "            print(len(result))\n",
    "            print(result)\n",
    "\n",
    "            if len(result):\n",
    "\n",
    "                cik_dict[str(ticker).upper()] = result.get_text()\n",
    "\n",
    "            print(result.get_text())\n",
    "    \n",
    "\n",
    "    return cik_dict"
   ]
  },
  {
   "cell_type": "code",
   "execution_count": 7,
   "metadata": {},
   "outputs": [
    {
     "name": "stdout",
     "output_type": "stream",
     "text": [
      "https://www.sec.gov/cgi-bin/browse-edgar?action=getcompany&CIK=0001130310&type=&dateb=&owner=include&count=0&search_text=100&output=atom\n",
      "[u'2020-08-06', u'2020-08-06', u'2020-08-03', u'2020-07-31', u'2020-07-31', u'2020-07-30', u'2020-07-30', u'2020-07-30', u'2020-07-20', u'2020-07-06']\n",
      "https://www.sec.gov/cgi-bin/browse-edgar?action=getcompany&CIK=0000093410&type=&dateb=&owner=include&count=0&search_text=100&output=atom\n",
      "[u'2020-08-06', u'2020-08-05', u'2020-07-31', u'2020-07-31', u'2020-07-31', u'2020-07-22', u'2020-07-20', u'2020-07-20', u'2020-07-20', u'2020-07-20']\n",
      "https://www.sec.gov/cgi-bin/browse-edgar?action=getcompany&CIK=0000773840&type=&dateb=&owner=include&count=0&search_text=100&output=atom\n",
      "[u'2020-08-05', u'2020-08-04', u'2020-08-03', u'2020-08-03', u'2020-08-03', u'2020-07-30', u'2020-07-29', u'2020-07-28', u'2020-07-28', u'2020-07-24']\n",
      "https://www.sec.gov/cgi-bin/browse-edgar?action=getcompany&CIK=0000034903&type=&dateb=&owner=include&count=0&search_text=100&output=atom\n",
      "[u'2020-08-05', u'2020-08-05']\n",
      "https://www.sec.gov/cgi-bin/browse-edgar?action=getcompany&CIK=1018724&type=&dateb=&owner=include&count=0&search_text=100&output=atom\n",
      "[u'2020-08-05', u'2020-08-05', u'2020-08-05', u'2020-08-05', u'2020-08-05', u'2020-07-31', u'2020-07-31', u'2020-07-30', u'2020-07-02', u'2020-07-02']\n",
      "https://www.sec.gov/cgi-bin/browse-edgar?action=getcompany&CIK=0000014272&type=&dateb=&owner=include&count=0&search_text=100&output=atom\n",
      "[u'2020-08-06', u'2020-08-06', u'2020-08-04', u'2020-07-30', u'2020-07-16', u'2020-07-16', u'2020-07-13', u'2020-07-06', u'2020-07-06', u'2020-07-02']\n",
      "https://www.sec.gov/cgi-bin/browse-edgar?action=getcompany&CIK=0000850209&type=&dateb=&owner=include&count=0&search_text=100&output=atom\n",
      "[u'2020-08-03', u'2020-08-03', u'2020-07-23', u'2020-07-16', u'2020-07-06', u'2020-07-06', u'2020-07-06', u'2020-07-06', u'2020-07-06', u'2020-07-06']\n",
      "[u'2020-08-05', u'2020-08-05', u'2020-08-05', u'2020-08-05', u'2020-08-05']\n"
     ]
    }
   ],
   "source": [
    "example_ticker = 'AMZN'\n",
    "sec_data = {}\n",
    "\n",
    "\n",
    "for ticker, cik in cik_lookup.items():\n",
    "    sec_data[ticker] = get_sec_data(cik)\n",
    "\n",
    "pprint.pprint(sec_data[example_ticker][:5])"
   ]
  },
  {
   "cell_type": "code",
   "execution_count": 74,
   "metadata": {
    "scrolled": true
   },
   "outputs": [
    {
     "name": "stdout",
     "output_type": "stream",
     "text": [
      "<class 'bs4.element.Tag'>\n",
      "1\n",
      "<cik>0001420529</cik>\n",
      "0001420529\n",
      "<class 'bs4.element.Tag'>\n",
      "1\n",
      "<cik>0001802457</cik>\n",
      "0001802457\n",
      "<class 'bs4.element.Tag'>\n",
      "1\n",
      "<cik>0000006201</cik>\n",
      "0000006201\n",
      "<class 'bs4.element.Tag'>\n",
      "1\n",
      "<cik>0000008177</cik>\n",
      "0000008177\n",
      "<class 'bs4.element.Tag'>\n",
      "1\n",
      "<cik>0001158114</cik>\n",
      "0001158114\n",
      "<class 'bs4.element.Tag'>\n",
      "1\n",
      "<cik>0000824142</cik>\n",
      "0000824142\n",
      "<class 'bs4.element.Tag'>\n",
      "1\n",
      "<cik>0000320193</cik>\n",
      "0000320193\n",
      "<class 'bs4.element.Tag'>\n",
      "1\n",
      "<cik>0001135185</cik>\n",
      "0001135185\n",
      "<class 'bs4.element.Tag'>\n",
      "1\n",
      "<cik>0001069183</cik>\n",
      "0001069183\n",
      "<class 'bs4.element.Tag'>\n",
      "1\n",
      "<cik>0000351569</cik>\n",
      "0000351569\n",
      "<class 'bs4.element.Tag'>\n",
      "1\n",
      "<cik>0000318306</cik>\n",
      "0000318306\n",
      "<class 'bs4.element.Tag'>\n",
      "1\n",
      "<cik>0000907654</cik>\n",
      "0000907654\n",
      "<class 'bs4.element.Tag'>\n",
      "1\n",
      "<cik>0000815094</cik>\n",
      "0000815094\n",
      "<class 'bs4.element.Tag'>\n",
      "1\n",
      "<cik>0001642081</cik>\n",
      "0001642081\n",
      "<class 'bs4.element.Tag'>\n",
      "1\n",
      "<cik>0001447028</cik>\n",
      "0001447028\n",
      "<class 'bs4.element.Tag'>\n",
      "1\n",
      "<cik>0001070494</cik>\n",
      "0001070494\n",
      "<class 'bs4.element.Tag'>\n",
      "1\n",
      "<cik>0001759008</cik>\n",
      "0001759008\n",
      "<class 'bs4.element.Tag'>\n",
      "1\n",
      "<cik>0001759008</cik>\n",
      "0001759008\n",
      "<class 'bs4.element.Tag'>\n",
      "1\n",
      "<cik>0001759008</cik>\n",
      "0001759008\n",
      "<class 'bs4.element.Tag'>\n",
      "1\n",
      "<cik>0001461755</cik>\n",
      "0001461755\n",
      "<class 'bs4.element.Tag'>\n",
      "1\n",
      "<cik>0001481646</cik>\n",
      "0001481646\n",
      "<class 'bs4.element.Tag'>\n",
      "1\n",
      "<cik>0001069308</cik>\n",
      "0001069308\n",
      "<type 'NoneType'>\n"
     ]
    },
    {
     "ename": "AttributeError",
     "evalue": "'NoneType' object has no attribute 'find'",
     "output_type": "error",
     "traceback": [
      "\u001b[0;31m---------------------------------------------------------------------------\u001b[0m",
      "\u001b[0;31mAttributeError\u001b[0m                            Traceback (most recent call last)",
      "\u001b[0;32m<ipython-input-74-b4160edb981a>\u001b[0m in \u001b[0;36m<module>\u001b[0;34m()\u001b[0m\n\u001b[0;32m----> 1\u001b[0;31m \u001b[0mcikamzn\u001b[0m \u001b[0;34m=\u001b[0m \u001b[0mget_sec_CIK_From_Ticker\u001b[0m\u001b[0;34m(\u001b[0m\u001b[0mx\u001b[0m\u001b[0;34m)\u001b[0m\u001b[0;34m\u001b[0m\u001b[0m\n\u001b[0m",
      "\u001b[0;32m<ipython-input-73-441d38819287>\u001b[0m in \u001b[0;36mget_sec_CIK_From_Ticker\u001b[0;34m(tickers)\u001b[0m\n\u001b[1;32m     15\u001b[0m \u001b[0;34m\u001b[0m\u001b[0m\n\u001b[1;32m     16\u001b[0m         \u001b[0;32mif\u001b[0m \u001b[0mfeed\u001b[0m\u001b[0;34m!=\u001b[0m\u001b[0;34m'None'\u001b[0m\u001b[0;34m:\u001b[0m\u001b[0;34m\u001b[0m\u001b[0m\n\u001b[0;32m---> 17\u001b[0;31m             \u001b[0mresult\u001b[0m \u001b[0;34m=\u001b[0m \u001b[0mfeed\u001b[0m\u001b[0;34m.\u001b[0m\u001b[0mfind\u001b[0m\u001b[0;34m(\u001b[0m\u001b[0;34m'cik'\u001b[0m\u001b[0;34m)\u001b[0m\u001b[0;34m\u001b[0m\u001b[0m\n\u001b[0m\u001b[1;32m     18\u001b[0m \u001b[0;34m\u001b[0m\u001b[0m\n\u001b[1;32m     19\u001b[0m             \u001b[0;32mprint\u001b[0m\u001b[0;34m(\u001b[0m\u001b[0mlen\u001b[0m\u001b[0;34m(\u001b[0m\u001b[0mresult\u001b[0m\u001b[0;34m)\u001b[0m\u001b[0;34m)\u001b[0m\u001b[0;34m\u001b[0m\u001b[0m\n",
      "\u001b[0;31mAttributeError\u001b[0m: 'NoneType' object has no attribute 'find'"
     ]
    }
   ],
   "source": [
    "cikamzn = get_sec_CIK_From_Ticker(x)"
   ]
  },
  {
   "cell_type": "code",
   "execution_count": 57,
   "metadata": {},
   "outputs": [
    {
     "data": {
      "text/plain": [
       "{'AMZN': u'0001018724'}"
      ]
     },
     "execution_count": 57,
     "metadata": {},
     "output_type": "execute_result"
    }
   ],
   "source": [
    "cikamzn"
   ]
  },
  {
   "cell_type": "code",
   "execution_count": 8,
   "metadata": {},
   "outputs": [
    {
     "data": {
      "text/plain": [
       "Counter({u'2020-07-02': 2,\n",
       "         u'2020-07-30': 1,\n",
       "         u'2020-07-31': 2,\n",
       "         u'2020-08-05': 5})"
      ]
     },
     "execution_count": 8,
     "metadata": {},
     "output_type": "execute_result"
    }
   ],
   "source": [
    "Counter(sec_data['AMZN'])\n",
    "\n"
   ]
  },
  {
   "cell_type": "code",
   "execution_count": 21,
   "metadata": {},
   "outputs": [
    {
     "data": {
      "text/plain": [
       "{'AMZN': [u'2020-08-05',\n",
       "  u'2020-08-05',\n",
       "  u'2020-08-05',\n",
       "  u'2020-08-05',\n",
       "  u'2020-08-05',\n",
       "  u'2020-07-31',\n",
       "  u'2020-07-31',\n",
       "  u'2020-07-30',\n",
       "  u'2020-07-02',\n",
       "  u'2020-07-02'],\n",
       " 'BMY': [u'2020-08-06',\n",
       "  u'2020-08-06',\n",
       "  u'2020-08-04',\n",
       "  u'2020-07-30',\n",
       "  u'2020-07-16',\n",
       "  u'2020-07-16',\n",
       "  u'2020-07-13',\n",
       "  u'2020-07-06',\n",
       "  u'2020-07-06',\n",
       "  u'2020-07-02'],\n",
       " 'CNP': [u'2020-08-06',\n",
       "  u'2020-08-06',\n",
       "  u'2020-08-03',\n",
       "  u'2020-07-31',\n",
       "  u'2020-07-31',\n",
       "  u'2020-07-30',\n",
       "  u'2020-07-30',\n",
       "  u'2020-07-30',\n",
       "  u'2020-07-20',\n",
       "  u'2020-07-06'],\n",
       " 'CVX': [u'2020-08-06',\n",
       "  u'2020-08-05',\n",
       "  u'2020-07-31',\n",
       "  u'2020-07-31',\n",
       "  u'2020-07-31',\n",
       "  u'2020-07-22',\n",
       "  u'2020-07-20',\n",
       "  u'2020-07-20',\n",
       "  u'2020-07-20',\n",
       "  u'2020-07-20'],\n",
       " 'FL': [u'2020-08-03',\n",
       "  u'2020-08-03',\n",
       "  u'2020-07-23',\n",
       "  u'2020-07-16',\n",
       "  u'2020-07-06',\n",
       "  u'2020-07-06',\n",
       "  u'2020-07-06',\n",
       "  u'2020-07-06',\n",
       "  u'2020-07-06',\n",
       "  u'2020-07-06'],\n",
       " 'FRT': [u'2020-08-05', u'2020-08-05'],\n",
       " 'HON': [u'2020-08-05',\n",
       "  u'2020-08-04',\n",
       "  u'2020-08-03',\n",
       "  u'2020-08-03',\n",
       "  u'2020-08-03',\n",
       "  u'2020-07-30',\n",
       "  u'2020-07-29',\n",
       "  u'2020-07-28',\n",
       "  u'2020-07-28',\n",
       "  u'2020-07-24']}"
      ]
     },
     "execution_count": 21,
     "metadata": {},
     "output_type": "execute_result"
    }
   ],
   "source": [
    "sec_data"
   ]
  },
  {
   "cell_type": "code",
   "execution_count": 13,
   "metadata": {},
   "outputs": [],
   "source": [
    "\n",
    "\n",
    "DEFAULT_TICKERS = ['goog', 'aapl']\n",
    "URL = 'http://www.sec.gov/cgi-bin/browse-edgar?CIK={}&Find=Search&owner=exclude&action=getcompany'\n",
    "CIK_RE = re.compile(r'.*CIK=(\\d{10}).*')\n",
    "\n",
    "cik_dict = {}\n",
    "for ticker in DEFAULT_TICKERS:\n",
    "    results = CIK_RE.findall(get(URL.format(ticker)).content)\n",
    "    if len(results):\n",
    "        cik_dict[str(ticker).lower()] = str(results[0])\n",
    "f = open('cik_dict', 'w')\n",
    "dump(cik_dict, f)\n",
    "f.close()"
   ]
  },
  {
   "cell_type": "code",
   "execution_count": null,
   "metadata": {},
   "outputs": [],
   "source": []
  },
  {
   "cell_type": "code",
   "execution_count": 47,
   "metadata": {},
   "outputs": [
    {
     "name": "stderr",
     "output_type": "stream",
     "text": [
      "Downloading CNP Fillings: 100%|██████████| 19/19 [00:22<00:00,  1.21s/filling]\n",
      "Downloading CVX Fillings: 100%|██████████| 25/25 [00:49<00:00,  1.98s/filling]\n",
      "Downloading HON Fillings: 100%|██████████| 25/25 [00:28<00:00,  1.14s/filling]\n",
      "Downloading FRT Fillings: 100%|██████████| 29/29 [00:20<00:00,  1.39filling/s]\n",
      "Downloading AMZN Fillings: 100%|██████████| 22/22 [00:16<00:00,  1.30filling/s]\n",
      "Downloading BMY Fillings: 100%|██████████| 27/27 [00:32<00:00,  1.21s/filling]\n",
      "Downloading FL Fillings: 100%|██████████| 22/22 [00:17<00:00,  1.27filling/s]"
     ]
    },
    {
     "name": "stdout",
     "output_type": "stream",
     "text": [
      "Example Document:\n",
      "\n",
      "-----BEGIN PRIVACY-ENHANCED MESSAGE-----\n",
      "Proc-Type: 2001,MIC-CLEAR\n",
      "Originator-Name: webmaster@www.sec.gov\n",
      "Originator-Key-Asymmetric:\n",
      " MFgwCgYEVQgBAQICAf8DSgAwRwJAW2sNKK9AVtBzYZmr6aGjlWyK3XmZv3dTINen\n",
      " TWSM7vrzLADbmYQaionwg5sDW3P6oaM5D3tdezXMm7z1T+B+twIDAQAB\n",
      "MIC-Info: RSA-MD5,RSA,\n",
      " JheN9rrH0LADcPLNpdgic2Y+wa34llXqe750TowVzUFLd6IuuNQne2H0axAosYFz\n",
      " 1Lmg9dJfEMxBnv2E6NCBrw==\n",
      "\n",
      "<SEC-DOCUMENT>0001193125-05-047032.txt : 20050311\n",
      "<SEC-HEADER>0001193125-05-047032.hdr.sgml : 20050311\n",
      "<ACCEPTANCE-DATETIME>20050311062027\n",
      "ACCESSION NUMBER:\t\t0001193125-05-047032\n",
      "CONFORMED SUBMISSION TYPE:\t10-K\n",
      "PUBLIC DOCUMENT COUNT:\t\t9\n",
      "CONFORMED PERIOD OF REPORT:\t20041231\n",
      "FILED AS OF DATE:\t\t20050311\n",
      "DATE AS OF CHANGE:\t\t20050311\n",
      "\n",
      "FILER:\n",
      "\n",
      "\tCOMPANY DATA:\t\n",
      "\t\tCOMPANY CONFORMED NAME:\t\t\tAMAZON COM INC\n",
      "\t\tCENTRAL INDEX KEY:\t\t\t0001018724\n",
      "\t\tSTANDARD INDUSTRIAL CLASSIFICATION:\tRETAIL-CATALOG & MAIL-ORDER HOUSES [5961]\n",
      "\t\tIRS NUMBER:\t\t\t\t911646860\n",
      "\t\tSTATE OF INCORPORATION:\t\t\tDE\n",
      "\t\tFISCAL YEAR END:\t\t\t1231\n",
      "\n",
      "\tFILING VALUES:\n",
      "\t\tFORM TYPE:\t...\n"
     ]
    },
    {
     "name": "stderr",
     "output_type": "stream",
     "text": [
      "\n"
     ]
    }
   ],
   "source": [
    "raw_fillings_by_ticker = {}\n",
    "\n",
    "for ticker, data in sec_data.items():\n",
    "    raw_fillings_by_ticker[ticker] = {}\n",
    "    for index_url, file_type, file_date in tqdm(data, desc='Downloading {} Fillings'.format(ticker), unit='filling'):\n",
    "        if (file_type == '10-K'):\n",
    "            file_url = index_url.replace('-index.htm', '.txt').replace('.txtl', '.txt')            \n",
    "            \n",
    "            raw_fillings_by_ticker[ticker][file_date] = sec_api.get(file_url)\n",
    "\n",
    "\n",
    "print('Example Document:\\n\\n{}...'.format(next(iter(raw_fillings_by_ticker[example_ticker].values()))[:1000]))"
   ]
  },
  {
   "cell_type": "code",
   "execution_count": null,
   "metadata": {},
   "outputs": [],
   "source": []
  },
  {
   "cell_type": "code",
   "execution_count": 3,
   "metadata": {},
   "outputs": [],
   "source": [
    "\n",
    "\n",
    "DEFAULT_TICKERS = ['goog', 'aapl','amzn']\n",
    "URL = 'http://www.sec.gov/cgi-bin/browse-edgar?CIK={}&Find=Search&owner=exclude&action=getcompany'\n",
    "CIK_RE = re.compile(r'.*CIK=(\\d{10}).*')\n",
    "\n",
    "cik_dict = {}\n",
    "for ticker in DEFAULT_TICKERS:\n",
    "    results = CIK_RE.findall(get(URL.format(ticker)).content)\n",
    "    if len(results):\n",
    "        cik_dict[str(ticker).lower()] = str(results[0])\n",
    "f = open('cik_dict', 'w')\n",
    "dump(cik_dict, f)\n",
    "f.close()"
   ]
  },
  {
   "cell_type": "code",
   "execution_count": 28,
   "metadata": {},
   "outputs": [
    {
     "name": "stdout",
     "output_type": "stream",
     "text": [
      "http://www.sec.gov/cgi-bin/browse-edgar?CIK=wmt&Find=Search&owner=exclude&action=getcompany\n"
     ]
    },
    {
     "ename": "AttributeError",
     "evalue": "'unicode' object has no attribute 'text'",
     "output_type": "error",
     "traceback": [
      "\u001b[0;31m---------------------------------------------------------------------------\u001b[0m",
      "\u001b[0;31mAttributeError\u001b[0m                            Traceback (most recent call last)",
      "\u001b[0;32m<ipython-input-28-75ca1fea1411>\u001b[0m in \u001b[0;36m<module>\u001b[0;34m()\u001b[0m\n\u001b[1;32m     19\u001b[0m \u001b[0;34m\u001b[0m\u001b[0m\n\u001b[1;32m     20\u001b[0m \u001b[0;34m\u001b[0m\u001b[0m\n\u001b[0;32m---> 21\u001b[0;31m \u001b[0mgetCIKs\u001b[0m\u001b[0;34m(\u001b[0m\u001b[0;34m[\u001b[0m\u001b[0;34m'wmt'\u001b[0m\u001b[0;34m,\u001b[0m\u001b[0;34m'amzn'\u001b[0m\u001b[0;34m,\u001b[0m\u001b[0;34m'nflx'\u001b[0m\u001b[0;34m]\u001b[0m\u001b[0;34m)\u001b[0m\u001b[0;34m\u001b[0m\u001b[0m\n\u001b[0m",
      "\u001b[0;32m<ipython-input-28-75ca1fea1411>\u001b[0m in \u001b[0;36mgetCIKs\u001b[0;34m(TICKERS)\u001b[0m\n\u001b[1;32m      9\u001b[0m \u001b[0;34m\u001b[0m\u001b[0m\n\u001b[1;32m     10\u001b[0m \u001b[0;31m#         f = requests.get(URL.format(ticker), stream = True)\u001b[0m\u001b[0;34m\u001b[0m\u001b[0;34m\u001b[0m\u001b[0m\n\u001b[0;32m---> 11\u001b[0;31m         \u001b[0mresults\u001b[0m \u001b[0;34m=\u001b[0m \u001b[0mCIK_RE\u001b[0m\u001b[0;34m.\u001b[0m\u001b[0mfindall\u001b[0m\u001b[0;34m(\u001b[0m\u001b[0mf\u001b[0m\u001b[0;34m.\u001b[0m\u001b[0mtext\u001b[0m\u001b[0;34m)\u001b[0m\u001b[0;34m\u001b[0m\u001b[0m\n\u001b[0m\u001b[1;32m     12\u001b[0m         \u001b[0;32mprint\u001b[0m\u001b[0;34m(\u001b[0m\u001b[0mcik_dict\u001b[0m\u001b[0;34m)\u001b[0m\u001b[0;34m\u001b[0m\u001b[0m\n\u001b[1;32m     13\u001b[0m \u001b[0;34m\u001b[0m\u001b[0m\n",
      "\u001b[0;31mAttributeError\u001b[0m: 'unicode' object has no attribute 'text'"
     ]
    }
   ],
   "source": [
    "\n",
    "def getCIKs(TICKERS):\n",
    "    URL = 'http://www.sec.gov/cgi-bin/browse-edgar?CIK={}&Find=Search&owner=exclude&action=getcompany'\n",
    "    CIK_RE = re.compile(r'.*CIK=(\\d{10}).*')    \n",
    "    cik_dict = {}\n",
    "    for ticker in TICKERS:\n",
    "        print(URL.format(ticker))\n",
    "        f = sec_api.get(URL.format(ticker))\n",
    "        \n",
    "#         f = requests.get(URL.format(ticker), stream = True)\n",
    "        results = CIK_RE.findall(f.text)\n",
    "        print(cik_dict)\n",
    "    \n",
    "        if len(results):\n",
    "            results[0] = int(re.sub('\\.[0]*', '.', results[0]))\n",
    "            cik_dict[str(ticker).upper()] = str(results[0])\n",
    "    \n",
    "    print(cik_dict)\n",
    "    \n",
    "\n",
    "getCIKs(['wmt','amzn','nflx'])"
   ]
  },
  {
   "cell_type": "code",
   "execution_count": 27,
   "metadata": {},
   "outputs": [
    {
     "ename": "AttributeError",
     "evalue": "'unicode' object has no attribute 'text'",
     "output_type": "error",
     "traceback": [
      "\u001b[0;31m---------------------------------------------------------------------------\u001b[0m",
      "\u001b[0;31mAttributeError\u001b[0m                            Traceback (most recent call last)",
      "\u001b[0;32m<ipython-input-27-2f928ca11a5f>\u001b[0m in \u001b[0;36m<module>\u001b[0;34m()\u001b[0m\n\u001b[0;32m----> 1\u001b[0;31m \u001b[0my\u001b[0m \u001b[0;34m=\u001b[0m \u001b[0mgetCIKs\u001b[0m\u001b[0;34m(\u001b[0m\u001b[0mx\u001b[0m\u001b[0;34m)\u001b[0m\u001b[0;34m\u001b[0m\u001b[0m\n\u001b[0m",
      "\u001b[0;32m<ipython-input-26-88bec919622d>\u001b[0m in \u001b[0;36mgetCIKs\u001b[0;34m(TICKERS)\u001b[0m\n\u001b[1;32m      8\u001b[0m \u001b[0;34m\u001b[0m\u001b[0m\n\u001b[1;32m      9\u001b[0m \u001b[0;31m#         f = requests.get(URL.format(ticker), stream = True)\u001b[0m\u001b[0;34m\u001b[0m\u001b[0;34m\u001b[0m\u001b[0m\n\u001b[0;32m---> 10\u001b[0;31m         \u001b[0mresults\u001b[0m \u001b[0;34m=\u001b[0m \u001b[0mCIK_RE\u001b[0m\u001b[0;34m.\u001b[0m\u001b[0mfindall\u001b[0m\u001b[0;34m(\u001b[0m\u001b[0mf\u001b[0m\u001b[0;34m.\u001b[0m\u001b[0mtext\u001b[0m\u001b[0;34m)\u001b[0m\u001b[0;34m\u001b[0m\u001b[0m\n\u001b[0m\u001b[1;32m     11\u001b[0m         \u001b[0;32mprint\u001b[0m\u001b[0;34m(\u001b[0m\u001b[0mcik_dict\u001b[0m\u001b[0;34m)\u001b[0m\u001b[0;34m\u001b[0m\u001b[0m\n\u001b[1;32m     12\u001b[0m \u001b[0;34m\u001b[0m\u001b[0m\n",
      "\u001b[0;31mAttributeError\u001b[0m: 'unicode' object has no attribute 'text'"
     ]
    }
   ],
   "source": [
    "y = getCIKs(x)"
   ]
  },
  {
   "cell_type": "code",
   "execution_count": 25,
   "metadata": {},
   "outputs": [
    {
     "ename": "NameError",
     "evalue": "name 'y' is not defined",
     "output_type": "error",
     "traceback": [
      "\u001b[0;31m---------------------------------------------------------------------------\u001b[0m",
      "\u001b[0;31mNameError\u001b[0m                                 Traceback (most recent call last)",
      "\u001b[0;32m<ipython-input-25-9063a9f0e032>\u001b[0m in \u001b[0;36m<module>\u001b[0;34m()\u001b[0m\n\u001b[0;32m----> 1\u001b[0;31m \u001b[0my\u001b[0m\u001b[0;34m\u001b[0m\u001b[0m\n\u001b[0m",
      "\u001b[0;31mNameError\u001b[0m: name 'y' is not defined"
     ]
    }
   ],
   "source": [
    "y"
   ]
  },
  {
   "cell_type": "code",
   "execution_count": 13,
   "metadata": {},
   "outputs": [],
   "source": [
    "def StockList():\n",
    "        StocksController = Stocklist.NasdaqController(True)\n",
    "        list_of_tickers = StocksController.getList()\n",
    "\n",
    "        print(list_of_tickers)\n",
    "        print(len(list_of_tickers))\n",
    "        return list_of_tickers"
   ]
  },
  {
   "cell_type": "code",
   "execution_count": 58,
   "metadata": {},
   "outputs": [
    {
     "name": "stdout",
     "output_type": "stream",
     "text": [
      "['AACG', 'AACQU', 'AAL', 'AAME', 'AAOI', 'AAON', 'AAPL', 'AAWW', 'AAXN', 'ABCB', 'ABEO', 'ABIO', 'ABMD', 'ABTX', 'ABUS', 'ACAD', 'ACAM', 'ACAMU', 'ACAMW', 'ACBI', 'ACCD', 'ACER', 'ACEVU', 'ACGL', 'ACGLO', 'ACGLP', 'ACHC', 'ACHV', 'ACIA', 'ACIU', 'ACIW', 'ACLS', 'ACMR', 'ACNB', 'ACOR', 'ACRS', 'ACRX', 'ACST', 'ACTG', 'ADAP', 'ADBE', 'ADES', 'ADI', 'ADIL', 'ADILW', 'ADMA', 'ADMP', 'ADMS', 'ADP', 'ADPT', 'ADRO', 'ADSK', 'ADTN', 'ADTX', 'ADUS', 'ADVM', 'ADXN', 'ADXS', 'AEGN', 'AEHR', 'AEIS', 'AEMD', 'AERI', 'AESE', 'AEY', 'AEYE', 'AEZS', 'AFH', 'AFIB', 'AFIN', 'AFINP', 'AFMD', 'AFYA', 'AGBA', 'AGBAR', 'AGBAU', 'AGBAW', 'AGEN', 'AGFS', 'AGIO', 'AGLE', 'AGMH', 'AGNC', 'AGNCM', 'AGNCN', 'AGNCO', 'AGNCP', 'AGRX', 'AGTC', 'AGYS', 'AHCO', 'AHPI', 'AIH', 'AIHS', 'AIKI', 'AIMC', 'AIMT', 'AINV', 'AIRG', 'AIRT', 'AIRTP', 'AIRTW', 'AKAM', 'AKBA', 'AKCA', 'AKER', 'AKRO', 'AKTS', 'AKTX', 'AKUS', 'ALAC', 'ALACR', 'ALACU', 'ALACW', 'ALBO', 'ALCO', 'ALDX', 'ALEC', 'ALGN', 'ALGT', 'ALIM', 'ALJJ', 'ALKS', 'ALLK', 'ALLO', 'ALLT', 'ALNA', 'ALNY', 'ALOT', 'ALPN', 'ALRM', 'ALRN', 'ALRS', 'ALSK', 'ALT', 'ALTA', 'ALTM', 'ALTR', 'ALVR', 'ALXN', 'ALXO', 'ALYA', 'AMAG', 'AMAL', 'AMAT', 'AMBA', 'AMCI', 'AMCIU', 'AMCIW', 'AMCX', 'AMD', 'AMED', 'AMEH', 'AMGN', 'AMHC', 'AMHCU', 'AMHCW', 'AMKR', 'AMNB', 'AMOT', 'AMPH', 'AMRB', 'AMRH', 'AMRHW', 'AMRK', 'AMRN', 'AMRS', 'AMSC', 'AMSF', 'AMSWA', 'AMTB', 'AMTBB', 'AMTD', 'AMTI', 'AMTX', 'AMWD', 'AMYT', 'AMZN', 'ANAB', 'ANAT', 'ANCN', 'ANDA', 'ANDAR', 'ANDAU', 'ANDAW', 'ANDE', 'ANGI', 'ANGO', 'ANIK', 'ANIP', 'ANIX', 'ANNX', 'ANPC', 'ANSS', 'ANTE', 'ANY', 'AOSL', 'APA', 'APDN', 'APEI', 'APEN', 'APEX', 'APHA', 'API', 'APLS', 'APLT', 'APM', 'APOG', 'APOP', 'APOPW', 'APPF', 'APPN', 'APPS', 'APRE', 'APTO', 'APTX', 'APVO', 'APWC', 'APXT', 'APXTU', 'APXTW', 'APYX', 'AQB', 'AQMS', 'AQST', 'ARAV', 'ARAY', 'ARCB', 'ARCC', 'ARCE', 'ARCT', 'ARDS', 'ARDX', 'AREC', 'ARGX', 'ARKR', 'ARLP', 'ARNA', 'AROW', 'ARPO', 'ARQT', 'ARTL', 'ARTLW', 'ARTNA', 'ARTW', 'ARVN', 'ARWR', 'ARYA', 'ARYB', 'ARYBU', 'ARYBW', 'ASFI', 'ASLN', 'ASMB', 'ASML', 'ASND', 'ASPS', 'ASPU', 'ASRT', 'ASRV', 'ASRVP', 'ASTC', 'ASTE', 'ASUR', 'ASYS', 'ATAX', 'ATCX', 'ATCXW', 'ATEC', 'ATEX', 'ATHE', 'ATHX', 'ATIF', 'ATLC', 'ATLO', 'ATNI', 'ATNX', 'ATOM', 'ATOS', 'ATRA', 'ATRC', 'ATRI', 'ATRO', 'ATRS', 'ATSG', 'ATVI', 'ATXI', 'AUB', 'AUBAP', 'AUBN', 'AUDC', 'AUPH', 'AUTL', 'AUTO', 'AVAV', 'AVCO', 'AVCT', 'AVCTW', 'AVDL', 'AVEO', 'AVGO', 'AVGOP', 'AVGR', 'AVID', 'AVNW', 'AVRO', 'AVT', 'AVXL', 'AWH', 'AWRE', 'AXAS', 'AXDX', 'AXGN', 'AXGT', 'AXLA', 'AXNX', 'AXSM', 'AXTI', 'AY', 'AYLA', 'AYRO', 'AYTU', 'AZPN', 'AZRX', 'BAND', 'BANF', 'BANFP', 'BANR', 'BANX', 'BASI', 'BATRA', 'BATRK', 'BBBY', 'BBCP', 'BBGI', 'BBI', 'BBIO', 'BBQ', 'BBSI', 'BCBP', 'BCDA', 'BCDAW', 'BCEL', 'BCLI', 'BCML', 'BCOM', 'BCOR', 'BCOV', 'BCOW', 'BCPC', 'BCRX', 'BCTF', 'BCYC', 'BDGE', 'BDSI', 'BDTX', 'BEAM', 'BEAT', 'BECN', 'BELFA', 'BELFB', 'BFC', 'BFIN', 'BFRA', 'BFST', 'BFYT', 'BGCP', 'BGFV', 'BGNE', 'BHAT', 'BHF', 'BHFAL', 'BHFAO', 'BHFAP', 'BHTG', 'BIDU', 'BIGC', 'BIIB', 'BILI', 'BIMI', 'BIOC', 'BIOL', 'BJRI', 'BKCC', 'BKEP', 'BKEPP', 'BKNG', 'BKSC', 'BKYI', 'BL', 'BLBD', 'BLCM', 'BLCT', 'BLDP', 'BLDR', 'BLFS', 'BLI', 'BLIN', 'BLKB', 'BLMN', 'BLNK', 'BLNKW', 'BLPH', 'BLRX', 'BLU', 'BLUE', 'BMCH', 'BMLP', 'BMRA', 'BMRC', 'BMRN', 'BMTC', 'BNFT', 'BNGO', 'BNGOW', 'BNR', 'BNSO', 'BNTC', 'BNTX', 'BOCH', 'BOKF', 'BOKFL', 'BOMN', 'BOOM', 'BOSC', 'BOTJ', 'BOWXU', 'BOXL', 'BPFH', 'BPMC', 'BPOP', 'BPOPM', 'BPOPN', 'BPRN', 'BPTH', 'BPY', 'BPYPN', 'BPYPO', 'BPYPP', 'BPYU', 'BPYUP', 'BREW', 'BRID', 'BRKL', 'BRKR', 'BRKS', 'BRLI', 'BRLIR', 'BRLIU', 'BRLIW', 'BROG', 'BROGW', 'BRP', 'BRPA', 'BRPAR', 'BRPAU', 'BRPAW', 'BRQS', 'BRY', 'BSBK', 'BSET', 'BSGM', 'BSQR', 'BSRR', 'BSTC', 'BSVN', 'BTAI', 'BTBT', 'BUSE', 'BVXV', 'BWAY', 'BWB', 'BWEN', 'BWFG', 'BWMX', 'BXRX', 'BYFC', 'BYND', 'BYSI', 'BZUN', 'CAAS', 'CABA', 'CAC', 'CACC', 'CAKE', 'CALA', 'CALB', 'CALM', 'CALT', 'CAMP', 'CAMT', 'CAN', 'CAPR', 'CAR', 'CARA', 'CARE', 'CARG', 'CARV', 'CASA', 'CASH', 'CASI', 'CASS', 'CASY', 'CATB', 'CATC', 'CATM', 'CATY', 'CBAN', 'CBAT', 'CBAY', 'CBFV', 'CBIO', 'CBLI', 'CBMB', 'CBMG', 'CBNK', 'CBPO', 'CBRL', 'CBSH', 'CBSHP', 'CBTX', 'CCAP', 'CCB', 'CCBG', 'CCCL', 'CCD', 'CCLP', 'CCMP', 'CCNC', 'CCNE', 'CCOI', 'CCRC', 'CCRN', 'CCXI', 'CDEV', 'CDK', 'CDLX', 'CDMO', 'CDMOP', 'CDNA', 'CDNS', 'CDTX', 'CDW', 'CDXC', 'CDXS', 'CDZI', 'CECE', 'CELC', 'CELH', 'CEMI', 'CENT', 'CENTA', 'CENX', 'CERC', 'CERN', 'CERS', 'CETV', 'CETX', 'CETXP', 'CETXW', 'CEVA', 'CFB', 'CFBI', 'CFBK', 'CFFA', 'CFFAU', 'CFFAW', 'CFFI', 'CFFN', 'CFMS', 'CFRX', 'CG', 'CGBD', 'CGEN', 'CGIX', 'CGNX', 'CGO', 'CGRO', 'CGROU', 'CGROW', 'CHCI', 'CHCO', 'CHDN', 'CHEF', 'CHEK', 'CHEKZ', 'CHFS', 'CHI', 'CHKP', 'CHMA', 'CHMG', 'CHNG', 'CHNGU', 'CHNR', 'CHPM', 'CHPMU', 'CHPMW', 'CHRS', 'CHRW', 'CHSCL', 'CHSCM', 'CHSCN', 'CHSCO', 'CHSCP', 'CHTR', 'CHUY', 'CHW', 'CHY', 'CIDM', 'CIGI', 'CIH', 'CIIC', 'CIICU', 'CIICW', 'CINF', 'CIVB', 'CIZN', 'CJJD', 'CKPT', 'CLAR', 'CLBK', 'CLBS', 'CLCT', 'CLDB', 'CLDX', 'CLEU', 'CLFD', 'CLGN', 'CLIR', 'CLLS', 'CLMT', 'CLNE', 'CLPS', 'CLPT', 'CLRB', 'CLRBZ', 'CLRO', 'CLSD', 'CLSK', 'CLSN', 'CLUB', 'CLVS', 'CLWT', 'CLXT', 'CMBM', 'CMCO', 'CMCSA', 'CMCT', 'CMCTP', 'CME', 'CMFNL', 'CMLS', 'CMPI', 'CMPR', 'CMRX', 'CMTL', 'CNBKA', 'CNCE', 'CNDT', 'CNET', 'CNFR', 'CNFRL', 'CNNB', 'CNOB', 'CNSL', 'CNSP', 'CNST', 'CNTG', 'CNTY', 'CNXN', 'COCP', 'CODA', 'CODX', 'COFS', 'COHR', 'COHU', 'COKE', 'COLB', 'COLL', 'COLM', 'COMM', 'CONE', 'CONN', 'COOP', 'CORE', 'CORT', 'COST', 'COUP', 'COWN', 'COWNL', 'COWNZ', 'CPAA', 'CPAAU', 'CPAAW', 'CPAH', 'CPHC', 'CPIX', 'CPLP', 'CPRT', 'CPRX', 'CPSH', 'CPSI', 'CPSS', 'CPST', 'CPTA', 'CPTAG', 'CPTAL', 'CPZ', 'CRAI', 'CRBP', 'CRDF', 'CREE', 'CREG', 'CRESY', 'CREX', 'CREXW', 'CRIS', 'CRMT', 'CRNC', 'CRNT', 'CRNX', 'CRON', 'CROX', 'CRSA', 'CRSAU', 'CRSAW', 'CRSP', 'CRTO', 'CRTX', 'CRUS', 'CRVL', 'CRVS', 'CRWD', 'CRWS', 'CSBR', 'CSCO', 'CSGP', 'CSGS', 'CSII', 'CSIQ', 'CSOD', 'CSPI', 'CSQ', 'CSSE', 'CSSEN', 'CSSEP', 'CSTE', 'CSTL', 'CSTR', 'CSWC', 'CSWCL', 'CSWI', 'CSX', 'CTAS', 'CTBI', 'CTG', 'CTHR', 'CTIB', 'CTIC', 'CTMX', 'CTRE', 'CTRM', 'CTRN', 'CTSH', 'CTSO', 'CTXR', 'CTXRW', 'CTXS', 'CUBA', 'CUE', 'CUTR', 'CVBF', 'CVCO', 'CVCY', 'CVET', 'CVGI', 'CVGW', 'CVLG', 'CVLT', 'CVLY', 'CVV', 'CWBC', 'CWBR', 'CWCO', 'CWST', 'CXDC', 'CXDO', 'CYAD', 'CYAN', 'CYBE', 'CYBR', 'CYCC', 'CYCCP', 'CYCN', 'CYRN', 'CYRX', 'CYTK', 'CZNC', 'CZR', 'CZWI', 'DADA', 'DAIO', 'DAKT', 'DARE', 'DBCP', 'DBVT', 'DBX', 'DCOM', 'DCOMP', 'DCPH', 'DCTH', 'DDOG', 'DENN', 'DFFN', 'DFHTU', 'DFPH', 'DFPHU', 'DFPHW', 'DGICA', 'DGICB', 'DGII', 'DGLY', 'DHC', 'DHCNI', 'DHCNL', 'DHIL', 'DIOD', 'DISCA', 'DISCB', 'DISCK', 'DISH', 'DJCO', 'DKNG', 'DLHC', 'DLPN', 'DLPNW', 'DLTH', 'DLTR', 'DMAC', 'DMLP', 'DMPI', 'DMRC', 'DMTK', 'DNKN', 'DNLI', 'DOCU', 'DOGZ', 'DOMO', 'DOOO', 'DORM', 'DOX', 'DOYU', 'DPHC', 'DPHCU', 'DPHCW', 'DRAD', 'DRADP', 'DRIO', 'DRIOW', 'DRNA', 'DRRX', 'DRTT', 'DSGX', 'DSKE', 'DSKEW', 'DSPG', 'DSWL', 'DTEA', 'DTIL', 'DTSS', 'DUO', 'DUOT', 'DVAX', 'DWSN', 'DXCM', 'DXLG', 'DXPE', 'DXYN', 'DYAI', 'DYNT', 'DZSI', 'EA', 'EARS', 'EAST', 'EBAY', 'EBAYL', 'EBIX', 'EBMT', 'EBON', 'EBSB', 'EBTC', 'ECHO', 'ECOL', 'ECOLW', 'ECOR', 'ECPG', 'EDAP', 'EDIT', 'EDNT', 'EDRY', 'EDSA', 'EDTK', 'EDUC', 'EEFT', 'EFOI', 'EFSC', 'EGAN', 'EGBN', 'EGLE', 'EGOV', 'EGRX', 'EH', 'EHTH', 'EIDX', 'EIGI', 'EIGR', 'EKSO', 'ELOX', 'ELSE', 'ELTK', 'EMCF', 'EMKR', 'EML', 'ENDP', 'ENG', 'ENLV', 'ENOB', 'ENPH', 'ENSG', 'ENTA', 'ENTG', 'ENTX', 'ENTXW', 'EOLS', 'EPAY', 'EPIX', 'EPSN', 'EPZM', 'EQ', 'EQBK', 'EQIX', 'ERESU', 'ERIC', 'ERIE', 'ERII', 'ERYP', 'ESBK', 'ESCA', 'ESEA', 'ESGR', 'ESGRO', 'ESGRP', 'ESLT', 'ESPR', 'ESQ', 'ESSA', 'ESSC', 'ESSCR', 'ESSCU', 'ESSCW', 'ESTA', 'ESXB', 'ETACU', 'ETFC', 'ETNB', 'ETON', 'ETSY', 'ETTX', 'EVBG', 'EVER', 'EVFM', 'EVGBC', 'EVGN', 'EVK', 'EVLMC', 'EVLO', 'EVOK', 'EVOL', 'EVOP', 'EVSI', 'EVSIW', 'EVSTC', 'EWBC', 'EXAS', 'EXC', 'EXEL', 'EXFO', 'EXLS', 'EXPC', 'EXPCU', 'EXPCW', 'EXPD', 'EXPE', 'EXPI', 'EXPO', 'EXTR', 'EYE', 'EYEG', 'EYEN', 'EYES', 'EYESW', 'EYPT', 'EZPW', 'FAMI', 'FANG', 'FANH', 'FARM', 'FARO', 'FAST', 'FAT', 'FATBP', 'FATBW', 'FATE', 'FB', 'FBIO', 'FBIOP', 'FBIZ', 'FBMS', 'FBNC', 'FBRX', 'FBSS', 'FCAP', 'FCBC', 'FCBP', 'FCCO', 'FCCY', 'FCEL', 'FCFS', 'FCNCA', 'FCNCP', 'FCRD', 'FDBC', 'FDUS', 'FDUSG', 'FDUSL', 'FDUSZ', 'FEIM', 'FELE', 'FENC', 'FEYE', 'FFBC', 'FFBW', 'FFHL', 'FFIC', 'FFIN', 'FFIV', 'FFNW', 'FFWM', 'FGBI', 'FGEN', 'FHB', 'FIBK', 'FISI', 'FISV', 'FITB', 'FITBI', 'FITBO', 'FITBP', 'FIVE', 'FIVN', 'FIXX', 'FIZZ', 'FLDM', 'FLEX', 'FLGT', 'FLIC', 'FLIR', 'FLL', 'FLMN', 'FLMNW', 'FLNT', 'FLWS', 'FLXN', 'FLXS', 'FMAO', 'FMBH', 'FMBI', 'FMBIO', 'FMBIP', 'FMCI', 'FMCIU', 'FMCIW', 'FMNB', 'FMTX', 'FNCB', 'FNHC', 'FNKO', 'FNLC', 'FNWB', 'FOCS', 'FOLD', 'FONR', 'FORD', 'FORK', 'FORM', 'FORR', 'FORTY', 'FOSL', 'FOX', 'FOXA', 'FOXF', 'FPAY', 'FPRX', 'FRAF', 'FRAN', 'FRBA', 'FRBK', 'FREE', 'FREEW', 'FREQ', 'FRG', 'FRGI', 'FRHC', 'FRLN', 'FRME', 'FRPH', 'FRPT', 'FRSX', 'FRTA', 'FSBW', 'FSCT', 'FSEA', 'FSFG', 'FSLR', 'FSRV', 'FSRVU', 'FSRVW', 'FSTR', 'FSV', 'FTAC', 'FTACU', 'FTACW', 'FTDR', 'FTEK', 'FTFT', 'FTHM', 'FTNT', 'FULC', 'FULT', 'FUNC', 'FUND', 'FUSB', 'FUSN', 'FUTU', 'FUV', 'FVCB', 'FVE', 'FWONA', 'FWONK', 'FWP', 'FWRD', 'FXNC', 'GABC', 'GAIA', 'GAIN', 'GAINL', 'GAINM', 'GALT', 'GAN', 'GARS', 'GASS', 'GBCI', 'GBDC', 'GBIO', 'GBLI', 'GBLIL', 'GBLIZ', 'GBT', 'GCBC', 'GDEN', 'GDS', 'GDYN', 'GDYNW', 'GEC', 'GECC', 'GECCL', 'GECCM', 'GECCN', 'GENC', 'GENE', 'GEOS', 'GERN', 'GEVO', 'GFED', 'GFN', 'GFNCP', 'GFNSL', 'GGAL', 'GH', 'GHIV', 'GHIVU', 'GHIVW', 'GHSI', 'GIFI', 'GIGM', 'GIII', 'GILD', 'GILT', 'GLAD', 'GLADD', 'GLADL', 'GLBS', 'GLBZ', 'GLDD', 'GLDI', 'GLG', 'GLIBA', 'GLIBP', 'GLMD', 'GLNG', 'GLPG', 'GLPI', 'GLRE', 'GLUU', 'GLYC', 'GMAB', 'GMBL', 'GMBLW', 'GMDA', 'GMHI', 'GMHIU', 'GMHIW', 'GMLP', 'GMLPP', 'GNCA', 'GNFT', 'GNLN', 'GNMK', 'GNPX', 'GNRS', 'GNRSU', 'GNRSW', 'GNSS', 'GNTX', 'GNTY', 'GNUS', 'GO', 'GOCO', 'GOGL', 'GOGO', 'GOOD', 'GOODM', 'GOODN', 'GOOG', 'GOOGL', 'GOSS', 'GPOR', 'GPP', 'GPRE', 'GPRO', 'GRBK', 'GRCYU', 'GRFS', 'GRIF', 'GRIL', 'GRIN', 'GRMN', 'GRNQ', 'GRNV', 'GRNVR', 'GRNVU', 'GRNVW', 'GROW', 'GRPN', 'GRSVU', 'GRTS', 'GRTX', 'GRVY', 'GRWG', 'GSBC', 'GSHD', 'GSIT', 'GSKY', 'GSM', 'GSMG', 'GSMGW', 'GSUM', 'GT', 'GTEC', 'GTH', 'GTHX', 'GTIM', 'GTLS', 'GTYH', 'GURE', 'GVP', 'GWGH', 'GWPH', 'GWRS', 'GXGX', 'GXGXU', 'GXGXW', 'GYRO', 'HA', 'HAFC', 'HAIN', 'HALL', 'HALO', 'HAPP', 'HARP', 'HAS', 'HAYN', 'HBAN', 'HBANN', 'HBANO', 'HBCP', 'HBIO', 'HBMD', 'HBNC', 'HBP', 'HBT', 'HCAC', 'HCACU', 'HCACW', 'HCAP', 'HCAPZ', 'HCAT', 'HCCH', 'HCCHR', 'HCCHU', 'HCCHW', 'HCCI', 'HCCO', 'HCCOU', 'HCCOW', 'HCKT', 'HCM', 'HCSG', 'HDS', 'HDSN', 'HEAR', 'HEBT', 'HEC', 'HECCU', 'HECCW', 'HEES', 'HELE', 'HEPA', 'HFBL', 'HFFG', 'HFWA', 'HGSH', 'HHR', 'HHT', 'HIBB', 'HIFS', 'HIHO', 'HIMX', 'HJLI', 'HJLIW', 'HLG', 'HLIO', 'HLIT', 'HLNE', 'HMHC', 'HMNF', 'HMST', 'HMSY', 'HMTV', 'HNNA', 'HNRG', 'HOFT', 'HOFV', 'HOFVW', 'HOLI', 'HOLUU', 'HOLX', 'HOMB', 'HONE', 'HOOK', 'HOPE', 'HOTH', 'HOVNP', 'HQI', 'HQY', 'HROW', 'HRTX', 'HRZN', 'HSAQ', 'HSDT', 'HSIC', 'HSII', 'HSKA', 'HSON', 'HSTM', 'HSTO', 'HTBI', 'HTBK', 'HTBX', 'HTGM', 'HTHT', 'HTIA', 'HTLD', 'HTLF', 'HTLFP', 'HUBG', 'HUGE', 'HUIZ', 'HURC', 'HURN', 'HUSN', 'HVBC', 'HWBK', 'HWC', 'HWCC', 'HWCPL', 'HWCPZ', 'HWKN', 'HX', 'HYAC', 'HYACU', 'HYACW', 'HYMC', 'HYMCW', 'HYRE', 'HZNP', 'IAC', 'IART', 'IBCP', 'IBEX', 'IBKR', 'IBOC', 'IBTX', 'ICAD', 'ICBK', 'ICCC', 'ICCH', 'ICFI', 'ICHR', 'ICLK', 'ICLR', 'ICMB', 'ICON', 'ICPT', 'ICUI', 'IDCC', 'IDEX', 'IDN', 'IDRA', 'IDXG', 'IDXX', 'IDYA', 'IEA', 'IEAWW', 'IEC', 'IEP', 'IESC', 'IFMK', 'IFRX', 'IGIC', 'IGICW', 'IGMS', 'IHRT', 'III', 'IIIN', 'IIIV', 'IIN', 'IIVI', 'IIVIP', 'IKNX', 'ILMN', 'ILPT', 'IMAB', 'IMAC', 'IMACW', 'IMBI', 'IMGN', 'IMKTA', 'IMMP', 'IMMR', 'IMMU', 'IMOS', 'IMRA', 'IMRN', 'IMRNW', 'IMTE', 'IMTX', 'IMTXW', 'IMUX', 'IMV', 'IMVT', 'IMXI', 'INBK', 'INBKL', 'INBKZ', 'INCY', 'INDB', 'INFI', 'INFN', 'INGN', 'INMB', 'INMD', 'INO', 'INOD', 'INOV', 'INPX', 'INSE', 'INSG', 'INSM', 'INSU', 'INSUU', 'INSUW', 'INTC', 'INTG', 'INTU', 'INVA', 'INVE', 'INWK', 'INZY', 'IONS', 'IOSP', 'IOVA', 'IPAR', 'IPDN', 'IPGP', 'IPHA', 'IPLDP', 'IPWR', 'IQ', 'IRBT', 'IRCP', 'IRDM', 'IRIX', 'IRMD', 'IROQ', 'IRTC', 'IRWD', 'ISBC', 'ISEE', 'ISIG', 'ISNS', 'ISRG', 'ISSC', 'ISTR', 'ITCI', 'ITI', 'ITIC', 'ITMR', 'ITOS', 'ITRI', 'ITRM', 'ITRN', 'IVA', 'IVAC', 'IZEA', 'JACK', 'JAGX', 'JAKK', 'JAMF', 'JAN', 'JAZZ', 'JBHT', 'JBLU', 'JBSS', 'JCOM', 'JCS', 'JCTCF', 'JD', 'JFIN', 'JFK', 'JFKKR', 'JFKKU', 'JFKKW', 'JFU', 'JG', 'JJSF', 'JKHY', 'JMPNL', 'JMPNZ', 'JNCE', 'JOBS', 'JOUT', 'JRJC', 'JRSH', 'JRVR', 'JSM', 'JVA', 'JYNT', 'KALA', 'KALU', 'KALV', 'KBAL', 'KBLM', 'KBLMR', 'KBLMU', 'KBLMW', 'KBSF', 'KC', 'KCAPL', 'KE', 'KELYA', 'KELYB', 'KEQU', 'KERN', 'KERNW', 'KFFB', 'KFRC', 'KGJI', 'KHC', 'KIDS', 'KIN', 'KINS', 'KIRK', 'KLAC', 'KLDO', 'KLIC', 'KLXE', 'KMDA', 'KNDI', 'KNSA', 'KNSL', 'KOD', 'KOPN', 'KOSS', 'KPTI', 'KRKR', 'KRMD', 'KRNT', 'KRNY', 'KROS', 'KRTX', 'KRUS', 'KRYS', 'KSMTU', 'KTCC', 'KTOS', 'KTOV', 'KTOVW', 'KURA', 'KVHI', 'KXIN', 'KZIA', 'KZR', 'LACQ', 'LACQU', 'LACQW', 'LAKE', 'LAMR', 'LANC', 'LAND', 'LANDP', 'LARK', 'LASR', 'LATN', 'LATNU', 'LATNW', 'LAUR', 'LAWS', 'LAZY', 'LBAI', 'LBC', 'LBRDA', 'LBRDK', 'LBTYA', 'LBTYB', 'LBTYK', 'LCA', 'LCAHU', 'LCAHW', 'LCNB', 'LCUT', 'LE', 'LECO', 'LEDS', 'LEGH', 'LEGN', 'LEVL', 'LFAC', 'LFACU', 'LFACW', 'LFUS', 'LFVN', 'LGHL', 'LGHLW', 'LGIH', 'LGND', 'LHCG', 'LI', 'LIFE', 'LILA', 'LILAK', 'LINC', 'LIND', 'LIQT', 'LITE', 'LIVE', 'LIVK', 'LIVKU', 'LIVKW', 'LIVN', 'LIVX', 'LIZI', 'LJPC', 'LKCO', 'LKFN', 'LKQ', 'LLIT', 'LLNW', 'LMAT', 'LMB', 'LMFA', 'LMFAW', 'LMNL', 'LMNR', 'LMNX', 'LMPX', 'LMRK', 'LMRKN', 'LMRKO', 'LMRKP', 'LMST', 'LNDC', 'LNT', 'LNTH', 'LOAC', 'LOACR', 'LOACU', 'LOACW', 'LOAN', 'LOB', 'LOCO', 'LOGC', 'LOGI', 'LOGM', 'LONE', 'LOOP', 'LOPE', 'LORL', 'LOVE', 'LPCN', 'LPLA', 'LPRO', 'LPSN', 'LPTH', 'LPTX', 'LQDA', 'LQDT', 'LRCX', 'LRMR', 'LSAC', 'LSACU', 'LSACW', 'LSBK', 'LSCC', 'LSTR', 'LSXMA', 'LSXMB', 'LSXMK', 'LTBR', 'LTRN', 'LTRPA', 'LTRPB', 'LTRX', 'LULU', 'LUMO', 'LUNA', 'LVGO', 'LWAY', 'LX', 'LXRX', 'LYFT', 'LYL', 'LYRA', 'LYTS', 'MACK', 'MAGS', 'MANH', 'MANT', 'MAR', 'MARA', 'MARK', 'MARPS', 'MASI', 'MAT', 'MATW', 'MAYS', 'MBCN', 'MBII', 'MBIN', 'MBINO', 'MBINP', 'MBIO', 'MBNKP', 'MBOT', 'MBRX', 'MBUU', 'MBWM', 'MCACU', 'MCBC', 'MCBS', 'MCEP', 'MCFT', 'MCHP', 'MCHX', 'MCMJ', 'MCMJW', 'MCRB', 'MCRI', 'MDB', 'MDCA', 'MDGL', 'MDGS', 'MDGSW', 'MDIA', 'MDJH', 'MDLZ', 'MDRR', 'MDRRP', 'MDRX', 'MDWD', 'MEDP', 'MEDS', 'MEET', 'MEIP', 'MELI', 'MEOH', 'MERC', 'MESA', 'MESO', 'METC', 'METX', 'METXW', 'MFH', 'MFIN', 'MFINL', 'MFNC', 'MGEE', 'MGEN', 'MGI', 'MGIC', 'MGLN', 'MGNI', 'MGNX', 'MGPI', 'MGRC', 'MGTA', 'MGTX', 'MGYR', 'MHLD', 'MICT', 'MIDD', 'MIK', 'MIME', 'MIND', 'MINDP', 'MIRM', 'MIST', 'MITK', 'MITO', 'MJCO', 'MKD', 'MKGI', 'MKSI', 'MKTX', 'MLAB', 'MLAC', 'MLACU', 'MLACW', 'MLCO', 'MLHR', 'MLND', 'MLVF', 'MMAC', 'MMLP', 'MMSI', 'MMYT', 'MNCL', 'MNCLU', 'MNCLW', 'MNDO', 'MNKD', 'MNLO', 'MNOV', 'MNPR', 'MNRO', 'MNSB', 'MNST', 'MNTA', 'MNTX', 'MOBL', 'MOFG', 'MOGO', 'MOHO', 'MOMO', 'MOR', 'MORF', 'MORN', 'MOSY', 'MOTS', 'MOXC', 'MPAA', 'MPB', 'MPWR', 'MRAM', 'MRBK', 'MRCC', 'MRCCL', 'MRCY', 'MREO', 'MRIN', 'MRKR', 'MRLN', 'MRNA', 'MRNS', 'MRSN', 'MRTN', 'MRTX', 'MRUS', 'MRVL', 'MSBI', 'MSEX', 'MSFT', 'MSON', 'MSTR', 'MSVB', 'MTBC', 'MTBCP', 'MTC', 'MTCH', 'MTEM', 'MTEX', 'MTLS', 'MTP', 'MTRX', 'MTSC', 'MTSI', 'MTSL', 'MU', 'MVBF', 'MVIS', 'MWK', 'MXIM', 'MYFW', 'MYGN', 'MYL', 'MYOK', 'MYOS', 'MYRG', 'MYSZ', 'MYT', 'NAII', 'NAKD', 'NAOV', 'NARI', 'NATH', 'NATI', 'NATR', 'NAVI', 'NBAC', 'NBACR', 'NBACU', 'NBACW', 'NBEV', 'NBIX', 'NBL', 'NBLX', 'NBN', 'NBRV', 'NBSE', 'NBTB', 'NCBS', 'NCMI', 'NCNA', 'NCNO', 'NCSM', 'NCTY', 'NDAQ', 'NDLS', 'NDRA', 'NDRAW', 'NDSN', 'NEO', 'NEOG', 'NEON', 'NEOS', 'NEPH', 'NEPT', 'NERV', 'NESR', 'NESRW', 'NETE', 'NEWA', 'NEWT', 'NEWTI', 'NEWTL', 'NEXT', 'NFBK', 'NFE', 'NFIN', 'NFINU', 'NFINW', 'NFLX', 'NGHC', 'NGHCN', 'NGHCO', 'NGHCP', 'NGHCZ', 'NGM', 'NH', 'NHICU', 'NHLD', 'NHLDW', 'NHTC', 'NICE', 'NICK', 'NIU', 'NK', 'NKLA', 'NKLAW', 'NKSH', 'NKTR', 'NKTX', 'NLOK', 'NLTX', 'NMCI', 'NMIH', 'NMRD', 'NMRK', 'NMTR', 'NNBR', 'NNDM', 'NODK', 'NOVN', 'NOVS', 'NOVSU', 'NOVSW', 'NOVT', 'NPA', 'NPAUU', 'NPAWW', 'NRBO', 'NRC', 'NRIM', 'NRIX', 'NSEC', 'NSIT', 'NSSC', 'NSTG', 'NSYS', 'NTAP', 'NTCT', 'NTEC', 'NTES', 'NTGR', 'NTIC', 'NTLA', 'NTNX', 'NTRA', 'NTRP', 'NTRS', 'NTRSO', 'NTUS', 'NTWK', 'NUAN', 'NURO', 'NUVA', 'NUZE', 'NVAX', 'NVCN', 'NVCR', 'NVDA', 'NVEC', 'NVEE', 'NVFY', 'NVIV', 'NVMI', 'NVUS', 'NWBI', 'NWFL', 'NWGI', 'NWL', 'NWLI', 'NWPX', 'NWS', 'NWSA', 'NXGN', 'NXPI', 'NXST', 'NXTC', 'NXTD', 'NYMT', 'NYMTM', 'NYMTN', 'NYMTO', 'NYMTP', 'NYMX', 'OAS', 'OBAS', 'OBCI', 'OBLN', 'OBNK', 'OBSV', 'OCC', 'OCCI', 'OCCIP', 'OCFC', 'OCFCP', 'OCGN', 'OCSI', 'OCSL', 'OCUL', 'ODFL', 'ODP', 'ODT', 'OEG', 'OESX', 'OFED', 'OFIX', 'OFLX', 'OFS', 'OFSSI', 'OFSSL', 'OFSSZ', 'OGI', 'OIIM', 'OKTA', 'OLB', 'OLED', 'OLLI', 'OMAB', 'OMCL', 'OMER', 'OMEX', 'OMP', 'ON', 'ONB', 'ONCS', 'ONCT', 'ONCY', 'ONEM', 'ONEW', 'ONTX', 'ONTXW', 'ONVO', 'OPBK', 'OPCH', 'OPES', 'OPESU', 'OPESW', 'OPGN', 'OPHC', 'OPI', 'OPINI', 'OPINL', 'OPK', 'OPNT', 'OPOF', 'OPRA', 'OPRT', 'OPRX', 'OPTN', 'OPTT', 'ORBC', 'ORGO', 'ORGS', 'ORIC', 'ORLY', 'ORMP', 'ORRF', 'ORSN', 'ORSNR', 'ORSNU', 'ORSNW', 'ORTX', 'OSBC', 'OSIS', 'OSMT', 'OSN', 'OSPN', 'OSS', 'OSTK', 'OSUR', 'OSW', 'OTEL', 'OTEX', 'OTIC', 'OTLK', 'OTLKW', 'OTRK', 'OTTR', 'OVBC', 'OVID', 'OVLY', 'OXBR', 'OXBRW', 'OXFD', 'OXLC', 'OXLCM', 'OXLCO', 'OXLCP', 'OXSQ', 'OXSQL', 'OXSQZ', 'OYST', 'OZK', 'PAAS', 'PACB', 'PACQ', 'PACQU', 'PACQW', 'PACW', 'PAE', 'PAEWW', 'PAHC', 'PAND', 'PANL', 'PASG', 'PATI', 'PATK', 'PAVM', 'PAVMW', 'PAVMZ', 'PAYS', 'PAYX', 'PBCT', 'PBCTP', 'PBFS', 'PBHC', 'PBIP', 'PBPB', 'PBTS', 'PBYI', 'PCAR', 'PCB', 'PCH', 'PCOM', 'PCRX', 'PCSB', 'PCTI', 'PCTY', 'PCVX', 'PCYG', 'PCYO', 'PDCE', 'PDCO', 'PDD', 'PDEX', 'PDFS', 'PDLB', 'PDLI', 'PDSB', 'PEBK', 'PEBO', 'PECK', 'PEGA', 'PEIX', 'PENN', 'PEP', 'PERI', 'PESI', 'PETQ', 'PETS', 'PETZ', 'PFBC', 'PFBI', 'PFC', 'PFG', 'PFHD', 'PFIE', 'PFIN', 'PFIS', 'PFLT', 'PFMT', 'PFPT', 'PFSW', 'PGC', 'PGEN', 'PGNY', 'PHAS', 'PHAT', 'PHCF', 'PHIO', 'PHIOW', 'PHUN', 'PHUNW', 'PI', 'PICO', 'PIH', 'PIHPP', 'PINC', 'PIRS', 'PIXY', 'PKBK', 'PKOH', 'PLAB', 'PLAY', 'PLBC', 'PLCE', 'PLIN', 'PLL', 'PLMR', 'PLPC', 'PLRX', 'PLSE', 'PLUG', 'PLUS', 'PLXP', 'PLXS', 'PLYA', 'PMBC', 'PMD', 'PME', 'PNBK', 'PNFP', 'PNFPP', 'PNNT', 'PNNTG', 'PNRG', 'PNTG', 'POAI', 'PODD', 'POLA', 'POOL', 'POWI', 'POWL', 'PPBI', 'PPC', 'PPD', 'PPHI', 'PPIH', 'PPSI', 'PRAA', 'PRAH', 'PRCP', 'PRDO', 'PRFT', 'PRGS', 'PRGX', 'PRIM', 'PRNB', 'PROF', 'PROG', 'PROV', 'PRPH', 'PRPL', 'PRPLW', 'PRPO', 'PRQR', 'PRSC', 'PRTA', 'PRTH', 'PRTK', 'PRTS', 'PRVB', 'PRVL', 'PS', 'PSACU', 'PSEC', 'PSHG', 'PSMT', 'PSNL', 'PSTI', 'PSTV', 'PSTX', 'PT', 'PTAC', 'PTACU', 'PTACW', 'PTC', 'PTCT', 'PTE', 'PTEN', 'PTGX', 'PTI', 'PTMN', 'PTNR', 'PTON', 'PTSI', 'PTVCA', 'PTVCB', 'PULM', 'PUYI', 'PVAC', 'PVBC', 'PWFL', 'PWOD', 'PXLW', 'PXS', 'PYPD', 'PYPL', 'PZZA', 'QADA', 'QADB', 'QCOM', 'QCRH', 'QDEL', 'QFIN', 'QH', 'QIWI', 'QK', 'QLGN', 'QLYS', 'QMCO', 'QNST', 'QQQX', 'QRHC', 'QRTEA', 'QRTEB', 'QRVO', 'QTNT', 'QTRX', 'QTT', 'QUIK', 'QUMU', 'QURE', 'RACA', 'RADA', 'RAIL', 'RAND', 'RAPT', 'RARE', 'RAVE', 'RAVN', 'RBB', 'RBBN', 'RBCAA', 'RBCN', 'RBKB', 'RBNC', 'RCEL', 'RCII', 'RCKT', 'RCKY', 'RCM', 'RCMT', 'RCON', 'RDCM', 'RDFN', 'RDHL', 'RDI', 'RDIB', 'RDNT', 'RDUS', 'RDVT', 'RDWR', 'REAL', 'REDU', 'REED', 'REFR', 'REG', 'REGI', 'REGN', 'REKR', 'RELL', 'RELV', 'REPH', 'REPL', 'RESN', 'RETA', 'RETO', 'REXN', 'REYN', 'RFIL', 'RGCO', 'RGEN', 'RGLD', 'RGLS', 'RGNX', 'RGP', 'RIBT', 'RICK', 'RIGL', 'RILY', 'RILYG', 'RILYH', 'RILYI', 'RILYM', 'RILYN', 'RILYO', 'RILYP', 'RILYZ', 'RIOT', 'RIVE', 'RKDA', 'RLAY', 'RLMD', 'RMBI', 'RMBL', 'RMBS', 'RMCF', 'RMNI', 'RMR', 'RMRM', 'RMTI', 'RNA', 'RNDB', 'RNET', 'RNLX', 'RNST', 'RNWK', 'ROAD', 'ROCH', 'ROCHU', 'ROCHW', 'ROCK', 'ROIC', 'ROKU', 'ROLL', 'ROST', 'RP', 'RPAY', 'RPD', 'RPRX', 'RPTX', 'RRBI', 'RRGB', 'RRR', 'RSSS', 'RTLR', 'RTRX', 'RUBY', 'RUHN', 'RUN', 'RUSHA', 'RUSHB', 'RUTH', 'RVMD', 'RVNC', 'RVSB', 'RWLK', 'RXT', 'RYAAY', 'RYTM', 'SABR', 'SAFM', 'SAFT', 'SAGE', 'SAIA', 'SAL', 'SALM', 'SAMA', 'SAMAU', 'SAMAW', 'SAMG', 'SANM', 'SANW', 'SAQN', 'SAQNU', 'SAQNW', 'SASR', 'SATS', 'SAVA', 'SBAC', 'SBBP', 'SBCF', 'SBFG', 'SBGI', 'SBLK', 'SBLKZ', 'SBNY', 'SBPH', 'SBRA', 'SBSI', 'SBT', 'SBUX', 'SCHL', 'SCHN', 'SCKT', 'SCON', 'SCOR', 'SCPH', 'SCPL', 'SCSC', 'SCVL', 'SCWX', 'SCYX', 'SDC', 'SDGR', 'SEAC', 'SECO', 'SEDG', 'SEED', 'SEEL', 'SEIC', 'SELB', 'SELF', 'SENEA', 'SENEB', 'SESN', 'SFBC', 'SFBS', 'SFET', 'SFIX', 'SFM', 'SFNC', 'SFST', 'SG', 'SGA', 'SGBX', 'SGC', 'SGEN', 'SGH', 'SGLB', 'SGLBW', 'SGMA', 'SGMO', 'SGMS', 'SGOC', 'SGRP', 'SGRY', 'SHBI', 'SHEN', 'SHIP', 'SHIPW', 'SHIPZ', 'SHLO', 'SHOO', 'SHSP', 'SHYF', 'SIBN', 'SIC', 'SIEB', 'SIEN', 'SIFY', 'SIGA', 'SIGI', 'SILC', 'SILK', 'SIMO', 'SINA', 'SINO', 'SINT', 'SIRI', 'SITM', 'SIVB', 'SIVBP', 'SJ', 'SKYS', 'SKYW', 'SLAB', 'SLCT', 'SLDB', 'SLGG', 'SLGL', 'SLGN', 'SLM', 'SLMBP', 'SLNO', 'SLP', 'SLRC', 'SLRX', 'SLS', 'SLVO', 'SMBC', 'SMBK', 'SMCI', 'SMED', 'SMIT', 'SMMC', 'SMMCU', 'SMMCW', 'SMMF', 'SMMT', 'SMPL', 'SMRT', 'SMSI', 'SMTC', 'SMTX', 'SNBR', 'SNCA', 'SNCR', 'SND', 'SNDE', 'SNDL', 'SNDX', 'SNES', 'SNEX', 'SNFCA', 'SNGX', 'SNGXW', 'SNOA', 'SNPS', 'SNSS', 'SNY', 'SOHO', 'SOHOB', 'SOHON', 'SOHOO', 'SOHU', 'SOLO', 'SOLOW', 'SOLY', 'SONA', 'SONM', 'SONN', 'SONO', 'SP', 'SPCB', 'SPFI', 'SPI', 'SPKE', 'SPKEP', 'SPLK', 'SPNE', 'SPNS', 'SPOK', 'SPPI', 'SPRO', 'SPRT', 'SPSC', 'SPT', 'SPTN', 'SPWH', 'SPWR', 'SQBG', 'SRAC', 'SRACU', 'SRACW', 'SRAX', 'SRCE', 'SRCL', 'SRDX', 'SREV', 'SRGA', 'SRNE', 'SRPT', 'SRRA', 'SRRK', 'SRTS', 'SSB', 'SSBI', 'SSKN', 'SSNC', 'SSNT', 'SSP', 'SSPK', 'SSPKU', 'SSPKW', 'SSRM', 'SSSS', 'SSTI', 'SSYS', 'STAA', 'STAF', 'STAY', 'STBA', 'STCN', 'STFC', 'STIM', 'STKL', 'STKS', 'STLD', 'STMP', 'STND', 'STNE', 'STOK', 'STRA', 'STRL', 'STRM', 'STRO', 'STRS', 'STRT', 'STSA', 'STX', 'STXB', 'SUMR', 'SUNS', 'SUNW', 'SUPN', 'SURF', 'SVA', 'SVBI', 'SVC', 'SVMK', 'SVRA', 'SVVC', 'SWAV', 'SWBI', 'SWIR', 'SWKH', 'SWKS', 'SWTX', 'SXTC', 'SY', 'SYBT', 'SYBX', 'SYKE', 'SYNA', 'SYNC', 'SYNH', 'SYNL', 'SYPR', 'SYRS', 'TA', 'TACO', 'TACT', 'TAIT', 'TANH', 'TANNI', 'TANNL', 'TANNZ', 'TAOP', 'TARA', 'TAST', 'TATT', 'TAYD', 'TBBK', 'TBIO', 'TBK', 'TBKCP', 'TBLT', 'TBLTW', 'TBNK', 'TBPH', 'TC', 'TCBI', 'TCBIL', 'TCBIP', 'TCBK', 'TCCO', 'TCDA', 'TCF', 'TCFC', 'TCFCP', 'TCMD', 'TCOM', 'TCON', 'TCPC', 'TCRR', 'TCX', 'TDAC', 'TDACU', 'TDACW', 'TEAM', 'TECH', 'TECTP', 'TEDU', 'TELA', 'TELL', 'TENB', 'TENX', 'TER', 'TESS', 'TEUM', 'TFFP', 'TFSL', 'TGA', 'TGLS', 'TGTX', 'TH', 'THBR', 'THBRU', 'THBRW', 'THCA', 'THCAU', 'THCAW', 'THCB', 'THCBU', 'THCBW', 'THFF', 'THMO', 'THRM', 'THTX', 'THWWW', 'TIG', 'TIGO', 'TIGR', 'TILE', 'TIPT', 'TITN', 'TLC', 'TLF', 'TLGT', 'TLND', 'TLRY', 'TLSA', 'TMDI', 'TMDX', 'TMUS', 'TNAV', 'TNDM', 'TNXP', 'TOPS', 'TORC', 'TOTA', 'TOTAR', 'TOTAU', 'TOTAW', 'TOUR', 'TOWN', 'TPCO', 'TPIC', 'TPTX', 'TRCH', 'TREE', 'TRHC', 'TRIB', 'TRIL', 'TRIP', 'TRMB', 'TRMD', 'TRMK', 'TRMT', 'TRNS', 'TROW', 'TRS', 'TRST', 'TRUE', 'TRUP', 'TRVG', 'TRVI', 'TRVN', 'TSBK', 'TSC', 'TSCAP', 'TSCBP', 'TSCO', 'TSEM', 'TSLA', 'TSRI', 'TTD', 'TTEC', 'TTEK', 'TTGT', 'TTMI', 'TTNP', 'TTOO', 'TTWO', 'TURN', 'TUSK', 'TVTY', 'TW', 'TWIN', 'TWMC', 'TWNK', 'TWNKW', 'TWOU', 'TWST', 'TXG', 'TXMD', 'TXN', 'TXRH', 'TYHT', 'TYME', 'TZAC', 'TZACU', 'TZACW', 'TZOO', 'UAL', 'UBCP', 'UBFO', 'UBOH', 'UBSI', 'UBX', 'UCBI', 'UCBIO', 'UCL', 'UCTT', 'UEIC', 'UEPS', 'UFCS', 'UFPI', 'UFPT', 'UG', 'UHAL', 'UIHC', 'ULBI', 'ULH', 'ULTA', 'UMBF', 'UMPQ', 'UMRX', 'UNAM', 'UNB', 'UNIT', 'UNTY', 'UONE', 'UONEK', 'UPLD', 'UPWK', 'URBN', 'URGN', 'UROV', 'USAK', 'USAP', 'USAU', 'USCR', 'USEG', 'USIO', 'USLM', 'USOI', 'USWS', 'USWSW', 'UTHR', 'UTMD', 'UTSI', 'UVSP', 'UXIN', 'VALU', 'VBFC', 'VBIV', 'VBLT', 'VBTX', 'VC', 'VCEL', 'VCNX', 'VCTR', 'VCYT', 'VECO', 'VEON', 'VERB', 'VERBW', 'VERI', 'VERO', 'VERU', 'VERX', 'VERY', 'VFF', 'VG', 'VIAC', 'VIACA', 'VIAV', 'VICR', 'VIE', 'VIOT', 'VIR', 'VIRC', 'VIRT', 'VISL', 'VITL', 'VIVE', 'VIVO', 'VKTX', 'VKTXW', 'VLGEA', 'VLY', 'VLYPO', 'VLYPP', 'VMACU', 'VMD', 'VNDA', 'VNET', 'VNOM', 'VOD', 'VOXX', 'VRA', 'VRAY', 'VRCA', 'VREX', 'VRM', 'VRME', 'VRMEW', 'VRNA', 'VRNS', 'VRNT', 'VRRM', 'VRSK', 'VRSN', 'VRTS', 'VRTU', 'VRTX', 'VSAT', 'VSEC', 'VSTA', 'VSTM', 'VTGN', 'VTNR', 'VTSI', 'VTVT', 'VUZI', 'VVPR', 'VXRT', 'VYGR', 'WABC', 'WAFD', 'WAFU', 'WASH', 'WATT', 'WB', 'WBA', 'WDAY', 'WDC', 'WDFC', 'WEN', 'WERN', 'WETF', 'WEYS', 'WHF', 'WHFBZ', 'WHLM', 'WHLR', 'WHLRD', 'WHLRP', 'WIFI', 'WILC', 'WIMI', 'WINA', 'WING', 'WINS', 'WINT', 'WIRE', 'WISA', 'WIX', 'WKEY', 'WKHS', 'WLDN', 'WLFC', 'WLTW', 'WMG', 'WMGI', 'WNEB', 'WORX', 'WPRT', 'WRLD', 'WRTC', 'WSBC', 'WSBF', 'WSC', 'WSFS', 'WSG', 'WSTG', 'WSTL', 'WTBA', 'WTER', 'WTFC', 'WTFCM', 'WTFCP', 'WTRE', 'WTREP', 'WTRH', 'WVE', 'WVFC', 'WVVI', 'WVVIP', 'WW', 'WWD', 'WWR', 'WYNN', 'XAIR', 'XBIO', 'XBIOW', 'XBIT', 'XCUR', 'XEL', 'XELA', 'XELB', 'XENE', 'XENT', 'XERS', 'XFOR', 'XGN', 'XLNX', 'XLRN', 'XNCR', 'XNET', 'XOMA', 'XONE', 'XP', 'XPEL', 'XPER', 'XRAY', 'XSPA', 'XTLB', 'YGYI', 'YGYIP', 'YI', 'YIN', 'YJ', 'YMAB', 'YNDX', 'YORW', 'YRCW', 'YTEN', 'YTRA', 'YVR', 'YY', 'Z', 'ZAGG', 'ZAZZT', 'ZBRA', 'ZBZZT', 'ZCMD', 'ZCZZT', 'ZEAL', 'ZEUS', 'ZG', 'ZGNX', 'ZGYH', 'ZGYHR', 'ZGYHU', 'ZGYHW', 'ZI', 'ZION', 'ZIONL', 'ZIONN', 'ZIONO', 'ZIONP', 'ZIOP', 'ZIXI', 'ZJZZT', 'ZKIN', 'ZLAB', 'ZM', 'ZN', 'ZNGA', 'ZNTL', 'ZNWAA', 'ZS', 'ZSAN', 'ZUMZ', 'ZVO', 'ZVZZC', 'ZVZZT', 'ZWZZT', 'ZXYZ.A', 'ZXZZT', 'ZYNE', 'ZYXI', 'A', 'AA', 'AAMC', 'AAN', 'AAP', 'AAT', 'AAU', 'AB', 'ABB', 'ABBV', 'ABC', 'ABEV', 'ABG', 'ABM', 'ABR', 'ABR$A', 'ABR$B', 'ABR$C', 'ABT', 'AC', 'ACA', 'ACB', 'ACC', 'ACCO', 'ACEL', 'ACH', 'ACI', 'ACM', 'ACN', 'ACND.U', 'ACP', 'ACRE', 'ACU', 'ACV', 'ACY', 'ADC', 'ADCT', 'ADM', 'ADNT', 'ADS', 'ADSW', 'ADT', 'ADX', 'AE', 'AEB', 'AEE', 'AEF', 'AEFC', 'AEG', 'AEL', 'AEL$A', 'AEL$B', 'AEM', 'AEO', 'AEP', 'AEP$B', 'AER', 'AES', 'AFB', 'AFC', 'AFG', 'AFGB', 'AFGC', 'AFGD', 'AFGH', 'AFI', 'AFL', 'AFT', 'AG', 'AGCO', 'AGD', 'AGE', 'AGI', 'AGM', 'AGM$A', 'AGM$C', 'AGM$D', 'AGM$E', 'AGM.A', 'AGO', 'AGO$B', 'AGO$E', 'AGO$F', 'AGR', 'AGRO', 'AGS', 'AGX', 'AHC', 'AHH', 'AHH$A', 'AHL$C', 'AHL$D', 'AHL$E', 'AHT', 'AHT$D', 'AHT$F', 'AHT$G', 'AHT$H', 'AHT$I', 'AI', 'AI$B', 'AI$C', 'AIC', 'AIF', 'AIG', 'AIG$A', 'AIG.W', 'AIM', 'AIN', 'AINC', 'AIO', 'AIR', 'AIRI', 'AIT', 'AIV', 'AIW', 'AIZ', 'AIZP', 'AJG', 'AJRD', 'AJX', 'AJXA', 'AKO.A', 'AKO.B', 'AKR', 'AL', 'AL$A', 'ALB', 'ALC', 'ALE', 'ALEX', 'ALG', 'ALIN$A', 'ALIN$B', 'ALIN$E', 'ALK', 'ALL', 'ALL$B', 'ALL$G', 'ALL$H', 'ALL$I', 'ALLE', 'ALLY', 'ALLY$A', 'ALP$Q', 'ALSN', 'ALTG', 'ALTG.W', 'ALUS', 'ALUS.U', 'ALUS.W', 'ALV', 'ALX', 'AM', 'AMBC', 'AMBC.W', 'AMBO', 'AMC', 'AMCR', 'AME', 'AMG', 'AMH', 'AMH$D', 'AMH$E', 'AMH$F', 'AMH$G', 'AMH$H', 'AMJ', 'AMK', 'AMN', 'AMOV', 'AMP', 'AMPE', 'AMPY', 'AMRC', 'AMRX', 'AMS', 'AMT', 'AMU', 'AMUB', 'AMX', 'AN', 'ANET', 'ANF', 'ANH', 'ANH$A', 'ANH$B', 'ANH$C', 'ANTM', 'ANVS', 'AOD', 'AON', 'AOS', 'AP', 'APAM', 'APD', 'APG', 'APH', 'APLE', 'APO', 'APO$A', 'APO$B', 'APRN', 'APT', 'APTS', 'APTV', 'APTV$A', 'AQN', 'AQNA', 'AQNB', 'AQUA', 'AR', 'ARA', 'ARC', 'ARCH', 'ARCO', 'ARD', 'ARDC', 'ARE', 'ARES', 'ARES$A', 'ARGD', 'ARGO', 'ARGO$A', 'ARI', 'ARL', 'ARLO', 'ARMK', 'ARMP', 'ARNC', 'AROC', 'ARR', 'ARR$C', 'ARW', 'ASA', 'ASB', 'ASB$C', 'ASB$D', 'ASB$E', 'ASB$F', 'ASC', 'ASG', 'ASGI', 'ASGN', 'ASH', 'ASIX', 'ASM', 'ASPN', 'ASR', 'ASX', 'AT', 'ATCO', 'ATCO$D', 'ATCO$E', 'ATCO$G', 'ATCO$H', 'ATCO$I', 'ATEN', 'ATEST', 'ATEST.A', 'ATEST.B', 'ATEST.C', 'ATGE', 'ATH', 'ATH$A', 'ATH$B', 'ATH$C', 'ATHM', 'ATI', 'ATKR', 'ATMP', 'ATNM', 'ATO', 'ATR', 'ATTO', 'ATUS', 'ATV', 'AU', 'AUG', 'AUMN', 'AUY', 'AVA', 'AVAL', 'AVB', 'AVD', 'AVK', 'AVLR', 'AVNS', 'AVNT', 'AVTR', 'AVTR$A', 'AVY', 'AVYA', 'AWF', 'AWI', 'AWK', 'AWP', 'AWR', 'AWX', 'AX', 'AXL', 'AXO', 'AXP', 'AXR', 'AXS', 'AXS$E', 'AXTA', 'AXU', 'AYI', 'AYX', 'AZEK', 'AZN', 'AZO', 'AZRE', 'AZUL', 'AZZ', 'B', 'BA', 'BABA', 'BAC', 'BAC$A', 'BAC$B', 'BAC$C', 'BAC$E', 'BAC$K', 'BAC$L', 'BAC$M', 'BAC$N', 'BAF', 'BAH', 'BAK', 'BAL', 'BAM', 'BANC', 'BANC$D', 'BANC$E', 'BAP', 'BAR', 'BATL', 'BAX', 'BB', 'BBAR', 'BBD', 'BBDC', 'BBDO', 'BBF', 'BBK', 'BBL', 'BBN', 'BBU', 'BBVA', 'BBW', 'BBX', 'BBY', 'BC', 'BC$A', 'BC$B', 'BC$C', 'BCC', 'BCE', 'BCEI', 'BCH', 'BCM', 'BCO', 'BCS', 'BCSF', 'BCV', 'BCV$A', 'BCX', 'BDC', 'BDCS', 'BDCZ', 'BDJ', 'BDL', 'BDN', 'BDR', 'BDX', 'BDXB', 'BE', 'BEDU', 'BEN', 'BEP', 'BEP$A', 'BEPC', 'BERY', 'BEST', 'BF.A', 'BF.B', 'BFAM', 'BFK', 'BFO', 'BFS', 'BFS$D', 'BFS$E', 'BFY', 'BFZ', 'BG', 'BGB', 'BGH', 'BGI', 'BGIO', 'BGR', 'BGS', 'BGSF', 'BGT', 'BGX', 'BGY', 'BH', 'BH.A', 'BHB', 'BHC', 'BHE', 'BHK', 'BHLB', 'BHP', 'BHR', 'BHR$B', 'BHR$D', 'BHV', 'BHVN', 'BIF', 'BIG', 'BILL', 'BIO', 'BIO.B', 'BIOX', 'BIOX.W', 'BIP', 'BIPC', 'BIT', 'BITA', 'BJ', 'BK', 'BK$C', 'BKD', 'BKE', 'BKH', 'BKI', 'BKK', 'BKN', 'BKR', 'BKT', 'BKTI', 'BKU', 'BLD', 'BLE', 'BLK', 'BLL', 'BLW', 'BLX', 'BMA', 'BME', 'BMEZ', 'BMI', 'BML$G', 'BML$H', 'BML$J', 'BML$L', 'BMO', 'BMRG', 'BMRG.U', 'BMRG.W', 'BMY', 'BMY.R', 'BNED', 'BNKD', 'BNKO', 'BNKU', 'BNKZ', 'BNS', 'BNY', 'BOE', 'BOH', 'BOOT', 'BORR', 'BOX', 'BP', 'BPMP', 'BPT', 'BQH', 'BR', 'BRBR', 'BRBS', 'BRC', 'BRFS', 'BRG', 'BRG$A', 'BRG$C', 'BRG$D', 'BRK.A', 'BRK.B', 'BRMK', 'BRMK.W', 'BRN', 'BRO', 'BRT', 'BRX', 'BSA', 'BSAC', 'BSBR', 'BSD', 'BSE', 'BSIG', 'BSL', 'BSM', 'BSMX', 'BST', 'BSTZ', 'BSX', 'BSX$A', 'BTA', 'BTE', 'BTG', 'BTI', 'BTN', 'BTO', 'BTT', 'BTU', 'BTZ', 'BUD', 'BUI', 'BURL', 'BV', 'BVN', 'BW', 'BWA', 'BWG', 'BWL.A', 'BWXT', 'BX', 'BXC', 'BXG', 'BXMT', 'BXMX', 'BXP', 'BXP$B', 'BXS', 'BXS$A', 'BY', 'BYD', 'BYM', 'BZH', 'BZM', 'C', 'C$J', 'C$K', 'C$N', 'C$S', 'CAAP', 'CABO', 'CACI', 'CADE', 'CAE', 'CAF', 'CAG', 'CAH', 'CAI', 'CAI$A', 'CAI$B', 'CAJ', 'CAL', 'CALX', 'CANF', 'CANG', 'CAPE', 'CAPL', 'CARR', 'CARS', 'CAT', 'CATO', 'CB', 'CBB', 'CBB$B', 'CBD', 'CBH', 'CBL', 'CBL$D', 'CBL$E', 'CBO', 'CBOE', 'CBRE', 'CBT', 'CBU', 'CBX', 'CBZ', 'CC', 'CCAC', 'CCAC.U', 'CCAC.W', 'CCC', 'CCEP', 'CCF', 'CCH', 'CCH.U', 'CCH.W', 'CCI', 'CCIV.U', 'CCJ', 'CCK', 'CCL', 'CCM', 'CCO', 'CCR', 'CCS', 'CCU', 'CCX', 'CCX.U', 'CCX.W', 'CCXX', 'CCXX.U', 'CCXX.W', 'CCZ', 'CDAY', 'CDE', 'CDOR', 'CDR', 'CDR$B', 'CDR$C', 'CE', 'CEA', 'CEE', 'CEI', 'CEIX', 'CEL', 'CELG.R', 'CELP', 'CEM', 'CEN', 'CEO', 'CEPU', 'CEQP', 'CEQP$', 'CET', 'CEV', 'CF', 'CFG', 'CFG$D', 'CFG$E', 'CFR', 'CFX', 'CFXA', 'CGA', 'CGC', 'CHA', 'CHAP', 'CHAQ', 'CHAQ.U', 'CHAQ.W', 'CHCT', 'CHD', 'CHE', 'CHGG', 'CHH', 'CHL', 'CHMI', 'CHMI$A', 'CHMI$B', 'CHN', 'CHRA', 'CHS', 'CHT', 'CHU', 'CHWY', 'CHX', 'CI', 'CIA', 'CIB', 'CIEN', 'CIF', 'CIG', 'CIG.C', 'CII', 'CIK', 'CIM', 'CIM$A', 'CIM$B', 'CIM$C', 'CIM$D', 'CINR', 'CIO', 'CIO$A', 'CIR', 'CIT', 'CIT$B', 'CIX', 'CKH', 'CKX', 'CL', 'CLB', 'CLDR', 'CLDT', 'CLF', 'CLGX', 'CLH', 'CLI', 'CLM', 'CLNC', 'CLNY', 'CLNY$G', 'CLNY$H', 'CLNY$I', 'CLNY$J', 'CLPR', 'CLR', 'CLS', 'CLW', 'CLX', 'CM', 'CMA', 'CMC', 'CMCL', 'CMCM', 'CMD', 'CMG', 'CMI', 'CMO', 'CMO$E', 'CMP', 'CMRE', 'CMRE$B', 'CMRE$C', 'CMRE$D', 'CMRE$E', 'CMS', 'CMS$B', 'CMSA', 'CMSC', 'CMSD', 'CMT', 'CMU', 'CNA', 'CNC', 'CNF', 'CNHI', 'CNI', 'CNK', 'CNMD', 'CNNE', 'CNO', 'CNP', 'CNP$B', 'CNQ', 'CNR', 'CNS', 'CNX', 'CNXM', 'CO', 'CODI', 'CODI$A', 'CODI$B', 'CODI$C', 'COE', 'COF', 'COF$F', 'COF$G', 'COF$H', 'COF$I', 'COF$J', 'COG', 'COHN', 'COLD', 'COO', 'COP', 'COR', 'CORR', 'CORR$A', 'COTY', 'COW', 'CP', 'CPA', 'CPAC', 'CPB', 'CPE', 'CPF', 'CPG', 'CPHI', 'CPK', 'CPLG', 'CPRI', 'CPS', 'CPSR.U', 'CPT', 'CQP', 'CR', 'CRD.A', 'CRD.B', 'CRF', 'CRH', 'CRHM', 'CRI', 'CRK', 'CRL', 'CRM', 'CRMD', 'CROC', 'CRS', 'CRT', 'CRY', 'CS', 'CSL', 'CSLT', 'CSPR', 'CSTM', 'CSU', 'CSV', 'CTA$A', 'CTA$B', 'CTAA', 'CTB', 'CTBB', 'CTDD', 'CTEK', 'CTEST', 'CTEST.E', 'CTEST.G', 'CTEST.L', 'CTEST.O', 'CTEST.S', 'CTEST.V', 'CTK', 'CTL', 'CTLT', 'CTO', 'CTR', 'CTRA', 'CTS', 'CTT', 'CTVA', 'CTY', 'CTZ', 'CUB', 'CUBB', 'CUBE', 'CUBI', 'CUBI$C', 'CUBI$D', 'CUBI$E', 'CUBI$F', 'CUK', 'CULP', 'CURO', 'CUZ', 'CVA', 'CVE', 'CVEO', 'CVI', 'CVM', 'CVNA', 'CVR', 'CVS', 'CVU', 'CVX', 'CW', 'CWEN', 'CWEN.A', 'CWH', 'CWK', 'CWT', 'CX', 'CXE', 'CXH', 'CXO', 'CXP', 'CXW', 'CYD', 'CYH', 'CZZ', 'D', 'DAC', 'DAL', 'DAN', 'DAO', 'DAR', 'DAUD', 'DAVA', 'DB', 'DBD', 'DBI', 'DBL', 'DCF', 'DCHF', 'DCI', 'DCO', 'DCP', 'DCP$B', 'DCP$C', 'DCUE', 'DD', 'DDD', 'DDF', 'DDS', 'DDT', 'DE', 'DEA', 'DECK', 'DEH.U', 'DEI', 'DELL', 'DEO', 'DESP', 'DEUR', 'DEX', 'DFIN', 'DFNS', 'DFNS.U', 'DFNS.W', 'DFP', 'DFS', 'DFVL', 'DFVS', 'DG', 'DGBP', 'DGP', 'DGX', 'DGZ', 'DHF', 'DHI', 'DHR', 'DHR$A', 'DHR$B', 'DHT', 'DHX', 'DHY', 'DIAX', 'DIN', 'DIS', 'DIT', 'DIVC', 'DJCI', 'DJP', 'DJPY', 'DK', 'DKL', 'DKS', 'DL', 'DLA', 'DLB', 'DLNG', 'DLNG$A', 'DLNG$B', 'DLPH', 'DLR', 'DLR$C', 'DLR$G', 'DLR$I', 'DLR$J', 'DLR$K', 'DLR$L', 'DLX', 'DLY', 'DMB', 'DMF', 'DMO', 'DMS', 'DMS.W', 'DMYT', 'DMYT.U', 'DMYT.W', 'DNB', 'DNI', 'DNK', 'DNN', 'DNOW', 'DNP', 'DOC', 'DOOR', 'DOV', 'DOW', 'DPG', 'DPW', 'DPZ', 'DQ', 'DRD', 'DRE', 'DRH', 'DRI', 'DRQ', 'DRUA', 'DS', 'DS$B', 'DS$C', 'DS$D', 'DSE', 'DSL', 'DSM', 'DSS', 'DSSI', 'DSU', 'DSX', 'DSX$B', 'DT', 'DTE', 'DTF', 'DTJ', 'DTLA$', 'DTP', 'DTQ', 'DTUL', 'DTUS', 'DTW', 'DTY', 'DTYL', 'DUC', 'DUK', 'DUK$A', 'DUKB', 'DUKH', 'DVA', 'DVD', 'DVN', 'DX', 'DX$B', 'DX$C', 'DXC', 'DXF', 'DXR', 'DY', 'DYFN', 'DZZ', 'E', 'EAB', 'EAD', 'EAE', 'EAF', 'EAI', 'EARN', 'EAT', 'EB', 'EBF', 'EBR', 'EBR.B', 'EBS', 'EC', 'ECC', 'ECCB', 'ECCX', 'ECCY', 'ECF', 'ECF$A', 'ECL', 'ECOM', 'ED', 'EDD', 'EDF', 'EDI', 'EDN', 'EDU', 'EEA', 'EEH', 'EEX', 'EFC', 'EFC$A', 'EFF', 'EFL', 'EFR', 'EFT', 'EFX', 'EGF', 'EGHT', 'EGO', 'EGP', 'EGY', 'EHC', 'EHI', 'EHT', 'EIC', 'EIG', 'EIM', 'EIX', 'EL', 'ELA', 'ELAN', 'ELAT', 'ELC', 'ELF', 'ELJ', 'ELLO', 'ELMD', 'ELP', 'ELS', 'ELU', 'ELVT', 'ELY', 'EMAN', 'EMD', 'EME', 'EMF', 'EMN', 'EMO', 'EMP', 'EMR', 'EMX', 'ENB', 'ENBA', 'ENBL', 'ENIA', 'ENIC', 'ENJ', 'ENLC', 'ENO', 'ENR', 'ENR$A', 'ENS', 'ENSV', 'ENV', 'ENVA', 'ENX', 'ENZ', 'EOD', 'EOG', 'EOI', 'EOS', 'EOT', 'EP$C', 'EPAC', 'EPAM', 'EPC', 'EPD', 'EPM', 'EPR', 'EPR$C', 'EPR$E', 'EPR$G', 'EPRT', 'EQC', 'EQC$D', 'EQH', 'EQH$A', 'EQNR', 'EQR', 'EQS', 'EQT', 'EQX', 'ERC', 'ERF', 'ERH', 'ERJ', 'EROS', 'ES', 'ESBA', 'ESE', 'ESI', 'ESNT', 'ESP', 'ESRT', 'ESS', 'ESTC', 'ESTE', 'ET', 'ETB', 'ETG', 'ETH', 'ETI$', 'ETJ', 'ETM', 'ETN', 'ETO', 'ETP$C', 'ETP$D', 'ETP$E', 'ETR', 'ETRN', 'ETV', 'ETW', 'ETX', 'ETY', 'EUFX', 'EURN', 'EV', 'EVA', 'EVBN', 'EVC', 'EVF', 'EVG', 'EVH', 'EVI', 'EVM', 'EVN', 'EVR', 'EVRG', 'EVRI', 'EVT', 'EVTC', 'EVV', 'EVY', 'EW', 'EXD', 'EXG', 'EXK', 'EXP', 'EXPR', 'EXR', 'EXTN', 'EZT', 'F', 'F$B', 'F$C', 'FAF', 'FAM', 'FAX', 'FBC', 'FBGX', 'FBHS', 'FBK', 'FBM', 'FBP', 'FC', 'FCAU', 'FCF', 'FCN', 'FCO', 'FCPT', 'FCRW', 'FCRZ', 'FCT', 'FCX', 'FDEU', 'FDP', 'FDS', 'FDX', 'FE', 'FEAC', 'FEAC.U', 'FEAC.W', 'FEDU', 'FEI', 'FEN', 'FENG', 'FEO', 'FET', 'FEUL', 'FF', 'FFA', 'FFC', 'FFEU', 'FFG', 'FGB', 'FHI', 'FHN', 'FHN$A', 'FHN$B', 'FHN$C', 'FHN$D', 'FHN$E', 'FI', 'FICO', 'FIEE', 'FIF', 'FIHD', 'FINS', 'FINV', 'FIS', 'FISK', 'FIT', 'FIV', 'FIX', 'FIYY', 'FL', 'FLAT', 'FLC', 'FLGE', 'FLNG', 'FLO', 'FLOW', 'FLR', 'FLS', 'FLT', 'FLY', 'FMC', 'FMN', 'FMO', 'FMS', 'FMX', 'FMY', 'FN', 'FNB', 'FNB$E', 'FND', 'FNF', 'FNGD', 'FNGO', 'FNGU', 'FNGZ', 'FNV', 'FOE', 'FOF', 'FOR', 'FOUR', 'FPAC', 'FPAC.U', 'FPAC.W', 'FPF', 'FPH', 'FPI', 'FPI$B', 'FPL', 'FR', 'FRA', 'FRC', 'FRC$F', 'FRC$G', 'FRC$H', 'FRC$I', 'FRC$J', 'FRD', 'FRLG', 'FRO', 'FRT', 'FRT$C', 'FSB', 'FSD', 'FSI', 'FSK', 'FSKR', 'FSLF', 'FSLY', 'FSM', 'FSP', 'FSS', 'FT', 'FTAI', 'FTAI$A', 'FTAI$B', 'FTCH', 'FTF', 'FTHY', 'FTI', 'FTK', 'FTS', 'FTSI', 'FTV', 'FTV$A', 'FUD', 'FUE', 'FUL', 'FUN', 'FUSE.U', 'FVAC', 'FVAC.U', 'FVAC.W', 'FVRR', 'G', 'GAB', 'GAB$G', 'GAB$H', 'GAB$J', 'GAB$K', 'GAM', 'GAM$B', 'GATX', 'GAU', 'GAZ', 'GBAB', 'GBL', 'GBR', 'GBX', 'GCE', 'GCI', 'GCO', 'GCP', 'GCV', 'GD', 'GDDY', 'GDL', 'GDL$C', 'GDO', 'GDOT', 'GDP', 'GDV', 'GDV$A', 'GDV$G', 'GDV$H', 'GE', 'GEF', 'GEF.B', 'GEL', 'GEN', 'GEO', 'GER', 'GES', 'GF', 'GFF', 'GFI', 'GFL', 'GFLU', 'GFY', 'GGB', 'GGG', 'GGM', 'GGN', 'GGN$B', 'GGO', 'GGO$A', 'GGT', 'GGT$E', 'GGT$G', 'GGZ', 'GGZ$A', 'GHC', 'GHG', 'GHL', 'GHM', 'GHY', 'GIB', 'GIK', 'GIK.U', 'GIK.W', 'GIL', 'GIM', 'GIS', 'GIX', 'GIX.R', 'GIX.U', 'GIX.W', 'GJH', 'GJO', 'GJP', 'GJR', 'GJS', 'GJT', 'GKOS', 'GL', 'GL$C', 'GLEO', 'GLEO.U', 'GLEO.W', 'GLO', 'GLOB', 'GLOG', 'GLOG$A', 'GLOP', 'GLOP$A', 'GLOP$B', 'GLOP$C', 'GLP', 'GLP$A', 'GLQ', 'GLT', 'GLU', 'GLU$A', 'GLU$B', 'GLV', 'GLW', 'GM', 'GME', 'GMED', 'GMO', 'GMRE', 'GMRE$A', 'GMS', 'GMTA', 'GMZ', 'GNAF', 'GNE', 'GNE$A', 'GNK', 'GNL', 'GNL$A', 'GNL$B', 'GNRC', 'GNT', 'GNT$A', 'GNW', 'GOAC.U', 'GOED', 'GOF', 'GOL', 'GOLD', 'GOLF', 'GOOS', 'GORO', 'GPC', 'GPI', 'GPJA', 'GPK', 'GPL', 'GPM', 'GPMT', 'GPN', 'GPRK', 'GPS', 'GPX', 'GRA', 'GRAF', 'GRAF.U', 'GRAF.W', 'GRAM', 'GRC', 'GRF', 'GRN', 'GRP.U', 'GRU', 'GRUB', 'GRX', 'GRX$B', 'GS', 'GS$A', 'GS$C', 'GS$D', 'GS$J', 'GS$K', 'GS$N', 'GSAH.U', 'GSAT', 'GSB', 'GSBD', 'GSC', 'GSH', 'GSK', 'GSL', 'GSL$B', 'GSLD', 'GSP', 'GSS', 'GSV', 'GSX', 'GTE', 'GTES', 'GTN', 'GTN.A', 'GTS', 'GTT', 'GTX', 'GTY', 'GUT', 'GUT$A', 'GUT$C', 'GV', 'GVA', 'GWB', 'GWRE', 'GWW', 'GYC', 'H', 'HAE', 'HAL', 'HASI', 'HBB', 'HBI', 'HBM', 'HCA', 'HCC', 'HCFT', 'HCHC', 'HCI', 'HCXY', 'HCXZ', 'HD', 'HDB', 'HE', 'HEI', 'HEI.A', 'HEP', 'HEQ', 'HES', 'HESM', 'HEXO', 'HFC', 'HFRO', 'HFRO$A', 'HGH', 'HGLB', 'HGV', 'HHC', 'HI', 'HIE', 'HIG', 'HIG$G', 'HII', 'HIL', 'HIO', 'HIW', 'HIX', 'HKIB', 'HL', 'HL$B', 'HLF', 'HLI', 'HLM$', 'HLT', 'HLX', 'HMC', 'HMG', 'HMI', 'HMLP', 'HMLP$A', 'HMN', 'HMY', 'HNGR', 'HNI', 'HNP', 'HNW', 'HOG', 'HOME', 'HON', 'HOV', 'HP', 'HPE', 'HPF', 'HPI', 'HPP', 'HPQ', 'HPR', 'HPS', 'HPX.U', 'HQH', 'HQL', 'HR', 'HRB', 'HRC', 'HRI', 'HRL', 'HRTG', 'HSBC', 'HSBC$A', 'HSC', 'HST', 'HSY', 'HT', 'HT$C', 'HT$D', 'HT$E', 'HTA', 'HTD', 'HTFA', 'HTGC', 'HTH', 'HTY', 'HTZ', 'HUBB', 'HUBS', 'HUD', 'HUM', 'HUN', 'HUSA', 'HUYA', 'HVT', 'HVT.A', 'HWM', 'HWM$', 'HXL', 'HY', 'HYB', 'HYI', 'HYT', 'HZN', 'HZO', 'IAA', 'IAE', 'IAF', 'IAG', 'IBA', 'IBIO', 'IBM', 'IBN', 'IBO', 'IBP', 'ICD', 'ICE', 'ICL', 'IDA', 'IDE', 'IDT', 'IEX', 'IFF', 'IFFT', 'IFN', 'IFS', 'IGA', 'IGC', 'IGD', 'IGI', 'IGR', 'IGT', 'IGZ', 'IHC', 'IHD', 'IHG', 'IHIT', 'IHT', 'IHTA', 'IID', 'IIF', 'IIM', 'IIPR', 'IIPR$A', 'IMAX', 'IMH', 'IMLP', 'IMO', 'INDO', 'INFO', 'INFU', 'INFY', 'ING', 'INGR', 'INN', 'INN$D', 'INN$E', 'INS', 'INSI', 'INSP', 'INSW', 'INSW$A', 'INT', 'INTT', 'INUV', 'INVH', 'IO', 'IOR', 'IP', 'IPG', 'IPHI', 'IPI', 'IPOB', 'IPOB.U', 'IPOB.W', 'IPOC', 'IPOC.U', 'IPOC.W', 'IPV', 'IPV.U', 'IPV.W', 'IQI', 'IQV', 'IR', 'IRET', 'IRET$C', 'IRL', 'IRM', 'IRR', 'IRS', 'IRT', 'ISD', 'ISDR', 'ISR', 'IT', 'ITCB', 'ITGR', 'ITP', 'ITRG', 'ITT', 'ITUB', 'ITW', 'IVC', 'IVH', 'IVR', 'IVR$A', 'IVR$B', 'IVR$C', 'IVZ', 'IX', 'J', 'JAX', 'JBGS', 'JBK', 'JBL', 'JBT', 'JCAP', 'JCAP$B', 'JCE', 'JCI', 'JCO', 'JDD', 'JE', 'JE$A', 'JEF', 'JELD', 'JEMD', 'JEQ', 'JFR', 'JGH', 'JHAA', 'JHB', 'JHG', 'JHI', 'JHS', 'JHX', 'JHY', 'JIH', 'JIH.U', 'JIH.W', 'JILL', 'JJA', 'JJC', 'JJE', 'JJG', 'JJM', 'JJN', 'JJP', 'JJS', 'JJT', 'JJU', 'JKS', 'JLL', 'JLS', 'JMIA', 'JMM', 'JMP', 'JNJ', 'JNPR', 'JO', 'JOB', 'JOE', 'JOF', 'JP', 'JPC', 'JPI', 'JPM', 'JPM$C', 'JPM$D', 'JPM$G', 'JPM$H', 'JPM$J', 'JPS', 'JPT', 'JQC', 'JRI', 'JRO', 'JRS', 'JSD', 'JT', 'JTA', 'JTD', 'JW.A', 'JW.B', 'JWN', 'JWS', 'JWS.U', 'JWS.W', 'K', 'KAI', 'KAMN', 'KAR', 'KB', 'KBH', 'KBR', 'KCAC.U', 'KDMN', 'KDP', 'KEN', 'KEP', 'KEX', 'KEY', 'KEY$I', 'KEY$J', 'KEY$K', 'KEYS', 'KF', 'KFS', 'KFY', 'KGC', 'KIM', 'KIM$L', 'KIM$M', 'KIO', 'KIQ', 'KKR', 'KKR$A', 'KKR$B', 'KL', 'KLR', 'KLR.W', 'KMB', 'KMF', 'KMI', 'KMPR', 'KMT', 'KMX', 'KN', 'KNAB', 'KNL', 'KNOP', 'KNX', 'KO', 'KODK', 'KOF', 'KOP', 'KOS', 'KR', 'KRA', 'KRC', 'KREF', 'KRG', 'KRO', 'KRP', 'KSM', 'KSS', 'KSU', 'KSU$', 'KT', 'KTB', 'KTF', 'KTH', 'KTN', 'KW', 'KWR', 'KYN', 'L', 'LAC', 'LAD', 'LADR', 'LAIX', 'LAZ', 'LB', 'LBRT', 'LC', 'LCI', 'LCII', 'LCTX', 'LD', 'LDL', 'LDOS', 'LDP', 'LEA', 'LEAF', 'LEE', 'LEG', 'LEJU', 'LEN', 'LEN.B', 'LEO', 'LEU', 'LEVI', 'LFC', 'LGC', 'LGC.U', 'LGC.W', 'LGF.A', 'LGF.B', 'LGI', 'LGL', 'LGVW', 'LGVW.U', 'LGVW.W', 'LH', 'LHX', 'LII', 'LIN', 'LINX', 'LITB', 'LL', 'LLY', 'LMHA', 'LMHB', 'LMND', 'LMT', 'LN', 'LNC', 'LND', 'LNG', 'LNN', 'LOAK', 'LOAK.U', 'LOAK.W', 'LODE', 'LOMA', 'LOV', 'LOW', 'LPG', 'LPI', 'LPL', 'LPX', 'LRN', 'LSI', 'LTC', 'LTHM', 'LUB', 'LUV', 'LVS', 'LW', 'LXFR', 'LXP', 'LXP$C', 'LXU', 'LYB', 'LYG', 'LYV', 'LZB', 'M', 'MA', 'MAA', 'MAA$I', 'MAC', 'MAG', 'MAIN', 'MAN', 'MANU', 'MAS', 'MATX', 'MAV', 'MAXR', 'MBI', 'MBT', 'MC', 'MCA', 'MCB', 'MCC', 'MCD', 'MCF', 'MCI', 'MCK', 'MCN', 'MCO', 'MCR', 'MCS', 'MCV', 'MCX', 'MCY', 'MD', 'MDC', 'MDLA', 'MDLQ', 'MDLX', 'MDLY', 'MDP', 'MDT', 'MDU', 'MEC', 'MED', 'MEG', 'MEI', 'MEN', 'MER$K', 'MET', 'MET$A', 'MET$E', 'MET$F', 'MFA', 'MFA$B', 'MFA$C', 'MFAC', 'MFAC.U', 'MFAC.W', 'MFC', 'MFD', 'MFG', 'MFGP', 'MFL', 'MFM', 'MFO', 'MFT', 'MFV', 'MG', 'MGA', 'MGF', 'MGM', 'MGP', 'MGR', 'MGU', 'MGY', 'MH$A', 'MH$C', 'MH$D', 'MHD', 'MHE', 'MHF', 'MHH', 'MHI', 'MHK', 'MHLA', 'MHN', 'MHNC', 'MHO', 'MIC', 'MIE', 'MIN', 'MITT', 'MITT$A', 'MITT$B', 'MITT$C', 'MIXT', 'MIY', 'MKC', 'MKC.V', 'MKL', 'MLI', 'MLM', 'MLP', 'MLPB', 'MLPC', 'MLPE', 'MLPG', 'MLPI', 'MLPO', 'MLPY', 'MLR', 'MLSS', 'MMC', 'MMD', 'MMI', 'MMM', 'MMP', 'MMS', 'MMT', 'MMU', 'MMX', 'MN', 'MNK', 'MNP', 'MNR', 'MNR$C', 'MNRL', 'MO', 'MOD', 'MODN', 'MOG.A', 'MOG.B', 'MOGU', 'MOH', 'MOS', 'MOV', 'MPA', 'MPC', 'MPLX', 'MPV', 'MPW', 'MPX', 'MQT', 'MQY', 'MR', 'MRC', 'MRK', 'MRO', 'MS', 'MS$A', 'MS$E', 'MS$F', 'MS$I', 'MS$K', 'MS$L', 'MSA', 'MSB', 'MSC', 'MSCI', 'MSD', 'MSGE', 'MSGN', 'MSGS', 'MSI', 'MSM', 'MSN', 'MT', 'MTA', 'MTB', 'MTCN', 'MTD', 'MTDR', 'MTG', 'MTH', 'MTL', 'MTL$', 'MTN', 'MTNB', 'MTOR', 'MTR', 'MTRN', 'MTT', 'MTW', 'MTX', 'MTZ', 'MUA', 'MUC', 'MUE', 'MUFG', 'MUH', 'MUI', 'MUJ', 'MUR', 'MUS', 'MUSA', 'MUX', 'MVC', 'MVCD', 'MVF', 'MVO', 'MVT', 'MWA', 'MX', 'MXC', 'MXE', 'MXF', 'MXL', 'MYC', 'MYD', 'MYE', 'MYF', 'MYI', 'MYJ', 'MYN', 'MYO', 'MYOV', 'MZA', 'NAC', 'NAD', 'NAK', 'NAN', 'NAT', 'NAV', 'NAV$D', 'NAVB', 'NAZ', 'NBB', 'NBH', 'NBHC', 'NBO', 'NBR', 'NBR$A', 'NBW', 'NBY', 'NC', 'NCA', 'NCB', 'NCLH', 'NCR', 'NCV', 'NCV$A', 'NCZ', 'NCZ$A', 'NDP', 'NEA', 'NEE', 'NEE$I', 'NEE$J', 'NEE$K', 'NEE$N', 'NEE$O', 'NEE$P', 'NEM', 'NEN', 'NEP', 'NES', 'NET', 'NEU', 'NEV', 'NEW', 'NEWR', 'NEX', 'NEXA', 'NFG', 'NFH', 'NFH.W', 'NFJ', 'NG', 'NGD', 'NGG', 'NGL', 'NGL$B', 'NGL$C', 'NGLS$A', 'NGS', 'NGVC', 'NGVT', 'NHA', 'NHC', 'NHF', 'NHI', 'NHS', 'NI', 'NI$B', 'NIB', 'NID', 'NIE', 'NIM', 'NINE', 'NIO', 'NIQ', 'NJR', 'NJV', 'NKE', 'NKG', 'NKX', 'NL', 'NLS', 'NLSN', 'NLY', 'NLY$D', 'NLY$F', 'NLY$G', 'NLY$I', 'NM', 'NM$G', 'NM$H', 'NMCO', 'NMFC', 'NMFX', 'NMI', 'NMK$B', 'NMK$C', 'NML', 'NMM', 'NMR', 'NMS', 'NMT', 'NMY', 'NMZ', 'NNA', 'NNI', 'NNN', 'NNN$F', 'NNVC', 'NNY', 'NOA', 'NOAH', 'NOC', 'NOG', 'NOK', 'NOM', 'NOMD', 'NOV', 'NOVA', 'NOW', 'NP', 'NPK', 'NPN', 'NPO', 'NPTN', 'NPV', 'NQP', 'NR', 'NREF', 'NREF$A', 'NRG', 'NRGD', 'NRGO', 'NRGU', 'NRGX', 'NRGZ', 'NRK', 'NRO', 'NRP', 'NRT', 'NRUC', 'NRZ', 'NRZ$A', 'NRZ$B', 'NRZ$C', 'NS', 'NS$A', 'NS$B', 'NS$C', 'NSA', 'NSA$A', 'NSC', 'NSCO', 'NSCO.W', 'NSL', 'NSP', 'NSPR', 'NSPR.B', 'NSPR.W', 'NSS', 'NTB', 'NTCO', 'NTEST', 'NTEST.A', 'NTEST.B', 'NTEST.C', 'NTG', 'NTIP', 'NTN', 'NTP', 'NTR', 'NTZ', 'NUE', 'NUM', 'NUO', 'NUS', 'NUV', 'NUW', 'NVG', 'NVGS', 'NVO', 'NVR', 'NVRO', 'NVS', 'NVST', 'NVT', 'NVTA', 'NWE', 'NWG', 'NWHM', 'NWN', 'NX', 'NXC', 'NXE', 'NXJ', 'NXN', 'NXP', 'NXQ', 'NXR', 'NXRT', 'NYCB', 'NYCB$A', 'NYCB$U', 'NYT', 'NYV', 'NZF', 'O', 'OAC', 'OAC.U', 'OAC.W', 'OAK$A', 'OAK$B', 'OBLG', 'OC', 'OCFT', 'OCN', 'OCX', 'ODC', 'OEC', 'OFC', 'OFG', 'OFG$A', 'OFG$B', 'OFG$D', 'OGCP', 'OGE', 'OGEN', 'OGS', 'OHI', 'OI', 'OIA', 'OIBR.C', 'OII', 'OIL', 'OIS', 'OKE', 'OLN', 'OLP', 'OMC', 'OMF', 'OMI', 'ONDK', 'ONE', 'ONTO', 'OOMA', 'OPP', 'OPY', 'OR', 'ORA', 'ORAN', 'ORC', 'ORCC', 'ORCL', 'ORI', 'ORN', 'OSB', 'OSG', 'OSH', 'OSK', 'OTIS', 'OUT', 'OVV', 'OXM', 'OXY', 'OXY.W', 'PAA', 'PAC', 'PACD', 'PACK', 'PACK.W', 'PAG', 'PAGP', 'PAGS', 'PAI', 'PAM', 'PANA.U', 'PANW', 'PAR', 'PARR', 'PAYC', 'PB', 'PBA', 'PBB', 'PBC', 'PBF', 'PBFX', 'PBH', 'PBI', 'PBI$B', 'PBR', 'PBR.A', 'PBT', 'PBY', 'PCF', 'PCG', 'PCG$A', 'PCG$B', 'PCG$C', 'PCG$D', 'PCG$E', 'PCG$G', 'PCG$H', 'PCG$I', 'PCGU', 'PCI', 'PCK', 'PCM', 'PCN', 'PCPL', 'PCPL.U', 'PCPL.W', 'PCQ', 'PD', 'PDI', 'PDM', 'PDS', 'PDT', 'PE', 'PEAK', 'PEB', 'PEB$C', 'PEB$D', 'PEB$E', 'PEB$F', 'PED', 'PEG', 'PEI', 'PEI$B', 'PEI$C', 'PEI$D', 'PEN', 'PEO', 'PER', 'PFD', 'PFE', 'PFFL', 'PFGC', 'PFL', 'PFN', 'PFNX', 'PFO', 'PFS', 'PFSI', 'PG', 'PGM', 'PGP', 'PGR', 'PGRE', 'PGTI', 'PGZ', 'PH', 'PHD', 'PHG', 'PHGE', 'PHGE.U', 'PHGE.W', 'PHI', 'PHK', 'PHM', 'PHR', 'PHT', 'PHX', 'PIC', 'PIC.U', 'PIC.W', 'PII', 'PIM', 'PINE', 'PING', 'PINS', 'PIPR', 'PJH', 'PJT', 'PK', 'PKE', 'PKG', 'PKI', 'PKO', 'PKX', 'PLAG', 'PLAN', 'PLD', 'PLG', 'PLM', 'PLNT', 'PLOW', 'PLT', 'PLX', 'PLYM', 'PLYM$A', 'PM', 'PMF', 'PML', 'PMM', 'PMO', 'PMT', 'PMT$A', 'PMT$B', 'PMX', 'PNC', 'PNC$P', 'PNC$Q', 'PNF', 'PNI', 'PNM', 'PNR', 'PNW', 'POR', 'POST', 'PPG', 'PPL', 'PPR', 'PPT', 'PPX', 'PQG', 'PRA', 'PRE$F', 'PRE$G', 'PRE$H', 'PRE$I', 'PRGO', 'PRH', 'PRI', 'PRIF$A', 'PRIF$B', 'PRIF$C', 'PRIF$D', 'PRIF$E', 'PRIF$F', 'PRK', 'PRLB', 'PRMW', 'PRO', 'PROS', 'PRPB.U', 'PRS', 'PRSP', 'PRT', 'PRTY', 'PRU', 'PSA', 'PSA$B', 'PSA$C', 'PSA$D', 'PSA$E', 'PSA$F', 'PSA$G', 'PSA$H', 'PSA$I', 'PSA$J', 'PSA$K', 'PSA$L', 'PSA$W', 'PSA$X', 'PSB', 'PSB$W', 'PSB$X', 'PSB$Y', 'PSB$Z', 'PSF', 'PSN', 'PSO', 'PSTG', 'PSTH.U', 'PSTL', 'PSV', 'PSX', 'PSXP', 'PTK.U', 'PTN', 'PTR', 'PTY', 'PUK', 'PUK$', 'PUK$A', 'PUMP', 'PVG', 'PVH', 'PVL', 'PW', 'PW$A', 'PWR', 'PXD', 'PYN', 'PYPE', 'PYS', 'PYT', 'PZC', 'PZG', 'PZN', 'QD', 'QEP', 'QGEN', 'QSR', 'QTS', 'QTS$A', 'QTS$B', 'QTWO', 'QUAD', 'QUOT', 'QVCC', 'QVCD', 'R', 'RA', 'RACE', 'RAD', 'RAMP', 'RBA', 'RBC', 'RC', 'RCA', 'RCB', 'RCG', 'RCI', 'RCL', 'RCP', 'RCS', 'RCUS', 'RDN', 'RDS.A', 'RDS.B', 'RDY', 'RE', 'REI', 'RELX', 'REML', 'RENN', 'RES', 'RESI', 'REV', 'REVG', 'REX', 'REXR', 'REXR$A', 'REXR$B', 'REXR$C', 'REZI', 'RF', 'RF$A', 'RF$B', 'RF$C', 'RFI', 'RFL', 'RFM', 'RFP', 'RGA', 'RGR', 'RGS', 'RGT', 'RH', 'RHE', 'RHE$A', 'RHI', 'RHP', 'RIG', 'RIO', 'RIV', 'RJA', 'RJF', 'RJI', 'RJN', 'RJZ', 'RKT', 'RL', 'RLGT', 'RLGY', 'RLH', 'RLI', 'RLJ', 'RLJ$A', 'RM', 'RMAX', 'RMD', 'RMED', 'RMG', 'RMG.U', 'RMG.W', 'RMI', 'RMM', 'RMPL$', 'RMT', 'RNG', 'RNGR', 'RNP', 'RNR', 'RNR$E', 'RNR$F', 'RODI', 'ROG', 'ROK', 'ROL', 'ROP', 'RPAI', 'RPLA', 'RPLA.U', 'RPLA.W', 'RPM', 'RPT', 'RPT$D', 'RQI', 'RRC', 'RRD', 'RS', 'RSF', 'RSG', 'RST', 'RTX', 'RVI', 'RVLV', 'RVP', 'RVT', 'RWT', 'RXN', 'RY', 'RY$T', 'RYAM', 'RYB', 'RYCE', 'RYI', 'RYN', 'RZA', 'RZB', 'SA', 'SACC', 'SACH', 'SAF', 'SAFE', 'SAH', 'SAIC', 'SAIL', 'SAK', 'SALT', 'SAM', 'SAN', 'SAN$B', 'SAND', 'SAP', 'SAR', 'SAVE', 'SB', 'SB$C', 'SB$D', 'SBBA', 'SBE', 'SBE.U', 'SBE.W', 'SBH', 'SBI', 'SBOW', 'SBR', 'SBS', 'SBSW', 'SC', 'SCA', 'SCCB', 'SCCO', 'SCD', 'SCE$B', 'SCE$C', 'SCE$D', 'SCE$E', 'SCE$G', 'SCE$H', 'SCE$J', 'SCE$K', 'SCE$L', 'SCHW', 'SCHW$C', 'SCHW$D', 'SCI', 'SCL', 'SCM', 'SCPE', 'SCPE.U', 'SCPE.W', 'SCS', 'SCU', 'SCVX', 'SCVX.U', 'SCVX.W', 'SCX', 'SD', 'SDPI', 'SDYL', 'SE', 'SEAS', 'SEB', 'SEE', 'SEM', 'SENS', 'SERV', 'SF', 'SF$A', 'SF$B', 'SF$C', 'SFB', 'SFE', 'SFL', 'SFTW', 'SFTW.U', 'SFTW.W', 'SFUN', 'SGG', 'SGU', 'SHAK', 'SHG', 'SHI', 'SHLL', 'SHLL.U', 'SHLL.W', 'SHLX', 'SHO', 'SHO$E', 'SHO$F', 'SHOP', 'SHW', 'SI', 'SID', 'SIF', 'SIG', 'SII', 'SILV', 'SIM', 'SITC', 'SITC$A', 'SITC$K', 'SITE', 'SIX', 'SJI', 'SJIJ', 'SJIU', 'SJM', 'SJR', 'SJT', 'SJW', 'SKM', 'SKT', 'SKX', 'SKY', 'SLB', 'SLCA', 'SLF', 'SLG', 'SLG$I', 'SLQT', 'SM', 'SMAR', 'SMFG', 'SMG', 'SMHB', 'SMHI', 'SMLP', 'SMM', 'SMP', 'SMTS', 'SNA', 'SNAP', 'SNDR', 'SNE', 'SNMP', 'SNN', 'SNP', 'SNR', 'SNV', 'SNV$D', 'SNV$E', 'SNX', 'SO', 'SOAC', 'SOAC.U', 'SOAC.W', 'SOGO', 'SOI', 'SOJA', 'SOJB', 'SOJC', 'SOJD', 'SOL', 'SOLN', 'SON', 'SOR', 'SOS', 'SPAQ', 'SPAQ.U', 'SPAQ.W', 'SPB', 'SPCE', 'SPE', 'SPE$B', 'SPG', 'SPG$J', 'SPGI', 'SPH', 'SPLP', 'SPLP$A', 'SPN', 'SPOT', 'SPR', 'SPXC', 'SPXX', 'SQ', 'SQM', 'SQNS', 'SR', 'SR$A', 'SRC', 'SRC$A', 'SRE', 'SRE$A', 'SRE$B', 'SREA', 'SRG', 'SRG$A', 'SRI', 'SRL', 'SRLP', 'SRT', 'SRV', 'SSD', 'SSL', 'SSTK', 'SSY', 'ST', 'STAG', 'STAG$C', 'STAR', 'STAR$D', 'STAR$G', 'STAR$I', 'STC', 'STE', 'STG', 'STK', 'STL', 'STL$A', 'STM', 'STN', 'STNG', 'STON', 'STOR', 'STPP', 'STT', 'STT$D', 'STT$G', 'STWD', 'STXS', 'STZ', 'STZ.B', 'SU', 'SUI', 'SUM', 'SUN', 'SUP', 'SUPV', 'SUZ', 'SVM', 'SVT', 'SWCH', 'SWI', 'SWK', 'SWM', 'SWN', 'SWT', 'SWX', 'SWZ', 'SXC', 'SXI', 'SXT', 'SYF', 'SYF$A', 'SYK', 'SYN', 'SYX', 'SYY', 'SZC', 'T', 'T$A', 'T$C', 'TAC', 'TAK', 'TAL', 'TALO', 'TALO.W', 'TAP', 'TAP.A', 'TAPR', 'TARO', 'TAT', 'TBB', 'TBC', 'TBI', 'TCI', 'TCO', 'TCO$J', 'TCO$K', 'TCP', 'TCS', 'TD', 'TDA', 'TDC', 'TDE', 'TDF', 'TDG', 'TDI', 'TDJ', 'TDOC', 'TDS', 'TDW', 'TDW.A', 'TDW.B', 'TDW.W', 'TDY', 'TEAF', 'TECK', 'TEF', 'TEI', 'TEL', 'TEN', 'TEO', 'TEVA', 'TEX', 'TFC', 'TFC$F', 'TFC$G', 'TFC$H', 'TFC$I', 'TFC$O', 'TFC$R', 'TFII', 'TFX', 'TG', 'TGB', 'TGC', 'TGH', 'TGI', 'TGNA', 'TGP', 'TGP$A', 'TGP$B', 'TGS', 'TGT', 'THC', 'THG', 'THGA', 'THM', 'THO', 'THQ', 'THR', 'THS', 'THW', 'TIF', 'TISI', 'TJX', 'TK', 'TKAT', 'TKC', 'TKR', 'TLI', 'TLK', 'TLYS', 'TM', 'TMBR', 'TME', 'TMHC', 'TMO', 'TMP', 'TMQ', 'TMST', 'TNC', 'TNET', 'TNK', 'TNP', 'TNP$C', 'TNP$D', 'TNP$E', 'TNP$F', 'TOL', 'TOT', 'TPB', 'TPC', 'TPH', 'TPHS', 'TPL', 'TPR', 'TPRE', 'TPVG', 'TPVY', 'TPX', 'TPZ', 'TR', 'TRC', 'TREB', 'TREB.U', 'TREB.W', 'TREC', 'TREX', 'TRGP', 'TRI', 'TRN', 'TRNE', 'TRNE.U', 'TRNE.W', 'TRNO', 'TROX', 'TRP', 'TRQ', 'TRT', 'TRTN', 'TRTN$A', 'TRTN$B', 'TRTN$C', 'TRTN$D', 'TRTX', 'TRU', 'TRV', 'TRWH', 'TRX', 'TRXC', 'TS', 'TSE', 'TSI', 'TSLX', 'TSM', 'TSN', 'TSQ', 'TSU', 'TT', 'TTC', 'TTI', 'TTM', 'TTP', 'TU', 'TUFN', 'TUP', 'TV', 'TVC', 'TVE', 'TWI', 'TWLO', 'TWN', 'TWO', 'TWO$A', 'TWO$B', 'TWO$C', 'TWO$D', 'TWO$E', 'TWTR', 'TX', 'TXT', 'TY', 'TY$', 'TYG', 'TYL', 'UA', 'UAA', 'UAG', 'UAMY', 'UAN', 'UAUD', 'UAVS', 'UBA', 'UBER', 'UBG', 'UBP', 'UBP$H', 'UBP$K', 'UBS', 'UCHF', 'UCI', 'UCIB', 'UDR', 'UE', 'UEC', 'UEUR', 'UFAB', 'UFI', 'UFS', 'UGBP', 'UGI', 'UGP', 'UHS', 'UHT', 'UI', 'UIS', 'UJPY', 'UL', 'UMC', 'UMH', 'UMH$B', 'UMH$C', 'UMH$D', 'UN', 'UNF', 'UNFI', 'UNH', 'UNM', 'UNMA', 'UNP', 'UNVR', 'UPS', 'URG', 'URI', 'USA', 'USAC', 'USAS', 'USB', 'USB$A', 'USB$H', 'USB$M', 'USB$O', 'USB$P', 'USDP', 'USFD', 'USM', 'USNA', 'USPH', 'USV', 'USX', 'UTF', 'UTG', 'UTI', 'UTL', 'UUU', 'UUUU', 'UUUU.W', 'UVE', 'UVV', 'UZA', 'UZB', 'UZC', 'V', 'VAC', 'VAL', 'VALE', 'VAPO', 'VAR', 'VBF', 'VCF', 'VCIF', 'VCRA', 'VCV', 'VEC', 'VEDL', 'VEEV', 'VEL', 'VER', 'VER$F', 'VERT.U', 'VET', 'VFC', 'VFL', 'VGI', 'VGM', 'VGR', 'VGZ', 'VHC', 'VHI', 'VICI', 'VIPS', 'VIST', 'VIV', 'VJET', 'VKI', 'VKQ', 'VLO', 'VLRS', 'VLT', 'VMC', 'VMI', 'VMM', 'VMO', 'VMW', 'VNCE', 'VNE', 'VNO', 'VNO$K', 'VNO$L', 'VNO$M', 'VNRX', 'VNTR', 'VOC', 'VOLT', 'VOYA', 'VOYA$B', 'VPG', 'VPV', 'VQT', 'VRS', 'VRT', 'VRT.W', 'VRTV', 'VSH', 'VSLR', 'VST', 'VST.A', 'VSTO', 'VTA', 'VTN', 'VTOL', 'VTR', 'VVI', 'VVNT', 'VVNT.W', 'VVR', 'VVV', 'VXX', 'VXZ', 'VZ', 'W', 'WAB', 'WAL', 'WALA', 'WAT', 'WBAI', 'WBK', 'WBS', 'WBS$F', 'WBT', 'WCC', 'WCC$A', 'WCN', 'WD', 'WDR', 'WEA', 'WEC', 'WEI', 'WELL', 'WES', 'WEX', 'WF', 'WFC', 'WFC$L', 'WFC$N', 'WFC$O', 'WFC$P', 'WFC$Q', 'WFC$R', 'WFC$T', 'WFC$V', 'WFC$W', 'WFC$X', 'WFC$Y', 'WFC$Z', 'WGO', 'WH', 'WHD', 'WHG', 'WHR', 'WIA', 'WIL', 'WIT', 'WIW', 'WK', 'WLK', 'WLKP', 'WLL', 'WM', 'WMB', 'WMC', 'WMK', 'WMS', 'WMT', 'WNC', 'WNS', 'WOR', 'WORK', 'WOW', 'WPC', 'WPF', 'WPF.U', 'WPF.W', 'WPG', 'WPG$H', 'WPG$I', 'WPM', 'WPP', 'WPX', 'WRB', 'WRB$B', 'WRB$C', 'WRB$D', 'WRB$E', 'WRB$F', 'WRE', 'WRI', 'WRK', 'WRN', 'WSM', 'WSO', 'WSO.B', 'WSR', 'WST', 'WTI', 'WTM', 'WTRG', 'WTRU', 'WTS', 'WTT', 'WTTR', 'WU', 'WUBA', 'WWE', 'WWW', 'WY', 'WYND', 'WYY', 'X', 'XAN', 'XAN$C', 'XEC', 'XFLT', 'XHR', 'XIN', 'XOM', 'XPL', 'XPO', 'XRX', 'XTNT', 'XVZ', 'XXII', 'XYF', 'XYL', 'Y', 'YAC.U', 'YCBD', 'YCBD$A', 'YELP', 'YETI', 'YEXT', 'YGRN', 'YPF', 'YRD', 'YUM', 'YUMC', 'ZBH', 'ZBZX', 'ZDGE', 'ZEN', 'ZEXIT', 'ZIEXT', 'ZNH', 'ZOM', 'ZTEST', 'ZTO', 'ZTR', 'ZTS', 'ZUO', 'ZVV', 'ZXIET', 'ZYME']\n",
      "6750\n"
     ]
    }
   ],
   "source": [
    "x = StockList()"
   ]
  },
  {
   "cell_type": "code",
   "execution_count": 59,
   "metadata": {},
   "outputs": [
    {
     "data": {
      "text/plain": [
       "6750"
      ]
     },
     "execution_count": 59,
     "metadata": {},
     "output_type": "execute_result"
    }
   ],
   "source": [
    "len(set(x))"
   ]
  },
  {
   "cell_type": "code",
   "execution_count": null,
   "metadata": {},
   "outputs": [],
   "source": []
  },
  {
   "cell_type": "code",
   "execution_count": 17,
   "metadata": {},
   "outputs": [],
   "source": [
    "index = pd.date_range(start='2020-07-01', end='today')"
   ]
  },
  {
   "cell_type": "code",
   "execution_count": 18,
   "metadata": {},
   "outputs": [
    {
     "data": {
      "text/plain": [
       "DatetimeIndex(['2020-07-01', '2020-07-02', '2020-07-03', '2020-07-04',\n",
       "               '2020-07-05', '2020-07-06', '2020-07-07', '2020-07-08',\n",
       "               '2020-07-09', '2020-07-10', '2020-07-11', '2020-07-12',\n",
       "               '2020-07-13', '2020-07-14', '2020-07-15', '2020-07-16',\n",
       "               '2020-07-17', '2020-07-18', '2020-07-19', '2020-07-20',\n",
       "               '2020-07-21', '2020-07-22', '2020-07-23', '2020-07-24',\n",
       "               '2020-07-25', '2020-07-26', '2020-07-27', '2020-07-28',\n",
       "               '2020-07-29', '2020-07-30', '2020-07-31', '2020-08-01',\n",
       "               '2020-08-02', '2020-08-03', '2020-08-04', '2020-08-05',\n",
       "               '2020-08-06', '2020-08-07', '2020-08-08', '2020-08-09'],\n",
       "              dtype='datetime64[ns]', freq='D')"
      ]
     },
     "execution_count": 18,
     "metadata": {},
     "output_type": "execute_result"
    }
   ],
   "source": [
    "index"
   ]
  },
  {
   "cell_type": "code",
   "execution_count": null,
   "metadata": {},
   "outputs": [],
   "source": []
  },
  {
   "cell_type": "code",
   "execution_count": 19,
   "metadata": {},
   "outputs": [],
   "source": [
    "df = pd.DataFrame(0 , index = index, columns=x)"
   ]
  },
  {
   "cell_type": "code",
   "execution_count": 20,
   "metadata": {},
   "outputs": [
    {
     "data": {
      "text/html": [
       "<div>\n",
       "<style scoped>\n",
       "    .dataframe tbody tr th:only-of-type {\n",
       "        vertical-align: middle;\n",
       "    }\n",
       "\n",
       "    .dataframe tbody tr th {\n",
       "        vertical-align: top;\n",
       "    }\n",
       "\n",
       "    .dataframe thead th {\n",
       "        text-align: right;\n",
       "    }\n",
       "</style>\n",
       "<table border=\"1\" class=\"dataframe\">\n",
       "  <thead>\n",
       "    <tr style=\"text-align: right;\">\n",
       "      <th></th>\n",
       "      <th>AACG</th>\n",
       "      <th>AACQU</th>\n",
       "      <th>AAL</th>\n",
       "      <th>AAME</th>\n",
       "      <th>AAOI</th>\n",
       "      <th>AAON</th>\n",
       "      <th>AAPL</th>\n",
       "      <th>AAWW</th>\n",
       "      <th>AAXN</th>\n",
       "      <th>ABCB</th>\n",
       "      <th>...</th>\n",
       "      <th>ZNH</th>\n",
       "      <th>ZOM</th>\n",
       "      <th>ZTEST</th>\n",
       "      <th>ZTO</th>\n",
       "      <th>ZTR</th>\n",
       "      <th>ZTS</th>\n",
       "      <th>ZUO</th>\n",
       "      <th>ZVV</th>\n",
       "      <th>ZXIET</th>\n",
       "      <th>ZYME</th>\n",
       "    </tr>\n",
       "  </thead>\n",
       "  <tbody>\n",
       "    <tr>\n",
       "      <th>2020-08-05</th>\n",
       "      <td>0</td>\n",
       "      <td>0</td>\n",
       "      <td>0</td>\n",
       "      <td>0</td>\n",
       "      <td>0</td>\n",
       "      <td>0</td>\n",
       "      <td>0</td>\n",
       "      <td>0</td>\n",
       "      <td>0</td>\n",
       "      <td>0</td>\n",
       "      <td>...</td>\n",
       "      <td>0</td>\n",
       "      <td>0</td>\n",
       "      <td>0</td>\n",
       "      <td>0</td>\n",
       "      <td>0</td>\n",
       "      <td>0</td>\n",
       "      <td>0</td>\n",
       "      <td>0</td>\n",
       "      <td>0</td>\n",
       "      <td>0</td>\n",
       "    </tr>\n",
       "    <tr>\n",
       "      <th>2020-08-06</th>\n",
       "      <td>0</td>\n",
       "      <td>0</td>\n",
       "      <td>0</td>\n",
       "      <td>0</td>\n",
       "      <td>0</td>\n",
       "      <td>0</td>\n",
       "      <td>0</td>\n",
       "      <td>0</td>\n",
       "      <td>0</td>\n",
       "      <td>0</td>\n",
       "      <td>...</td>\n",
       "      <td>0</td>\n",
       "      <td>0</td>\n",
       "      <td>0</td>\n",
       "      <td>0</td>\n",
       "      <td>0</td>\n",
       "      <td>0</td>\n",
       "      <td>0</td>\n",
       "      <td>0</td>\n",
       "      <td>0</td>\n",
       "      <td>0</td>\n",
       "    </tr>\n",
       "    <tr>\n",
       "      <th>2020-08-07</th>\n",
       "      <td>0</td>\n",
       "      <td>0</td>\n",
       "      <td>0</td>\n",
       "      <td>0</td>\n",
       "      <td>0</td>\n",
       "      <td>0</td>\n",
       "      <td>0</td>\n",
       "      <td>0</td>\n",
       "      <td>0</td>\n",
       "      <td>0</td>\n",
       "      <td>...</td>\n",
       "      <td>0</td>\n",
       "      <td>0</td>\n",
       "      <td>0</td>\n",
       "      <td>0</td>\n",
       "      <td>0</td>\n",
       "      <td>0</td>\n",
       "      <td>0</td>\n",
       "      <td>0</td>\n",
       "      <td>0</td>\n",
       "      <td>0</td>\n",
       "    </tr>\n",
       "    <tr>\n",
       "      <th>2020-08-08</th>\n",
       "      <td>0</td>\n",
       "      <td>0</td>\n",
       "      <td>0</td>\n",
       "      <td>0</td>\n",
       "      <td>0</td>\n",
       "      <td>0</td>\n",
       "      <td>0</td>\n",
       "      <td>0</td>\n",
       "      <td>0</td>\n",
       "      <td>0</td>\n",
       "      <td>...</td>\n",
       "      <td>0</td>\n",
       "      <td>0</td>\n",
       "      <td>0</td>\n",
       "      <td>0</td>\n",
       "      <td>0</td>\n",
       "      <td>0</td>\n",
       "      <td>0</td>\n",
       "      <td>0</td>\n",
       "      <td>0</td>\n",
       "      <td>0</td>\n",
       "    </tr>\n",
       "    <tr>\n",
       "      <th>2020-08-09</th>\n",
       "      <td>0</td>\n",
       "      <td>0</td>\n",
       "      <td>0</td>\n",
       "      <td>0</td>\n",
       "      <td>0</td>\n",
       "      <td>0</td>\n",
       "      <td>0</td>\n",
       "      <td>0</td>\n",
       "      <td>0</td>\n",
       "      <td>0</td>\n",
       "      <td>...</td>\n",
       "      <td>0</td>\n",
       "      <td>0</td>\n",
       "      <td>0</td>\n",
       "      <td>0</td>\n",
       "      <td>0</td>\n",
       "      <td>0</td>\n",
       "      <td>0</td>\n",
       "      <td>0</td>\n",
       "      <td>0</td>\n",
       "      <td>0</td>\n",
       "    </tr>\n",
       "  </tbody>\n",
       "</table>\n",
       "<p>5 rows × 6750 columns</p>\n",
       "</div>"
      ],
      "text/plain": [
       "            AACG  AACQU  AAL  AAME  AAOI  AAON  AAPL  AAWW  AAXN  ABCB  ...  \\\n",
       "2020-08-05     0      0    0     0     0     0     0     0     0     0  ...   \n",
       "2020-08-06     0      0    0     0     0     0     0     0     0     0  ...   \n",
       "2020-08-07     0      0    0     0     0     0     0     0     0     0  ...   \n",
       "2020-08-08     0      0    0     0     0     0     0     0     0     0  ...   \n",
       "2020-08-09     0      0    0     0     0     0     0     0     0     0  ...   \n",
       "\n",
       "            ZNH  ZOM  ZTEST  ZTO  ZTR  ZTS  ZUO  ZVV  ZXIET  ZYME  \n",
       "2020-08-05    0    0      0    0    0    0    0    0      0     0  \n",
       "2020-08-06    0    0      0    0    0    0    0    0      0     0  \n",
       "2020-08-07    0    0      0    0    0    0    0    0      0     0  \n",
       "2020-08-08    0    0      0    0    0    0    0    0      0     0  \n",
       "2020-08-09    0    0      0    0    0    0    0    0      0     0  \n",
       "\n",
       "[5 rows x 6750 columns]"
      ]
     },
     "execution_count": 20,
     "metadata": {},
     "output_type": "execute_result"
    }
   ],
   "source": [
    "df.tail()"
   ]
  },
  {
   "cell_type": "code",
   "execution_count": null,
   "metadata": {},
   "outputs": [],
   "source": []
  }
 ],
 "metadata": {
  "kernelspec": {
   "display_name": "venv",
   "language": "python",
   "name": "venv"
  },
  "language_info": {
   "codemirror_mode": {
    "name": "ipython",
    "version": 2
   },
   "file_extension": ".py",
   "mimetype": "text/x-python",
   "name": "python",
   "nbconvert_exporter": "python",
   "pygments_lexer": "ipython2",
   "version": "2.7.17"
  }
 },
 "nbformat": 4,
 "nbformat_minor": 4
}
