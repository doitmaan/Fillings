{
 "cells": [
  {
   "cell_type": "code",
   "execution_count": 1,
   "metadata": {},
   "outputs": [
    {
     "name": "stdout",
     "output_type": "stream",
     "text": [
      "\u001b[33mDEPRECATION: Python 2.7 will reach the end of its life on January 1st, 2020. Please upgrade your Python as Python 2.7 won't be maintained after that date. A future version of pip will drop support for Python 2.7. More details about Python 2 support in pip, can be found at https://pip.pypa.io/en/latest/development/release-process/#python-2-support\u001b[0m\n",
      "Requirement already satisfied: requests in /usr/local/lib/python2.7/site-packages (from -r requirements.txt (line 1)) (2.24.0)\n",
      "Requirement already satisfied: ratelimit in /usr/local/lib/python2.7/site-packages (from -r requirements.txt (line 4)) (2.2.1)\n",
      "Requirement already satisfied: bs4 in /usr/local/lib/python2.7/site-packages (from -r requirements.txt (line 6)) (0.0.1)\n",
      "Requirement already satisfied: pandas in /usr/local/lib/python2.7/site-packages (from -r requirements.txt (line 8)) (0.24.2)\n",
      "Requirement already satisfied: tqdm in /usr/local/lib/python2.7/site-packages (from -r requirements.txt (line 11)) (4.48.2)\n",
      "Requirement already satisfied: lxml in /usr/local/lib/python2.7/site-packages (from -r requirements.txt (line 13)) (4.5.2)\n",
      "Requirement already satisfied: urllib3!=1.25.0,!=1.25.1,<1.26,>=1.21.1 in /usr/local/lib/python2.7/site-packages (from requests->-r requirements.txt (line 1)) (1.25.10)\n",
      "Requirement already satisfied: chardet<4,>=3.0.2 in /usr/local/lib/python2.7/site-packages (from requests->-r requirements.txt (line 1)) (3.0.4)\n",
      "Requirement already satisfied: certifi>=2017.4.17 in /usr/local/lib/python2.7/site-packages (from requests->-r requirements.txt (line 1)) (2020.6.20)\n",
      "Requirement already satisfied: idna<3,>=2.5 in /usr/local/lib/python2.7/site-packages (from requests->-r requirements.txt (line 1)) (2.10)\n",
      "Requirement already satisfied: beautifulsoup4 in /usr/local/lib/python2.7/site-packages (from bs4->-r requirements.txt (line 6)) (4.9.1)\n",
      "Requirement already satisfied: numpy>=1.12.0 in /usr/local/lib/python2.7/site-packages (from pandas->-r requirements.txt (line 8)) (1.16.6)\n",
      "Requirement already satisfied: pytz>=2011k in /usr/local/lib/python2.7/site-packages (from pandas->-r requirements.txt (line 8)) (2019.3)\n",
      "Requirement already satisfied: python-dateutil>=2.5.0 in /usr/local/lib/python2.7/site-packages (from pandas->-r requirements.txt (line 8)) (2.8.1)\n",
      "Requirement already satisfied: soupsieve<2.0 in /usr/local/lib/python2.7/site-packages (from beautifulsoup4->bs4->-r requirements.txt (line 6)) (1.9.6)\n",
      "Requirement already satisfied: six>=1.5 in /usr/local/lib/python2.7/site-packages (from python-dateutil>=2.5.0->pandas->-r requirements.txt (line 8)) (1.14.0)\n",
      "Requirement already satisfied: backports.functools-lru-cache; python_version < \"3\" in /usr/local/lib/python2.7/site-packages (from soupsieve<2.0->beautifulsoup4->bs4->-r requirements.txt (line 6)) (1.6.1)\n"
     ]
    }
   ],
   "source": [
    "\n",
    "import sys\n",
    "!{sys.executable} -m pip install -r requirements.txt"
   ]
  },
  {
   "cell_type": "code",
   "execution_count": 2,
   "metadata": {},
   "outputs": [],
   "source": [
    "from tqdm import tqdm\n",
    "import pandas as pd\n",
    "import pprint\n",
    "import project_helper\n",
    "\n",
    "import lxml\n"
   ]
  },
  {
   "cell_type": "code",
   "execution_count": 3,
   "metadata": {},
   "outputs": [],
   "source": [
    "cik_lookup = {\n",
    "    'AMZN': '0001018724',\n",
    "    'BMY': '0000014272',   \n",
    "    'CNP': '0001130310',\n",
    "    'CVX': '0000093410',\n",
    "    'FL': '0000850209',\n",
    "    'FRT': '0000034903',\n",
    "    'HON': '0000773840'}"
   ]
  },
  {
   "cell_type": "code",
   "execution_count": 4,
   "metadata": {},
   "outputs": [],
   "source": [
    "sec_api = project_helper.SecAPI()\n"
   ]
  },
  {
   "cell_type": "code",
   "execution_count": 5,
   "metadata": {},
   "outputs": [],
   "source": [
    "%psource project_helper\n"
   ]
  },
  {
   "cell_type": "code",
   "execution_count": 8,
   "metadata": {},
   "outputs": [
    {
     "ename": "SyntaxError",
     "evalue": "invalid syntax (<ipython-input-8-8aaa925013b6>, line 14)",
     "output_type": "error",
     "traceback": [
      "\u001b[0;36m  File \u001b[0;32m\"<ipython-input-8-8aaa925013b6>\"\u001b[0;36m, line \u001b[0;32m14\u001b[0m\n\u001b[0;31m    return entries\u001b[0m\n\u001b[0m         ^\u001b[0m\n\u001b[0;31mSyntaxError\u001b[0m\u001b[0;31m:\u001b[0m invalid syntax\n"
     ]
    }
   ],
   "source": [
    "from bs4 import BeautifulSoup\n",
    "\n",
    "def get_sec_data(cik, doc_type, start=0, count=60):\n",
    "    newest_pricing_data = pd.to_datetime('2018-01-01')\n",
    "    rss_url = 'https://www.sec.gov/cgi-bin/browse-edgar?action=getcompany' \\\n",
    "        '&CIK={}&type={}&start={}&count={}&owner=exclude&output=atom' \\\n",
    "        .format(cik, doc_type, start, count)\n",
    "    sec_data = sec_api.get(rss_url)\n",
    "    feed = BeautifulSoup(sec_data.encode('ascii'), 'html').feed\n",
    "    entries = [\n",
    "        (\n",
    "            entry.content.find('filing-href').getText(),\n",
    "            entry.content.find('filing-type').getText(),\n",
    "            entry.content.find('filing-date').getText())\n",
    "        for entry in feed.find_all('entry', recursive=False)\n",
    "        \n",
    "        if pd.to_datetime(entry.content.find('filing-date').getText()) <= newest_pricing_data]\n",
    "   \n",
    "\n",
    "    return entries"
   ]
  },
  {
   "cell_type": "code",
   "execution_count": 51,
   "metadata": {},
   "outputs": [
    {
     "name": "stdout",
     "output_type": "stream",
     "text": [
      "[(u'https://www.sec.gov/Archives/edgar/data/1130310/000113031017000006/0001130310-17-000006-index.htm', u'10-K', u'2017-02-28'), (u'https://www.sec.gov/Archives/edgar/data/1130310/000113031016000031/0001130310-16-000031-index.htm', u'10-K', u'2016-02-26'), (u'https://www.sec.gov/Archives/edgar/data/1130310/000113031015000008/0001130310-15-000008-index.htm', u'10-K', u'2015-02-26'), (u'https://www.sec.gov/Archives/edgar/data/1130310/000113031014000005/0001130310-14-000005-index.htm', u'10-K', u'2014-02-26'), (u'https://www.sec.gov/Archives/edgar/data/1130310/000113031013000006/0001130310-13-000006-index.htm', u'10-K', u'2013-02-27'), (u'https://www.sec.gov/Archives/edgar/data/1130310/000113031012000011/0001130310-12-000011-index.htm', u'10-K', u'2012-02-29'), (u'https://www.sec.gov/Archives/edgar/data/1130310/000113031011000020/0001130310-11-000020-index.htm', u'10-K/A', u'2011-03-30'), (u'https://www.sec.gov/Archives/edgar/data/1130310/000113031011000006/0001130310-11-000006-index.htm', u'10-K', u'2011-03-01'), (u'https://www.sec.gov/Archives/edgar/data/1130310/000113031010000006/0001130310-10-000006-index.htm', u'10-K', u'2010-02-26'), (u'https://www.sec.gov/Archives/edgar/data/1130310/000113031009000004/0001130310-09-000004-index.htm', u'10-K', u'2009-02-25'), (u'https://www.sec.gov/Archives/edgar/data/1130310/000095013408003670/0000950134-08-003670-index.htm', u'10-K', u'2008-02-28'), (u'https://www.sec.gov/Archives/edgar/data/1130310/000095013407004335/0000950134-07-004335-index.htm', u'10-K', u'2007-02-28'), (u'https://www.sec.gov/Archives/edgar/data/1130310/000095013406005252/0000950134-06-005252-index.htm', u'10-K', u'2006-03-16'), (u'https://www.sec.gov/Archives/edgar/data/1130310/000095012906000174/0000950129-06-000174-index.htm', u'10-K/A', u'2006-01-10'), (u'https://www.sec.gov/Archives/edgar/data/1130310/000095012905008803/0000950129-05-008803-index.htm', u'10-K/A', u'2005-08-29'), (u'https://www.sec.gov/Archives/edgar/data/1130310/000095012905002466/0000950129-05-002466-index.htm', u'10-K', u'2005-03-16'), (u'https://www.sec.gov/Archives/edgar/data/1130310/000095012904001267/0000950129-04-001267-index.htm', u'10-K', u'2004-03-15'), (u'https://www.sec.gov/Archives/edgar/data/1130310/000095012903001299/0000950129-03-001299-index.htm', u'10-K', u'2003-03-10'), (u'https://www.sec.gov/Archives/edgar/data/1130310/000095012902001679/0000950129-02-001679-index.htm', u'10-K405', u'2002-04-01')]\n",
      "[(u'https://www.sec.gov/Archives/edgar/data/93410/000009341017000013/0000093410-17-000013-index.htm', u'10-K', u'2017-02-23'), (u'https://www.sec.gov/Archives/edgar/data/93410/000009341016000049/0000093410-16-000049-index.htm', u'10-K', u'2016-02-25'), (u'https://www.sec.gov/Archives/edgar/data/93410/000009341015000010/0000093410-15-000010-index.htm', u'10-K', u'2015-02-20'), (u'https://www.sec.gov/Archives/edgar/data/93410/000009341014000011/0000093410-14-000011-index.htm', u'10-K', u'2014-02-21'), (u'https://www.sec.gov/Archives/edgar/data/93410/000009341013000003/0000093410-13-000003-index.htm', u'10-K', u'2013-02-22'), (u'https://www.sec.gov/Archives/edgar/data/93410/000095012312002976/0000950123-12-002976-index.htm', u'10-K', u'2012-02-23'), (u'https://www.sec.gov/Archives/edgar/data/93410/000095012311017688/0000950123-11-017688-index.htm', u'10-K', u'2011-02-24'), (u'https://www.sec.gov/Archives/edgar/data/93410/000095012310016846/0000950123-10-016846-index.htm', u'10-K', u'2010-02-25'), (u'https://www.sec.gov/Archives/edgar/data/93410/000089161809000054/0000891618-09-000054-index.htm', u'10-K', u'2009-02-26'), (u'https://www.sec.gov/Archives/edgar/data/93410/000095013408005470/0000950134-08-005470-index.htm', u'10-K/A', u'2008-03-27'), (u'https://www.sec.gov/Archives/edgar/data/93410/000095013408003672/0000950134-08-003672-index.htm', u'10-K', u'2008-02-28'), (u'https://www.sec.gov/Archives/edgar/data/93410/000095014907000074/0000950149-07-000074-index.htm', u'10-K', u'2007-02-28'), (u'https://www.sec.gov/Archives/edgar/data/93410/000095014906000076/0000950149-06-000076-index.htm', u'10-K', u'2006-03-01'), (u'https://www.sec.gov/Archives/edgar/data/93410/000095013405004137/0000950134-05-004137-index.htm', u'10-K', u'2005-03-03'), (u'https://www.sec.gov/Archives/edgar/data/93410/000095013404003128/0000950134-04-003128-index.htm', u'10-K', u'2004-03-09'), (u'https://www.sec.gov/Archives/edgar/data/93410/000095014903000567/0000950149-03-000567-index.htm', u'10-K', u'2003-03-17'), (u'https://www.sec.gov/Archives/edgar/data/93410/000095014902000568/0000950149-02-000568-index.htm', u'10-K405', u'2002-03-27'), (u'https://www.sec.gov/Archives/edgar/data/93410/000009341001000015/0000093410-01-000015-index.htm', u'10-K', u'2001-03-28'), (u'https://www.sec.gov/Archives/edgar/data/93410/0000093410-00-000006-index.html', u'10-K', u'2000-03-30'), (u'https://www.sec.gov/Archives/edgar/data/93410/0000093410-99-000034-index.html', u'10-K', u'1999-03-31'), (u'https://www.sec.gov/Archives/edgar/data/93410/0000093410-98-000003-index.html', u'10-K405', u'1998-03-25'), (u'https://www.sec.gov/Archives/edgar/data/93410/0000093410-97-000004-index.html', u'10-K405', u'1997-03-26'), (u'https://www.sec.gov/Archives/edgar/data/93410/0000093410-96-000003-index.html', u'10-K', u'1996-03-27'), (u'https://www.sec.gov/Archives/edgar/data/93410/0000093410-95-000012-index.html', u'10-K', u'1995-03-30'), (u'https://www.sec.gov/Archives/edgar/data/93410/0000093410-94-000002-index.html', u'10-K', u'1994-03-30')]\n",
      "[(u'https://www.sec.gov/Archives/edgar/data/773840/000093041317000391/0000930413-17-000391-index.htm', u'10-K', u'2017-02-10'), (u'https://www.sec.gov/Archives/edgar/data/773840/000093041316005457/0000930413-16-005457-index.htm', u'10-K', u'2016-02-12'), (u'https://www.sec.gov/Archives/edgar/data/773840/000093041315000621/0000930413-15-000621-index.htm', u'10-K', u'2015-02-13'), (u'https://www.sec.gov/Archives/edgar/data/773840/000093041314000634/0000930413-14-000634-index.htm', u'10-K', u'2014-02-14'), (u'https://www.sec.gov/Archives/edgar/data/773840/000093041313000907/0000930413-13-000907-index.htm', u'10-K', u'2013-02-15'), (u'https://www.sec.gov/Archives/edgar/data/773840/000093041312000976/0000930413-12-000976-index.htm', u'10-K', u'2012-02-17'), (u'https://www.sec.gov/Archives/edgar/data/773840/000093041311000961/0000930413-11-000961-index.htm', u'10-K', u'2011-02-11'), (u'https://www.sec.gov/Archives/edgar/data/773840/000093041310000784/0000930413-10-000784-index.htm', u'10-K', u'2010-02-12'), (u'https://www.sec.gov/Archives/edgar/data/773840/000093041309000801/0000930413-09-000801-index.htm', u'10-K', u'2009-02-13'), (u'https://www.sec.gov/Archives/edgar/data/773840/000093041308001037/0000930413-08-001037-index.htm', u'10-K', u'2008-02-15'), (u'https://www.sec.gov/Archives/edgar/data/773840/000093041307001369/0000930413-07-001369-index.htm', u'10-K', u'2007-02-16'), (u'https://www.sec.gov/Archives/edgar/data/773840/000095011706000980/0000950117-06-000980-index.htm', u'10-K', u'2006-03-01'), (u'https://www.sec.gov/Archives/edgar/data/773840/000095011705000756/0000950117-05-000756-index.htm', u'10-K', u'2005-02-25'), (u'https://www.sec.gov/Archives/edgar/data/773840/000095011704000868/0000950117-04-000868-index.htm', u'10-K', u'2004-03-04'), (u'https://www.sec.gov/Archives/edgar/data/773840/000095011703000910/0000950117-03-000910-index.htm', u'10-K', u'2003-03-06'), (u'https://www.sec.gov/Archives/edgar/data/773840/000095011702000539/0000950117-02-000539-index.htm', u'10-K', u'2002-03-20'), (u'https://www.sec.gov/Archives/edgar/data/773840/000095011701000640/0000950117-01-000640-index.htm', u'10-K', u'2001-03-30'), (u'https://www.sec.gov/Archives/edgar/data/773840/000095011700001544/0000950117-00-001544-index.htm', u'10-K405/A', u'2000-06-29'), (u'https://www.sec.gov/Archives/edgar/data/773840/0000950117-00-000401-index.html', u'10-K405', u'2000-02-23'), (u'https://www.sec.gov/Archives/edgar/data/773840/0000950117-99-000452-index.html', u'10-K405', u'1999-03-04'), (u'https://www.sec.gov/Archives/edgar/data/773840/0000950117-98-000419-index.html', u'10-K', u'1998-02-26'), (u'https://www.sec.gov/Archives/edgar/data/773840/0000950117-97-000341-index.html', u'10-K405', u'1997-02-28'), (u'https://www.sec.gov/Archives/edgar/data/773840/0000950117-96-000146-index.html', u'10-K', u'1996-02-27'), (u'https://www.sec.gov/Archives/edgar/data/773840/0000950117-95-000038-index.html', u'10-K', u'1995-03-02'), (u'https://www.sec.gov/Archives/edgar/data/773840/0000950117-94-000067-index.html', u'10-K/A', u'1994-03-15')]\n"
     ]
    },
    {
     "name": "stdout",
     "output_type": "stream",
     "text": [
      "[(u'https://www.sec.gov/Archives/edgar/data/34903/000003490317000008/0000034903-17-000008-index.htm', u'10-K', u'2017-02-13'), (u'https://www.sec.gov/Archives/edgar/data/34903/000003490316000045/0000034903-16-000045-index.htm', u'10-K', u'2016-02-09'), (u'https://www.sec.gov/Archives/edgar/data/34903/000003490315000014/0000034903-15-000014-index.htm', u'10-K', u'2015-02-10'), (u'https://www.sec.gov/Archives/edgar/data/34903/000003490314000009/0000034903-14-000009-index.htm', u'10-K', u'2014-02-11'), (u'https://www.sec.gov/Archives/edgar/data/34903/000003490313000006/0000034903-13-000006-index.htm', u'10-K', u'2013-02-12'), (u'https://www.sec.gov/Archives/edgar/data/34903/000003490312000008/0000034903-12-000008-index.htm', u'10-K', u'2012-02-16'), (u'https://www.sec.gov/Archives/edgar/data/34903/000119312511036800/0001193125-11-036800-index.htm', u'10-K', u'2011-02-15'), (u'https://www.sec.gov/Archives/edgar/data/34903/000119312510033308/0001193125-10-033308-index.htm', u'10-K', u'2010-02-17'), (u'https://www.sec.gov/Archives/edgar/data/34903/000119312509137690/0001193125-09-137690-index.htm', u'10-K/A', u'2009-06-25'), (u'https://www.sec.gov/Archives/edgar/data/34903/000119312509038641/0001193125-09-038641-index.htm', u'10-K', u'2009-02-26'), (u'https://www.sec.gov/Archives/edgar/data/34903/000119312508039905/0001193125-08-039905-index.htm', u'10-K', u'2008-02-27'), (u'https://www.sec.gov/Archives/edgar/data/34903/000119312507043678/0001193125-07-043678-index.htm', u'10-K', u'2007-03-01'), (u'https://www.sec.gov/Archives/edgar/data/34903/000119312506050874/0001193125-06-050874-index.htm', u'10-K/A', u'2006-03-10'), (u'https://www.sec.gov/Archives/edgar/data/34903/000119312506044561/0001193125-06-044561-index.htm', u'10-K', u'2006-03-03'), (u'https://www.sec.gov/Archives/edgar/data/34903/000119312505043736/0001193125-05-043736-index.htm', u'10-K', u'2005-03-07'), (u'https://www.sec.gov/Archives/edgar/data/34903/000095013304001247/0000950133-04-001247-index.htm', u'10-K/A', u'2004-03-31'), (u'https://www.sec.gov/Archives/edgar/data/34903/000095013304001168/0000950133-04-001168-index.htm', u'10-K/A', u'2004-03-26'), (u'https://www.sec.gov/Archives/edgar/data/34903/000095013304000888/0000950133-04-000888-index.htm', u'10-K', u'2004-03-15'), (u'https://www.sec.gov/Archives/edgar/data/34903/000092838503000860/0000928385-03-000860-index.htm', u'10-K', u'2003-03-26'), (u'https://www.sec.gov/Archives/edgar/data/34903/000092838502000915/0000928385-02-000915-index.htm', u'10-K405', u'2002-03-22'), (u'https://www.sec.gov/Archives/edgar/data/34903/000092838501500026/0000928385-01-500026-index.htm', u'10-K405', u'2001-03-15'), (u'https://www.sec.gov/Archives/edgar/data/34903/0000950109-00-001048-index.html', u'10-K405', u'2000-03-21'), (u'https://www.sec.gov/Archives/edgar/data/34903/0000928385-99-000847-index.html', u'10-K', u'1999-03-19'), (u'https://www.sec.gov/Archives/edgar/data/34903/0000928385-98-000440-index.html', u'10-K405', u'1998-03-11'), (u'https://www.sec.gov/Archives/edgar/data/34903/0000928385-97-000296-index.html', u'10-K', u'1997-02-18'), (u'https://www.sec.gov/Archives/edgar/data/34903/0000928385-96-000186-index.html', u'10-K', u'1996-03-15'), (u'https://www.sec.gov/Archives/edgar/data/34903/0000928385-95-000431-index.html', u'10-K405/A', u'1995-09-27'), (u'https://www.sec.gov/Archives/edgar/data/34903/0000898432-95-000073-index.html', u'10-K405', u'1995-03-22'), (u'https://www.sec.gov/Archives/edgar/data/34903/0000898432-94-000032-index.html', u'10-K', u'1994-03-18')]\n",
      "[(u'https://www.sec.gov/Archives/edgar/data/1018724/000101872417000011/0001018724-17-000011-index.htm', u'10-K', u'2017-02-10'), (u'https://www.sec.gov/Archives/edgar/data/1018724/000101872416000172/0001018724-16-000172-index.htm', u'10-K', u'2016-01-29'), (u'https://www.sec.gov/Archives/edgar/data/1018724/000101872415000006/0001018724-15-000006-index.htm', u'10-K', u'2015-01-30'), (u'https://www.sec.gov/Archives/edgar/data/1018724/000101872414000006/0001018724-14-000006-index.htm', u'10-K', u'2014-01-31'), (u'https://www.sec.gov/Archives/edgar/data/1018724/000119312513028520/0001193125-13-028520-index.htm', u'10-K', u'2013-01-30'), (u'https://www.sec.gov/Archives/edgar/data/1018724/000119312512032846/0001193125-12-032846-index.htm', u'10-K', u'2012-02-01'), (u'https://www.sec.gov/Archives/edgar/data/1018724/000119312511050136/0001193125-11-050136-index.htm', u'10-K/A', u'2011-02-28'), (u'https://www.sec.gov/Archives/edgar/data/1018724/000119312511016253/0001193125-11-016253-index.htm', u'10-K', u'2011-01-28'), (u'https://www.sec.gov/Archives/edgar/data/1018724/000119312510016098/0001193125-10-016098-index.htm', u'10-K', u'2010-01-29'), (u'https://www.sec.gov/Archives/edgar/data/1018724/000119312509014406/0001193125-09-014406-index.htm', u'10-K', u'2009-01-30'), (u'https://www.sec.gov/Archives/edgar/data/1018724/000119312508024707/0001193125-08-024707-index.htm', u'10-K', u'2008-02-11'), (u'https://www.sec.gov/Archives/edgar/data/1018724/000119312507034081/0001193125-07-034081-index.htm', u'10-K', u'2007-02-16'), (u'https://www.sec.gov/Archives/edgar/data/1018724/000119312506034166/0001193125-06-034166-index.htm', u'10-K', u'2006-02-17'), (u'https://www.sec.gov/Archives/edgar/data/1018724/000119312505047032/0001193125-05-047032-index.htm', u'10-K', u'2005-03-11'), (u'https://www.sec.gov/Archives/edgar/data/1018724/000119312504029488/0001193125-04-029488-index.htm', u'10-K', u'2004-02-25'), (u'https://www.sec.gov/Archives/edgar/data/1018724/000095014903000355/0000950149-03-000355-index.htm', u'10-K', u'2003-02-19'), (u'https://www.sec.gov/Archives/edgar/data/1018724/000103221002000059/0001032210-02-000059-index.htm', u'10-K405', u'2002-01-24'), (u'https://www.sec.gov/Archives/edgar/data/1018724/000103221001500087/0001032210-01-500087-index.htm', u'10-K405', u'2001-03-23'), (u'https://www.sec.gov/Archives/edgar/data/1018724/000089102000001638/0000891020-00-001638-index.htm', u'10-K/A', u'2000-09-08'), (u'https://www.sec.gov/Archives/edgar/data/1018724/0000891020-00-000622-index.html', u'10-K', u'2000-03-29'), (u'https://www.sec.gov/Archives/edgar/data/1018724/0000891020-99-000375-index.html', u'10-K', u'1999-03-05'), (u'https://www.sec.gov/Archives/edgar/data/1018724/0000891020-98-000448-index.html', u'10-K405', u'1998-03-30')]\n",
      "[(u'https://www.sec.gov/Archives/edgar/data/14272/000001427217000047/0000014272-17-000047-index.htm', u'10-K', u'2017-02-21'), (u'https://www.sec.gov/Archives/edgar/data/14272/000001427216000288/0000014272-16-000288-index.htm', u'10-K', u'2016-02-12'), (u'https://www.sec.gov/Archives/edgar/data/14272/000001427215000055/0000014272-15-000055-index.htm', u'10-K', u'2015-02-13'), (u'https://www.sec.gov/Archives/edgar/data/14272/000001427214000165/0000014272-14-000165-index.htm', u'10-K/A', u'2014-04-03'), (u'https://www.sec.gov/Archives/edgar/data/14272/000001427214000054/0000014272-14-000054-index.htm', u'10-K', u'2014-02-14'), (u'https://www.sec.gov/Archives/edgar/data/14272/000119312513061678/0001193125-13-061678-index.htm', u'10-K', u'2013-02-15'), (u'https://www.sec.gov/Archives/edgar/data/14272/000119312512066416/0001193125-12-066416-index.htm', u'10-K', u'2012-02-17'), (u'https://www.sec.gov/Archives/edgar/data/14272/000119312511040120/0001193125-11-040120-index.htm', u'10-K', u'2011-02-18'), (u'https://www.sec.gov/Archives/edgar/data/14272/000119312510035167/0001193125-10-035167-index.htm', u'10-K', u'2010-02-19'), (u'https://www.sec.gov/Archives/edgar/data/14272/000119312509033538/0001193125-09-033538-index.htm', u'10-K', u'2009-02-20'), (u'https://www.sec.gov/Archives/edgar/data/14272/000119312508035566/0001193125-08-035566-index.htm', u'10-K', u'2008-02-22'), (u'https://www.sec.gov/Archives/edgar/data/14272/000119312507039915/0001193125-07-039915-index.htm', u'10-K', u'2007-02-26'), (u'https://www.sec.gov/Archives/edgar/data/14272/000119312506052456/0001193125-06-052456-index.htm', u'10-K', u'2006-03-14'), (u'https://www.sec.gov/Archives/edgar/data/14272/000119312505041808/0001193125-05-041808-index.htm', u'10-K', u'2005-03-04'), (u'https://www.sec.gov/Archives/edgar/data/14272/000119312504110278/0001193125-04-110278-index.htm', u'10-K/A', u'2004-06-28'), (u'https://www.sec.gov/Archives/edgar/data/14272/000119312504041353/0001193125-04-041353-index.htm', u'10-K', u'2004-03-15'), (u'https://www.sec.gov/Archives/edgar/data/14272/000104746903010810/0001047469-03-010810-index.htm', u'10-K', u'2003-03-28'), (u'https://www.sec.gov/Archives/edgar/data/14272/000104746903009157/0001047469-03-009157-index.htm', u'10-K/A', u'2003-03-19'), (u'https://www.sec.gov/Archives/edgar/data/14272/000091205702013034/0000912057-02-013034-index.htm', u'10-K405', u'2002-04-01'), (u'https://www.sec.gov/Archives/edgar/data/14272/000001427201500006/0000014272-01-500006-index.htm', u'10-K', u'2001-04-02'), (u'https://www.sec.gov/Archives/edgar/data/14272/0000014272-00-000002-index.html', u'10-K', u'2000-03-30'), (u'https://www.sec.gov/Archives/edgar/data/14272/0000014272-99-000002-index.html', u'10-K', u'1999-03-30'), (u'https://www.sec.gov/Archives/edgar/data/14272/0000014272-98-000002-index.html', u'10-K', u'1998-03-31'), (u'https://www.sec.gov/Archives/edgar/data/14272/0000014272-97-000008-index.html', u'10-K', u'1997-03-31'), (u'https://www.sec.gov/Archives/edgar/data/14272/0000014272-96-000002-index.html', u'10-K', u'1996-03-28'), (u'https://www.sec.gov/Archives/edgar/data/14272/0000014272-95-000004-index.html', u'10-K', u'1995-03-29'), (u'https://www.sec.gov/Archives/edgar/data/14272/0000014272-94-000003-index.html', u'10-K', u'1994-03-31')]\n"
     ]
    },
    {
     "name": "stdout",
     "output_type": "stream",
     "text": [
      "[(u'https://www.sec.gov/Archives/edgar/data/850209/000085020917000003/0000850209-17-000003-index.htm', u'10-K', u'2017-03-23'), (u'https://www.sec.gov/Archives/edgar/data/850209/000114420416090138/0001144204-16-090138-index.htm', u'10-K', u'2016-03-24'), (u'https://www.sec.gov/Archives/edgar/data/850209/000114420415019391/0001144204-15-019391-index.htm', u'10-K', u'2015-03-30'), (u'https://www.sec.gov/Archives/edgar/data/850209/000114420414019510/0001144204-14-019510-index.htm', u'10-K', u'2014-03-31'), (u'https://www.sec.gov/Archives/edgar/data/850209/000114420413019239/0001144204-13-019239-index.htm', u'10-K', u'2013-04-01'), (u'https://www.sec.gov/Archives/edgar/data/850209/000114420412017162/0001144204-12-017162-index.htm', u'10-K', u'2012-03-26'), (u'https://www.sec.gov/Archives/edgar/data/850209/000114420411017589/0001144204-11-017589-index.htm', u'10-K', u'2011-03-28'), (u'https://www.sec.gov/Archives/edgar/data/850209/000114420410016376/0001144204-10-016376-index.htm', u'10-K', u'2010-03-29'), (u'https://www.sec.gov/Archives/edgar/data/850209/000120677409000650/0001206774-09-000650-index.htm', u'10-K', u'2009-03-30'), (u'https://www.sec.gov/Archives/edgar/data/850209/000120677408000652/0001206774-08-000652-index.htm', u'10-K', u'2008-03-31'), (u'https://www.sec.gov/Archives/edgar/data/850209/000120677407000876/0001206774-07-000876-index.htm', u'10-K', u'2007-04-02'), (u'https://www.sec.gov/Archives/edgar/data/850209/000120677406000567/0001206774-06-000567-index.htm', u'10-K', u'2006-03-27'), (u'https://www.sec.gov/Archives/edgar/data/850209/000120677405000473/0001206774-05-000473-index.htm', u'10-K', u'2005-03-29'), (u'https://www.sec.gov/Archives/edgar/data/850209/000120677404000280/0001206774-04-000280-index.htm', u'10-K', u'2004-04-05'), (u'https://www.sec.gov/Archives/edgar/data/850209/000095012303006233/0000950123-03-006233-index.htm', u'10-K', u'2003-05-19'), (u'https://www.sec.gov/Archives/edgar/data/850209/000095012302004331/0000950123-02-004331-index.htm', u'10-K', u'2002-04-29'), (u'https://www.sec.gov/Archives/edgar/data/850209/000095012301501033/0000950123-01-501033-index.htm', u'10-K405', u'2001-04-23'), (u'https://www.sec.gov/Archives/edgar/data/850209/0000950123-00-003916-index.html', u'10-K405', u'2000-04-21'), (u'https://www.sec.gov/Archives/edgar/data/850209/0000950123-99-005256-index.html', u'10-K405/A', u'1999-05-28'), (u'https://www.sec.gov/Archives/edgar/data/850209/0000850209-99-000005-index.html', u'10-K405', u'1999-04-30'), (u'https://www.sec.gov/Archives/edgar/data/850209/0000950123-98-003982-index.html', u'10-K405', u'1998-04-21'), (u'https://www.sec.gov/Archives/edgar/data/850209/0000950123-97-003497-index.html', u'10-K405', u'1997-04-25')]\n",
      "[(u'https://www.sec.gov/Archives/edgar/data/1018724/000101872417000011/0001018724-17-000011-index.htm',\n",
      "  u'10-K',\n",
      "  u'2017-02-10'),\n",
      " (u'https://www.sec.gov/Archives/edgar/data/1018724/000101872416000172/0001018724-16-000172-index.htm',\n",
      "  u'10-K',\n",
      "  u'2016-01-29'),\n",
      " (u'https://www.sec.gov/Archives/edgar/data/1018724/000101872415000006/0001018724-15-000006-index.htm',\n",
      "  u'10-K',\n",
      "  u'2015-01-30'),\n",
      " (u'https://www.sec.gov/Archives/edgar/data/1018724/000101872414000006/0001018724-14-000006-index.htm',\n",
      "  u'10-K',\n",
      "  u'2014-01-31'),\n",
      " (u'https://www.sec.gov/Archives/edgar/data/1018724/000119312513028520/0001193125-13-028520-index.htm',\n",
      "  u'10-K',\n",
      "  u'2013-01-30')]\n"
     ]
    }
   ],
   "source": [
    "example_ticker = 'AMZN'\n",
    "sec_data = {}\n",
    "\n",
    "for ticker, cik in cik_lookup.items():\n",
    "    sec_data[ticker] = get_sec_data(cik, '10-K')\n",
    "\n",
    "pprint.pprint(sec_data[example_ticker][:5])"
   ]
  },
  {
   "cell_type": "code",
   "execution_count": 47,
   "metadata": {},
   "outputs": [
    {
     "name": "stderr",
     "output_type": "stream",
     "text": [
      "Downloading CNP Fillings: 100%|██████████| 19/19 [00:22<00:00,  1.21s/filling]\n",
      "Downloading CVX Fillings: 100%|██████████| 25/25 [00:49<00:00,  1.98s/filling]\n",
      "Downloading HON Fillings: 100%|██████████| 25/25 [00:28<00:00,  1.14s/filling]\n",
      "Downloading FRT Fillings: 100%|██████████| 29/29 [00:20<00:00,  1.39filling/s]\n",
      "Downloading AMZN Fillings: 100%|██████████| 22/22 [00:16<00:00,  1.30filling/s]\n",
      "Downloading BMY Fillings: 100%|██████████| 27/27 [00:32<00:00,  1.21s/filling]\n",
      "Downloading FL Fillings: 100%|██████████| 22/22 [00:17<00:00,  1.27filling/s]"
     ]
    },
    {
     "name": "stdout",
     "output_type": "stream",
     "text": [
      "Example Document:\n",
      "\n",
      "-----BEGIN PRIVACY-ENHANCED MESSAGE-----\n",
      "Proc-Type: 2001,MIC-CLEAR\n",
      "Originator-Name: webmaster@www.sec.gov\n",
      "Originator-Key-Asymmetric:\n",
      " MFgwCgYEVQgBAQICAf8DSgAwRwJAW2sNKK9AVtBzYZmr6aGjlWyK3XmZv3dTINen\n",
      " TWSM7vrzLADbmYQaionwg5sDW3P6oaM5D3tdezXMm7z1T+B+twIDAQAB\n",
      "MIC-Info: RSA-MD5,RSA,\n",
      " JheN9rrH0LADcPLNpdgic2Y+wa34llXqe750TowVzUFLd6IuuNQne2H0axAosYFz\n",
      " 1Lmg9dJfEMxBnv2E6NCBrw==\n",
      "\n",
      "<SEC-DOCUMENT>0001193125-05-047032.txt : 20050311\n",
      "<SEC-HEADER>0001193125-05-047032.hdr.sgml : 20050311\n",
      "<ACCEPTANCE-DATETIME>20050311062027\n",
      "ACCESSION NUMBER:\t\t0001193125-05-047032\n",
      "CONFORMED SUBMISSION TYPE:\t10-K\n",
      "PUBLIC DOCUMENT COUNT:\t\t9\n",
      "CONFORMED PERIOD OF REPORT:\t20041231\n",
      "FILED AS OF DATE:\t\t20050311\n",
      "DATE AS OF CHANGE:\t\t20050311\n",
      "\n",
      "FILER:\n",
      "\n",
      "\tCOMPANY DATA:\t\n",
      "\t\tCOMPANY CONFORMED NAME:\t\t\tAMAZON COM INC\n",
      "\t\tCENTRAL INDEX KEY:\t\t\t0001018724\n",
      "\t\tSTANDARD INDUSTRIAL CLASSIFICATION:\tRETAIL-CATALOG & MAIL-ORDER HOUSES [5961]\n",
      "\t\tIRS NUMBER:\t\t\t\t911646860\n",
      "\t\tSTATE OF INCORPORATION:\t\t\tDE\n",
      "\t\tFISCAL YEAR END:\t\t\t1231\n",
      "\n",
      "\tFILING VALUES:\n",
      "\t\tFORM TYPE:\t...\n"
     ]
    },
    {
     "name": "stderr",
     "output_type": "stream",
     "text": [
      "\n"
     ]
    }
   ],
   "source": [
    "raw_fillings_by_ticker = {}\n",
    "\n",
    "for ticker, data in sec_data.items():\n",
    "    raw_fillings_by_ticker[ticker] = {}\n",
    "    for index_url, file_type, file_date in tqdm(data, desc='Downloading {} Fillings'.format(ticker), unit='filling'):\n",
    "        if (file_type == '10-K'):\n",
    "            file_url = index_url.replace('-index.htm', '.txt').replace('.txtl', '.txt')            \n",
    "            \n",
    "            raw_fillings_by_ticker[ticker][file_date] = sec_api.get(file_url)\n",
    "\n",
    "\n",
    "print('Example Document:\\n\\n{}...'.format(next(iter(raw_fillings_by_ticker[example_ticker].values()))[:1000]))"
   ]
  },
  {
   "cell_type": "code",
   "execution_count": null,
   "metadata": {},
   "outputs": [],
   "source": []
  },
  {
   "cell_type": "code",
   "execution_count": null,
   "metadata": {},
   "outputs": [],
   "source": []
  }
 ],
 "metadata": {
  "kernelspec": {
   "display_name": "venv",
   "language": "python",
   "name": "venv"
  },
  "language_info": {
   "codemirror_mode": {
    "name": "ipython",
    "version": 2
   },
   "file_extension": ".py",
   "mimetype": "text/x-python",
   "name": "python",
   "nbconvert_exporter": "python",
   "pygments_lexer": "ipython2",
   "version": "2.7.17"
  }
 },
 "nbformat": 4,
 "nbformat_minor": 4
}
